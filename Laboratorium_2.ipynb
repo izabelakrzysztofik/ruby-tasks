{
 "cells": [
  {
   "cell_type": "markdown",
   "metadata": {},
   "source": [
    "# Łańcuchy znaków - ciąg dalszy"
   ]
  },
  {
   "cell_type": "markdown",
   "metadata": {},
   "source": [
    "### Badanie zawartości łańcucha"
   ]
  },
  {
   "cell_type": "markdown",
   "metadata": {},
   "source": [
    "Ruby posiada bardzo wiele metod pozwalających na wykonywanie różnych operacji na łańcuchach. Do najprostszych z nich należy metoda `empty?`, która zwraca wartość prawdy, jeśli łańcuch jest pusty.\n",
    "\n",
    "Przykład\n",
    "```ruby\n",
    "\"\".empty?\n",
    "```\n",
    "\n",
    "Sprawdź działanie tej metody dla co najmniej dwóch łańcuchów - pustego oraz niepustego."
   ]
  },
  {
   "cell_type": "code",
   "execution_count": 2,
   "metadata": {
    "collapsed": false
   },
   "outputs": [
    {
     "data": {
      "text/plain": [
       "true"
      ]
     },
     "execution_count": 2,
     "metadata": {},
     "output_type": "execute_result"
    }
   ],
   "source": [
    "\"\".empty?\n"
   ]
  },
  {
   "cell_type": "markdown",
   "metadata": {},
   "source": [
    "Bardzo często używaną metodą jest `size` (to samo co `length`). Zwraca ona ilość **znaków** z których składa się łańcuch. Należy wziąć pod uwagę, że ilość znaków, nie musi równać się ilości bajtów, w szczególności dotyczy to napisów zakodowanych w standardzie Unicode (np. UTF-8). Dlatego w Rubym istnieje też metoda `bytesize`, która zwraca ilość bajtów, które napis zajmuje w pamięci.\n",
    "\n",
    "Przykład\n",
    "```ruby\n",
    "\"Łódź\".size\n",
    "\"Łódź\".bytesize\n",
    "```\n",
    "\n",
    "Sprawdź wynik działania tych metod dla napisów zawierających polskie znaki."
   ]
  },
  {
   "cell_type": "code",
   "execution_count": 11,
   "metadata": {
    "collapsed": false
   },
   "outputs": [
    {
     "name": "stdout",
     "output_type": "stream",
     "text": [
      "4\n",
      "7\n"
     ]
    }
   ],
   "source": [
    "puts \"Łódź\".size \n",
    "puts \"Łódź\".bytesize \n",
    "\n"
   ]
  },
  {
   "cell_type": "markdown",
   "metadata": {},
   "source": [
    "### Zadanie 1"
   ]
  },
  {
   "cell_type": "markdown",
   "metadata": {},
   "source": [
    "Sprawdź jaką długość w bajtach ma napis \"─\". Dlaczego?"
   ]
  },
  {
   "cell_type": "code",
   "execution_count": 19,
   "metadata": {
    "collapsed": false
   },
   "outputs": [
    {
     "name": "stdout",
     "output_type": "stream",
     "text": [
      "3\n"
     ]
    }
   ],
   "source": [
    "puts \"─\".bytesize\n"
   ]
  },
  {
   "cell_type": "markdown",
   "metadata": {},
   "source": [
    "Jak widać w wcześniejszym przykładzie, napisy mogą zawierać znaki narodowe. Czasami jednak możemy mieć problem z określeniem, w jakim kodowaniu zapisany jest napis. W tym celu można skorzystać z metody `encoding`, która zwraca kodowanie.\n",
    "\n",
    "Przykład\n",
    "```ruby\n",
    "\"Łódź\".encoding\n",
    "```\n",
    "\n",
    "W Rubim od wersji 2.0 domyślnym kodowaniem jest UTF-8."
   ]
  },
  {
   "cell_type": "code",
   "execution_count": 12,
   "metadata": {
    "collapsed": false
   },
   "outputs": [
    {
     "name": "stdout",
     "output_type": "stream",
     "text": [
      "UTF-8\n"
     ]
    }
   ],
   "source": [
    "puts \"Łódź\".encoding\n"
   ]
  },
  {
   "cell_type": "markdown",
   "metadata": {},
   "source": [
    "W tekstach często poszukujemy wystąpienia określonego znaku. Najprościej znaleźć jego położenie korzystając z metod `index` oraz `rindex`, które zwracają indeks odpowiednio pierwszego od lewej i pierwszego od prawej wystąpienia znaku.\n",
    "\n",
    "Przykład:\n",
    "```ruby\n",
    "\"paczka\".index(\"a\")\n",
    "\"paczka\".rindex(\"a\")\n",
    "```"
   ]
  },
  {
   "cell_type": "code",
   "execution_count": 5,
   "metadata": {
    "collapsed": false
   },
   "outputs": [
    {
     "name": "stdout",
     "output_type": "stream",
     "text": [
      "0\n",
      "5\n"
     ]
    }
   ],
   "source": [
    "puts \"paczka\".index(\"p\")\n",
    "puts \"paczka\".rindex(\"a\")"
   ]
  },
  {
   "cell_type": "markdown",
   "metadata": {},
   "source": [
    "Jednakże metodą, która chyba najczęściej wykonywana jest na łańuchcach znaków jest wydobywanie z nich ich części. W tym celu wykorzystywany jest operator indeksowania `[]`. \n",
    "\n",
    "Do operatora można przekazać pojedynczą wartość - wtedy zostanie zwrócony pojedynczy znak (który również jest łańcuchem):\n",
    "```ruby\n",
    "\"Łódź\"[0]\n",
    "```"
   ]
  },
  {
   "cell_type": "code",
   "execution_count": 16,
   "metadata": {
    "collapsed": false
   },
   "outputs": [
    {
     "data": {
      "text/plain": [
       "\"Ł\""
      ]
     },
     "execution_count": 16,
     "metadata": {},
     "output_type": "execute_result"
    }
   ],
   "source": [
    "\"Łódź\"[0]"
   ]
  },
  {
   "cell_type": "markdown",
   "metadata": {},
   "source": [
    "Można również przekazać _zakres_ indeksów - wtedy zostanie zwróconych kilka znaków:\n",
    "```ruby\n",
    "\"Łódź\"[0..1]\n",
    "``` "
   ]
  },
  {
   "cell_type": "code",
   "execution_count": 17,
   "metadata": {
    "collapsed": false
   },
   "outputs": [
    {
     "data": {
      "text/plain": [
       "\"Łó\""
      ]
     },
     "execution_count": 17,
     "metadata": {},
     "output_type": "execute_result"
    }
   ],
   "source": [
    "\"Łódź\"[0..1]"
   ]
  },
  {
   "cell_type": "markdown",
   "metadata": {},
   "source": [
    "Napisy indeksowane są od 0. Ale możliwe jest wykorzystywanie również indeksów ujemnych. Wtedy napis indeksowany jest od końca, przy założeniu, że ostatni znak ma indeks -1.\n",
    "\n",
    "```ruby\n",
    "\"Łódź\"[-2..-1]\n",
    "```"
   ]
  },
  {
   "cell_type": "code",
   "execution_count": 16,
   "metadata": {
    "collapsed": false
   },
   "outputs": [
    {
     "data": {
      "text/plain": [
       "\"ódź\""
      ]
     },
     "execution_count": 16,
     "metadata": {},
     "output_type": "execute_result"
    }
   ],
   "source": [
    "\"Łódź\"[-3..-1]\n"
   ]
  },
  {
   "cell_type": "markdown",
   "metadata": {},
   "source": [
    "### Zadanie 2"
   ]
  },
  {
   "cell_type": "markdown",
   "metadata": {},
   "source": [
    "Załóżmy, że zmienna `url` zawiera adres zasobu sieciowego. Jak najproście wydostać ostatni element ścieżki takiego zasobu? W poniższym przykładzie napisz kod, który wydostanie napis `Polska` z całego odnośnika."
   ]
  },
  {
   "cell_type": "code",
   "execution_count": 10,
   "metadata": {
    "collapsed": false
   },
   "outputs": [
    {
     "data": {
      "text/plain": [
       "25"
      ]
     },
     "execution_count": 10,
     "metadata": {},
     "output_type": "execute_result"
    }
   ],
   "source": [
    "url=\"http://wikipedia.org/wiki/Polska\"\n",
    "pozycja =url.rindex(\"/\")\n",
    "pozycja"
   ]
  },
  {
   "cell_type": "markdown",
   "metadata": {},
   "source": [
    "### Zmiana zawartości łańcucha"
   ]
  },
  {
   "cell_type": "markdown",
   "metadata": {},
   "source": [
    "Ruby pozwala w prosty sposób zamieniać mały litery na wielkie i vice-versa. Służą do tego metody `upcase` i `downcase`.\n",
    "\n",
    "```ruby\n",
    "\"Warszawa\".upcase\n",
    "```"
   ]
  },
  {
   "cell_type": "code",
   "execution_count": 23,
   "metadata": {
    "collapsed": false
   },
   "outputs": [
    {
     "data": {
      "text/plain": [
       "\"WARSZAWA\""
      ]
     },
     "execution_count": 23,
     "metadata": {},
     "output_type": "execute_result"
    }
   ],
   "source": [
    "\"Warszawa\".upcase"
   ]
  },
  {
   "cell_type": "markdown",
   "metadata": {},
   "source": [
    "Niestety wsparcie dla UTF-8 nie jest kompletne, dlatego metoda ta nie działa dla polskich znaków.\n",
    "\n",
    "```ruby\n",
    "\"Łódź\".upcase\n",
    "```"
   ]
  },
  {
   "cell_type": "code",
   "execution_count": 24,
   "metadata": {
    "collapsed": false
   },
   "outputs": [
    {
     "data": {
      "text/plain": [
       "\"ŁóDź\""
      ]
     },
     "execution_count": 24,
     "metadata": {},
     "output_type": "execute_result"
    }
   ],
   "source": [
    "\"Łódź\".upcase"
   ]
  },
  {
   "cell_type": "markdown",
   "metadata": {},
   "source": [
    "Problem ten można rozwiązać za pomocą biblioteki `string_case_pl`. Aby można było z niej korzystać, trzeba ją wpierw zainstalować. Służy do tego polecenie `gem` - jest to menadżer bibliotek Rubiego.\n",
    "\n",
    "Instalacja jest bardzo prosta - w linii poleceń wystarczy napisać (konieczne jest zatrzymanie IRuby):\n",
    "```\n",
    "gem install string_case_pl\n",
    "```\n",
    "\n",
    "Od momentu instalacji możemy korzystać z biblioteki. Wymaga to jej załadowania za pomocą polecenia `require`\n",
    "\n",
    "```ruby\n",
    "require 'string_case_pl'\n",
    "\"Łódź\".upcase\n",
    "```"
   ]
  },
  {
   "cell_type": "code",
   "execution_count": 12,
   "metadata": {
    "collapsed": false
   },
   "outputs": [
    {
     "ename": "NameError",
     "evalue": "undefined local variable or method `string_case_pl' for main:Object",
     "output_type": "error",
     "traceback": [
      "\u001b[31mNameError\u001b[0m: undefined local variable or method `string_case_pl' for main:Object",
      "\u001b[37m<main>:1:in `<main>'\u001b[0m",
      "\u001b[37m/home/izabela/.rvm/gems/ruby-2.2.3/gems/iruby-0.2.7/lib/iruby/backend.rb:44:in `eval'\u001b[0m",
      "\u001b[37m/home/izabela/.rvm/gems/ruby-2.2.3/gems/iruby-0.2.7/lib/iruby/backend.rb:44:in `eval'\u001b[0m",
      "\u001b[37m/home/izabela/.rvm/gems/ruby-2.2.3/gems/iruby-0.2.7/lib/iruby/backend.rb:12:in `eval'\u001b[0m",
      "\u001b[37m/home/izabela/.rvm/gems/ruby-2.2.3/gems/iruby-0.2.7/lib/iruby/kernel.rb:87:in `execute_request'\u001b[0m",
      "\u001b[37m/home/izabela/.rvm/gems/ruby-2.2.3/gems/iruby-0.2.7/lib/iruby/kernel.rb:47:in `dispatch'\u001b[0m",
      "\u001b[37m/home/izabela/.rvm/gems/ruby-2.2.3/gems/iruby-0.2.7/lib/iruby/kernel.rb:37:in `run'\u001b[0m",
      "\u001b[37m/home/izabela/.rvm/gems/ruby-2.2.3/gems/iruby-0.2.7/lib/iruby/command.rb:70:in `run_kernel'\u001b[0m",
      "\u001b[37m/home/izabela/.rvm/gems/ruby-2.2.3/gems/iruby-0.2.7/lib/iruby/command.rb:34:in `run'\u001b[0m",
      "\u001b[37m/home/izabela/.rvm/gems/ruby-2.2.3/gems/iruby-0.2.7/bin/iruby:5:in `<top (required)>'\u001b[0m",
      "\u001b[37m/home/izabela/.rvm/gems/ruby-2.2.3/bin/iruby:23:in `load'\u001b[0m",
      "\u001b[37m/home/izabela/.rvm/gems/ruby-2.2.3/bin/iruby:23:in `<main>'\u001b[0m",
      "\u001b[37m/home/izabela/.rvm/gems/ruby-2.2.3/bin/ruby_executable_hooks:15:in `eval'\u001b[0m",
      "\u001b[37m/home/izabela/.rvm/gems/ruby-2.2.3/bin/ruby_executable_hooks:15:in `<main>'\u001b[0m"
     ]
    }
   ],
   "source": [
    "require 'string_case_pl'\n",
    "\"Łódź\".upcase\n"
   ]
  },
  {
   "cell_type": "markdown",
   "metadata": {},
   "source": [
    "W Rubim można również łatwo \"poprawić\" łańcuchy, które posiadają zbędne znaki, np. spacje. Metoda `squeeze` usuwa powtarzające się znaki, które leżą obok siebie. Jeśli przekażemy do niej argument, to zostaną usunięte powtórzenia tylko tych znaków.\n",
    "\n",
    "```ruby\n",
    "\"zbyt     wiele     spacji     \".squeeze(\" \")\n",
    "```"
   ]
  },
  {
   "cell_type": "code",
   "execution_count": 13,
   "metadata": {
    "collapsed": false
   },
   "outputs": [
    {
     "data": {
      "text/plain": [
       "\"zbyt wiele spacji \""
      ]
     },
     "execution_count": 13,
     "metadata": {},
     "output_type": "execute_result"
    }
   ],
   "source": [
    "\"zbyt     wiele     spacji     \".squeeze(\" \")\n"
   ]
  },
  {
   "cell_type": "markdown",
   "metadata": {},
   "source": [
    "Metod `strip` natomiast usuwa spacje na początku i na końcu łańcucha\n",
    "```ruby\n",
    "\"      niepotrzebne spacje          \".strip\n",
    "```"
   ]
  },
  {
   "cell_type": "code",
   "execution_count": 3,
   "metadata": {
    "collapsed": false
   },
   "outputs": [
    {
     "data": {
      "text/plain": [
       "\"niepotrzebne spacje\""
      ]
     },
     "execution_count": 3,
     "metadata": {},
     "output_type": "execute_result"
    }
   ],
   "source": [
    "\"      niepotrzebne spacje          \".strip"
   ]
  },
  {
   "cell_type": "markdown",
   "metadata": {},
   "source": [
    "Natomiast metoda `chomp` usuwa ostatni znak, jeśli jest znakiem przejścia do nowej linii\n",
    "```ruby\n",
    "\"hello \\n\".chomp\n",
    "```"
   ]
  },
  {
   "cell_type": "code",
   "execution_count": 15,
   "metadata": {
    "collapsed": false
   },
   "outputs": [
    {
     "data": {
      "text/plain": [
       "\"hello \\n\""
      ]
     },
     "execution_count": 15,
     "metadata": {},
     "output_type": "execute_result"
    }
   ],
   "source": [
    "\"hello \\n\".chomp\n"
   ]
  },
  {
   "cell_type": "markdown",
   "metadata": {},
   "source": [
    "Najważniejszymi metodami należącymi do tej grupy są jednak `sub` oraz `gsub`. Pozwalają one zmieniać zawartość łańcucha na podstawie dopasowania wyrażenia regularnego.\n",
    "\n",
    "`sub` zmienia tylko pierwsze dopasowanie wyrażenia\n",
    "```ruby\n",
    "\"Ala ma kota\".sub(/a/,\"o\")\n",
    "```"
   ]
  },
  {
   "cell_type": "code",
   "execution_count": 22,
   "metadata": {
    "collapsed": false
   },
   "outputs": [
    {
     "name": "stdout",
     "output_type": "stream",
     "text": [
      "Alo ma kota\n"
     ]
    }
   ],
   "source": [
    "puts \"Ala ma kota\".sub(/a/,\"o\")"
   ]
  },
  {
   "cell_type": "markdown",
   "metadata": {},
   "source": [
    "`gsub` zmienia wszystkie dopasowania wyrażenia\n",
    "```ruby\n",
    "\"Ala ma kota\".gsub(/a/,\"o\")\n",
    "```"
   ]
  },
  {
   "cell_type": "code",
   "execution_count": 23,
   "metadata": {
    "collapsed": false
   },
   "outputs": [
    {
     "name": "stdout",
     "output_type": "stream",
     "text": [
      "Alo mo koto\n"
     ]
    }
   ],
   "source": [
    "puts \"Ala ma kota\".gsub(/a/,\"o\")\n"
   ]
  },
  {
   "cell_type": "markdown",
   "metadata": {},
   "source": [
    "### Zadanie 3"
   ]
  },
  {
   "cell_type": "markdown",
   "metadata": {},
   "source": [
    "Napisz wyrażenie, które zastępuje w napisie wszystkie cyfry znakiem `x`. "
   ]
  },
  {
   "cell_type": "code",
   "execution_count": 19,
   "metadata": {
    "collapsed": false
   },
   "outputs": [
    {
     "name": "stdout",
     "output_type": "stream",
     "text": [
      "W domu było xx kotów oraz x psów\n"
     ]
    }
   ],
   "source": [
    "napis = \"W domu było 10 kotów i 5 psów\"\n",
    "napis2 = napis.gsub(/[0,5,1]/,\"x\")\n",
    "puts napis2.gsub(/i/,\"oraz\")\n",
    "\n"
   ]
  },
  {
   "cell_type": "markdown",
   "metadata": {},
   "source": [
    "### Konwersja łańcuchów"
   ]
  },
  {
   "cell_type": "markdown",
   "metadata": {},
   "source": [
    "Pomimo tego, że Ruby jest językiem _silnie typizowanym_ (tzn. nie ma w nim niejawnych konwersji pomiędzy typami), to istnieje wiele metod pozwalających na jawne zamienianie jednych wartości na inne. W przypadku łańcuchów znaków często będziemy zamieniać wartości liczbowe na łańcuchy i _vice-versa_. \n",
    "\n",
    "Aby zamienić liczbę na łańcuch korzystamy z metody `to_s` (robiliśmy to już wcześniej).\n",
    "\n",
    "```ruby\n",
    "10.to_s\n",
    "```\n",
    "\n",
    "Dzięki temu możemy np. skleić napis z liczbą:\n",
    "\n",
    "```ruby\n",
    "\"Wartość liczby to \" + 10.to_s\n",
    "```"
   ]
  },
  {
   "cell_type": "code",
   "execution_count": 21,
   "metadata": {
    "collapsed": false
   },
   "outputs": [
    {
     "name": "stdout",
     "output_type": "stream",
     "text": [
      "Wartość liczby to 10\n"
     ]
    }
   ],
   "source": [
    "puts \"Wartość liczby to \" + 10.to_s\n"
   ]
  },
  {
   "cell_type": "markdown",
   "metadata": {},
   "source": [
    "Metoda ta akceptuje jednak wartość liczbową, która wyznacza podstawę wykorzystywaną do reprezentacji liczby. Domyślnie liczby reprezentowane są w systemie dziesiętnym, ale bardzo łatwo można wykorzystać inny system pozycyjny.\n",
    "\n",
    "```ruby\n",
    "10.to_s\n",
    "10.to_s(2)\n",
    "10.to_s(16)\n",
    "```"
   ]
  },
  {
   "cell_type": "code",
   "execution_count": 20,
   "metadata": {
    "collapsed": false
   },
   "outputs": [
    {
     "name": "stdout",
     "output_type": "stream",
     "text": [
      "10\n",
      "1010\n",
      "a\n"
     ]
    }
   ],
   "source": [
    "puts 10.to_s\n",
    "puts 10.to_s(2)\n",
    "puts 10.to_s(16)\n"
   ]
  },
  {
   "cell_type": "markdown",
   "metadata": {},
   "source": [
    "Istnieją również metody pozwalające na konwersję w drugą stronę. Metoda `to_i` zamienia łańcuch na liczbę\n",
    "```ruby\n",
    "\"10\".to_i\n",
    "\"10\" + \"20\"\n",
    "\"10\".to_i + \"20\".to_i\n",
    "```"
   ]
  },
  {
   "cell_type": "code",
   "execution_count": 27,
   "metadata": {
    "collapsed": false
   },
   "outputs": [
    {
     "name": "stdout",
     "output_type": "stream",
     "text": [
      "10\n",
      "1020\n",
      "30\n"
     ]
    }
   ],
   "source": [
    "puts \"10\".to_i\n",
    "puts \"10\" + \"20\"\n",
    "puts \"10\".to_i + \"20\".to_i"
   ]
  },
  {
   "cell_type": "markdown",
   "metadata": {},
   "source": [
    "Również ta metoda akceptuje parametr, który pozwala określić podstawę systemu:\n",
    "```ruby\n",
    "\"100\".to_i(2)\n",
    "```"
   ]
  },
  {
   "cell_type": "code",
   "execution_count": 24,
   "metadata": {
    "collapsed": false
   },
   "outputs": [
    {
     "data": {
      "text/plain": [
       "8"
      ]
     },
     "execution_count": 24,
     "metadata": {},
     "output_type": "execute_result"
    }
   ],
   "source": [
    "\"8\".to_i(10)"
   ]
  },
  {
   "cell_type": "markdown",
   "metadata": {},
   "source": [
    "Obok niej istnieje również metoda `to_f`, która zamienia napis na liczbę zmiennopozycyjną\n",
    "```ruby\n",
    "\"1.5\".to_i\n",
    "\"1.5\".to_f\n",
    "```"
   ]
  },
  {
   "cell_type": "code",
   "execution_count": 30,
   "metadata": {
    "collapsed": false
   },
   "outputs": [
    {
     "name": "stdout",
     "output_type": "stream",
     "text": [
      "1\n",
      "1.5\n"
     ]
    }
   ],
   "source": [
    "puts \"1.5\".to_i\n",
    "puts \"1.5\".to_f\n"
   ]
  },
  {
   "cell_type": "markdown",
   "metadata": {},
   "source": [
    "### Zadanie 4"
   ]
  },
  {
   "cell_type": "markdown",
   "metadata": {},
   "source": [
    "Jaką reprezentację w systemie ósemkowym ma zapisana w systemie szesnastkowym liczba \"AFC\"?"
   ]
  },
  {
   "cell_type": "code",
   "execution_count": 29,
   "metadata": {
    "collapsed": false
   },
   "outputs": [
    {
     "name": "stdout",
     "output_type": "stream",
     "text": [
      "5374\n"
     ]
    }
   ],
   "source": [
    "napis3 =\"AFC\".to_i(16)\n",
    "napis4 = napis3.to_s(8)\n",
    "puts napis4"
   ]
  },
  {
   "cell_type": "markdown",
   "metadata": {},
   "source": [
    "Ostatnim, często wykorzystywanym typem konwersji łańuchów znaków jest podział łańcucha na części. W wyniku wywołania `split` \n",
    "otrzymujemy tablicę łańcuchów, podzielonych w miejscu, w którym wystąpił znak przekazany do tej metody. Domyślnie\n",
    "znakiem tym jest spacja.\n",
    "\n",
    "```ruby\n",
    "\"Ala ma kota, a kot jest persem.\".split\n",
    "```"
   ]
  },
  {
   "cell_type": "code",
   "execution_count": 57,
   "metadata": {
    "collapsed": false
   },
   "outputs": [
    {
     "data": {
      "text/plain": [
       "[\"Ala\", \"ma\", \"kota,\", \"a\", \"kot\", \"jest\", \"persem.\"]"
      ]
     },
     "execution_count": 57,
     "metadata": {},
     "output_type": "execute_result"
    }
   ],
   "source": [
    "\"Ala ma kota, a kot jest persem.\".split\n"
   ]
  },
  {
   "cell_type": "markdown",
   "metadata": {},
   "source": [
    "Metoda ta akceptuje również wyrażenia regularne.\n",
    "```ruby\n",
    "\"Ala ma kota, a kot jest persem.\".split(/\\s[,.?!]?|[,.?!]$/)\n",
    "```"
   ]
  },
  {
   "cell_type": "code",
   "execution_count": 58,
   "metadata": {
    "collapsed": false
   },
   "outputs": [
    {
     "data": {
      "text/plain": [
       "[\"Ala\", \"ma\", \"kota,\", \"a\", \"kot\", \"jest\", \"persem\"]"
      ]
     },
     "execution_count": 58,
     "metadata": {},
     "output_type": "execute_result"
    }
   ],
   "source": [
    "\"Ala ma kota, a kot jest persem.\".split(/\\s[,.?!]?|[,.?!]$/)"
   ]
  },
  {
   "cell_type": "markdown",
   "metadata": {},
   "source": [
    "### Zadanie 5"
   ]
  },
  {
   "cell_type": "markdown",
   "metadata": {},
   "source": [
    "Przetestuj wyrażenie z poprzedniego zadania z różnymi napisami zawierającymi wiele zdań."
   ]
  },
  {
   "cell_type": "code",
   "execution_count": 59,
   "metadata": {
    "collapsed": false
   },
   "outputs": [
    {
     "name": "stdout",
     "output_type": "stream",
     "text": [
      "[\"\", \"Ostatnim,\", \"często\", \"wykorzystywanym\", \"typem\", \"konwersji\", \"łańuchów\", \"znaków\", \"jest\", \"podział\", \"łańcucha\", \"na\", \"części.\", \"W\", \"wyniku.\", \"wywołania\", \"otrzymujemy\", \"tablicę\", \"łańcuchów,\", \"podzielonych\", \"w\", \"miejscu,\", \"w\", \"którym\", \"wystąpił\", \"znak\", \"przekazany\", \"do\", \"tej\", \"metody.\", \"Domyślnie\", \"znakiem\", \"tym\", \"jest\", \"spacja\"]\n"
     ]
    }
   ],
   "source": [
    "puts \" Ostatnim, często wykorzystywanym typem konwersji łańuchów znaków jest podział łańcucha na części. W wyniku. wywołania otrzymujemy tablicę łańcuchów, podzielonych w miejscu, w którym wystąpił znak przekazany do tej metody. Domyślnie znakiem tym jest spacja.\".split(/\\s[,.?!]?|[,.?!]$/)"
   ]
  },
  {
   "cell_type": "markdown",
   "metadata": {},
   "source": [
    "### Metody modyfikujące oryginalny łańcuch"
   ]
  },
  {
   "cell_type": "markdown",
   "metadata": {},
   "source": [
    "Większość metod działających na łańcuchach nie modyfikuje orginalnej wartości, lecz zwraca zmodyfikowaną kopię łańcucha. Wyjątkiem jest np. metoda `<<`, służąca do konkatenacji. Isnieje jednak szereg metod pozwalających na modyfikowanie oryginalnego łańcucha znaków. Charakteryzują się one tym, że na końcu nazwy pojawia się wykrzyknik.\n",
    "\n",
    "Przykładowo metoda `downcase` zwraca kopię łańucha, a metoda `downcase!` modyfikuje oryginalny łańcuch\n",
    "```ruby\n",
    "napis = \"Janek\"\n",
    "nowy_napis = napis.downcase\n",
    "puts nowy_napis\n",
    "puts napis\n",
    "\n",
    "napis = \"Janek\"\n",
    "nowy_napis = napis.downcase!\n",
    "puts nowy_napis\n",
    "puts napis\n",
    "```\n"
   ]
  },
  {
   "cell_type": "code",
   "execution_count": 30,
   "metadata": {
    "collapsed": false
   },
   "outputs": [
    {
     "name": "stdout",
     "output_type": "stream",
     "text": [
      "janek\n",
      "janek\n"
     ]
    }
   ],
   "source": [
    "napis = \"Janek\"\n",
    "nowy_napis = napis.downcase!\n",
    "puts nowy_napis\n",
    "puts napis\n"
   ]
  },
  {
   "cell_type": "markdown",
   "metadata": {},
   "source": [
    "Istnieje istotna różnica pomiędzy obiema metodami. Poza tym, że metoda z wykrzyknikiem modyfikuje oryginalny łańuch, to dodatkowo - jeśli w łańcuchu nie nastąpi żadna zmiana, zwraca ona wartość `nil`.\n",
    "\n",
    "Dlatego jeśli chcemy połączyć kilka metod modyfikujących jeden łańcuch powinniśmy wykorzystywać metody bez wykrzyknika\n",
    "```ruby\n",
    "puts \"  POWITANIE    ZE   SPACJJAMI  \".squeeze.strip.downcase\n",
    "puts \"powitanie ze spacjami\".squeeze.strip.downcase\n",
    "puts \"  POWITANIE    ZE   SPACJJAMI  \".squeeze!.strip!.downcase!\n",
    "puts \"powitanie ze spacjami\".squeeze!.strip!.downcase!\n",
    "```"
   ]
  },
  {
   "cell_type": "code",
   "execution_count": 41,
   "metadata": {
    "collapsed": false
   },
   "outputs": [
    {
     "name": "stdout",
     "output_type": "stream",
     "text": [
      "powitanie ze spacjami\n",
      "powitanie ze spacjami\n",
      "powitanie ze spacjami\n",
      "powitanie ze spacjami\n"
     ]
    }
   ],
   "source": [
    "puts \"  POWITANIE    ZE   SPACJJAMI  \".squeeze.strip.downcase\n",
    "puts \"powitanie ze spacjami\".squeeze.strip.downcase\n",
    "puts \"  POWITANIE    ZE   SPACJJAMI  \".squeeze!.strip.downcase!\n",
    "puts \"powitanie ze spacjami\".squeeze.strip.downcase"
   ]
  },
  {
   "cell_type": "markdown",
   "metadata": {},
   "source": [
    "### Zadanie 6"
   ]
  },
  {
   "cell_type": "markdown",
   "metadata": {},
   "source": [
    "Napisz wyrażenie, które modyfikuje napis, tak, że małe litery zamienane są na wielkie, potwarzające litery \"I\" są usuwane, a wszystkie wystąpienia litery \"A\" zamieniane są na wystąpienia litery \"O\". Polskie litery również powinny być zamienione."
   ]
  },
  {
   "cell_type": "code",
   "execution_count": 36,
   "metadata": {
    "collapsed": false
   },
   "outputs": [
    {
     "ename": "LoadError",
     "evalue": "cannot load such file -- string_case_pl",
     "output_type": "error",
     "traceback": [
      "\u001b[31mLoadError\u001b[0m: cannot load such file -- string_case_pl",
      "\u001b[37m/home/izabela/.rvm/rubies/ruby-2.2.3/lib/ruby/site_ruby/2.2.0/rubygems/core_ext/kernel_require.rb:54:in `require'\u001b[0m",
      "\u001b[37m/home/izabela/.rvm/rubies/ruby-2.2.3/lib/ruby/site_ruby/2.2.0/rubygems/core_ext/kernel_require.rb:54:in `require'\u001b[0m",
      "\u001b[37m<main>:1:in `<main>'\u001b[0m",
      "\u001b[37m/home/izabela/.rvm/gems/ruby-2.2.3/gems/iruby-0.2.7/lib/iruby/backend.rb:44:in `eval'\u001b[0m",
      "\u001b[37m/home/izabela/.rvm/gems/ruby-2.2.3/gems/iruby-0.2.7/lib/iruby/backend.rb:44:in `eval'\u001b[0m",
      "\u001b[37m/home/izabela/.rvm/gems/ruby-2.2.3/gems/iruby-0.2.7/lib/iruby/backend.rb:12:in `eval'\u001b[0m",
      "\u001b[37m/home/izabela/.rvm/gems/ruby-2.2.3/gems/iruby-0.2.7/lib/iruby/kernel.rb:87:in `execute_request'\u001b[0m",
      "\u001b[37m/home/izabela/.rvm/gems/ruby-2.2.3/gems/iruby-0.2.7/lib/iruby/kernel.rb:47:in `dispatch'\u001b[0m",
      "\u001b[37m/home/izabela/.rvm/gems/ruby-2.2.3/gems/iruby-0.2.7/lib/iruby/kernel.rb:37:in `run'\u001b[0m",
      "\u001b[37m/home/izabela/.rvm/gems/ruby-2.2.3/gems/iruby-0.2.7/lib/iruby/command.rb:70:in `run_kernel'\u001b[0m",
      "\u001b[37m/home/izabela/.rvm/gems/ruby-2.2.3/gems/iruby-0.2.7/lib/iruby/command.rb:34:in `run'\u001b[0m",
      "\u001b[37m/home/izabela/.rvm/gems/ruby-2.2.3/gems/iruby-0.2.7/bin/iruby:5:in `<top (required)>'\u001b[0m",
      "\u001b[37m/home/izabela/.rvm/gems/ruby-2.2.3/bin/iruby:23:in `load'\u001b[0m",
      "\u001b[37m/home/izabela/.rvm/gems/ruby-2.2.3/bin/iruby:23:in `<main>'\u001b[0m",
      "\u001b[37m/home/izabela/.rvm/gems/ruby-2.2.3/bin/ruby_executable_hooks:15:in `eval'\u001b[0m",
      "\u001b[37m/home/izabela/.rvm/gems/ruby-2.2.3/bin/ruby_executable_hooks:15:in `<main>'\u001b[0m"
     ]
    }
   ],
   "source": [
    "require 'string_case_pl'\n",
    "puts \"II Klasa szkoły podstawowej. Ala ma kota. To kot, a to Ala.\".upcase.squeeze(\"I\").gsub(/A/,\"O\")"
   ]
  }
 ],
 "metadata": {
  "kernelspec": {
   "display_name": "Ruby 2.2.3",
   "language": "ruby",
   "name": "ruby"
  },
  "language_info": {
   "file_extension": "rb",
   "mimetype": "application/x-ruby",
   "name": "ruby",
   "version": "2.2.3"
  }
 },
 "nbformat": 4,
 "nbformat_minor": 0
}
