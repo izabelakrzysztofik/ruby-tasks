{
 "cells": [
  {
   "cell_type": "markdown",
   "metadata": {},
   "source": [
    "# Łańcuchy znaków"
   ]
  },
  {
   "cell_type": "markdown",
   "metadata": {},
   "source": [
    "## Cudzysłowy"
   ]
  },
  {
   "cell_type": "markdown",
   "metadata": {},
   "source": [
    "Wyświetl na ektranie łańcuch znaków otoczony podwójnymi cudzysłowami `\"`. Użyj znaku w-tył-ciach `\\` aby wprowadzić znaki specjalne, np.:\n",
    "* `\\n` - znak nowej linii\n",
    "* `\\t` - znak tabulacji poziomej\n",
    "* `\\v` - znak tabulacji pionowej\n",
    "\n",
    "Przykład\n",
    "```ruby\n",
    "puts \"Ala ma kota.\\nAnia ma psa.\"\n",
    "```"
   ]
  },
  {
   "cell_type": "code",
   "execution_count": 17,
   "metadata": {
    "collapsed": false
   },
   "outputs": [
    {
     "name": "stdout",
     "output_type": "stream",
     "text": [
      "Ala ma kota.\n",
      "Ania ma psa.\n"
     ]
    }
   ],
   "source": [
    "puts \"Ala ma kota.\\nAnia ma psa.\""
   ]
  },
  {
   "cell_type": "markdown",
   "metadata": {},
   "source": [
    "Wyświetl łańcuch znaków otoczony pojedynczymi cudzysłowami `'`. Sprawdź działanie znaku `\\`.\n",
    "\n",
    "Przykład\n",
    "\n",
    "```ruby\n",
    "puts 'Ala ma kota.\\nAnia ma psa.'\n",
    "```"
   ]
  },
  {
   "cell_type": "code",
   "execution_count": 2,
   "metadata": {
    "collapsed": false
   },
   "outputs": [
    {
     "name": "stdout",
     "output_type": "stream",
     "text": [
      "Ala ma kota.\\nAnia ma psa.\n"
     ]
    }
   ],
   "source": [
    "puts 'Ala ma kota.\\nAnia ma psa.'"
   ]
  },
  {
   "cell_type": "markdown",
   "metadata": {},
   "source": [
    "### Zadanie 1"
   ]
  },
  {
   "cell_type": "markdown",
   "metadata": {},
   "source": [
    "Stwórz napis który wyświetla się w trzech liniach."
   ]
  },
  {
   "cell_type": "code",
   "execution_count": 9,
   "metadata": {
    "collapsed": false
   },
   "outputs": [
    {
     "name": "stdout",
     "output_type": "stream",
     "text": [
      "Ten napis\n",
      "Powinien wyświetlić się\n",
      "w trzech liniach.\n"
     ]
    }
   ],
   "source": [
    "puts \"Ten napis\\nPowinien wyświetlić się\\nw trzech liniach.\"\n"
   ]
  },
  {
   "cell_type": "markdown",
   "metadata": {},
   "source": [
    "### Zadanie 2"
   ]
  },
  {
   "cell_type": "markdown",
   "metadata": {},
   "source": [
    "Stwórz napis w którym występuje podwójny cudzysłów."
   ]
  },
  {
   "cell_type": "code",
   "execution_count": 1,
   "metadata": {
    "collapsed": false
   },
   "outputs": [
    {
     "name": "stdout",
     "output_type": "stream",
     "text": [
      " \"Napis w którym wyświetla się podwójny cudzysłów\" \n"
     ]
    }
   ],
   "source": [
    "puts ' \"Napis w którym wyświetla się podwójny cudzysłów\" '"
   ]
  },
  {
   "cell_type": "markdown",
   "metadata": {},
   "source": [
    "## Interpolacja"
   ]
  },
  {
   "cell_type": "markdown",
   "metadata": {},
   "source": [
    "W Rubim aby wstawić wartość zmiennej do łańcucha można użyć _interpolacji_. Korzystając z sekwencji #{} można do łańcucha wstawić dowolny kod Rubiego.\n",
    "\n",
    "Sprawdź działanie interpolacji z wykorzystaniem zmiennych.\n",
    "\n",
    "Przykład\n",
    "```ruby\n",
    "imie = \"Aniu\"\n",
    "puts \"Witaj #{imie}\"\n",
    "```"
   ]
  },
  {
   "cell_type": "code",
   "execution_count": 2,
   "metadata": {
    "collapsed": false
   },
   "outputs": [
    {
     "name": "stdout",
     "output_type": "stream",
     "text": [
      "Witaj Aniu\n"
     ]
    }
   ],
   "source": [
    "imie = \"Aniu\"\n",
    "puts \"Witaj #{imie}\""
   ]
  },
  {
   "cell_type": "markdown",
   "metadata": {},
   "source": [
    "Podobny efekt można uzyskać za pomocą operatora dodawania `+`. \n",
    "\n",
    "Przykład\n",
    "```ruby\n",
    "imie = \"Aniu\"\n",
    "puts \"Witaj \" + imie\n",
    "```"
   ]
  },
  {
   "cell_type": "code",
   "execution_count": 3,
   "metadata": {
    "collapsed": false
   },
   "outputs": [
    {
     "name": "stdout",
     "output_type": "stream",
     "text": [
      "Witaj Aniu\n"
     ]
    }
   ],
   "source": [
    "imie = \"Aniu\"\n",
    "puts \"Witaj \" + imie"
   ]
  },
  {
   "cell_type": "markdown",
   "metadata": {},
   "source": [
    "Istnieje jednak istotna różnica pomiędzy tymi narzędziami. W przypadku interpolacji zawsze niejawnie następuje zamiana wartości\n",
    "na łańcuch znaków. W przypadku dodawania nic takiego się nie dzieje, więc wartość musi już być łańcuchem.\n",
    "  \n",
    "Spróbuj wykonać następujący kod:\n",
    "```ruby\n",
    "imie = \"Aniu\"\n",
    "puts \"Witaj \" + imie\n",
    "liczba = 2\n",
    "puts \"Witaj \" + liczba\n",
    "```"
   ]
  },
  {
   "cell_type": "code",
   "execution_count": 7,
   "metadata": {
    "collapsed": false
   },
   "outputs": [
    {
     "name": "stdout",
     "output_type": "stream",
     "text": [
      "Witaj Aniu\n",
      "Witaj 2\n"
     ]
    }
   ],
   "source": [
    "imie = \"Aniu\"\n",
    "puts \"Witaj \" + imie\n",
    "liczba = 2\n",
    "puts \"Witaj \" + liczba.to_s\n"
   ]
  },
  {
   "cell_type": "markdown",
   "metadata": {},
   "source": [
    "Aby weliminować występujący problem, konieczne jest wcześniejsze zamienienie liczby na łańcuch znaków.\n",
    "Służy do tego metoda `to_s`.\n",
    "\n",
    "Przykład\n",
    "```ruby\n",
    "liczba = 2\n",
    "puts \"Witaj \" + liczba.to_s\n",
    "```"
   ]
  },
  {
   "cell_type": "code",
   "execution_count": 6,
   "metadata": {
    "collapsed": false
   },
   "outputs": [
    {
     "name": "stdout",
     "output_type": "stream",
     "text": [
      "Witaj Aniu\n",
      "Witaj 2\n"
     ]
    }
   ],
   "source": [
    "imie = \"Aniu\"\n",
    "puts \"Witaj \" + imie\n",
    "liczba = 2\n",
    "puts \"Witaj \" + liczba.to_s\n",
    "\n"
   ]
  },
  {
   "cell_type": "markdown",
   "metadata": {},
   "source": [
    "W przypadku interpolacji metoda `to_s` jest wywoływana niejawnie. Jeśli zatem umieszczasz wartości różnych zmiennych w napisie,\n",
    "prościej jest użyć interpolacji.\n",
    "\n",
    "Jednakże interpolacja nie działa w przypadku łańcuchów otoczonych pojedynczymi cudzysłowami.\n",
    "\n",
    "Przykład\n",
    "```ruby\n",
    "liczba = 2\n",
    "puts 'Witaj #{liczba}'\n",
    "```"
   ]
  },
  {
   "cell_type": "code",
   "execution_count": 8,
   "metadata": {
    "collapsed": false
   },
   "outputs": [
    {
     "name": "stdout",
     "output_type": "stream",
     "text": [
      "Witaj 2\n"
     ]
    }
   ],
   "source": [
    "liczba = 2\n",
    "puts \"Witaj #{liczba}\"\n"
   ]
  },
  {
   "cell_type": "markdown",
   "metadata": {},
   "source": [
    "### Zadanie 3"
   ]
  },
  {
   "cell_type": "markdown",
   "metadata": {},
   "source": [
    "Obliczy wynik podzielenia 777 przez 11. Wynik wyświetl w postaci komunikatu: \"Wynik dzielenia 777 przez 11 to:...\""
   ]
  },
  {
   "cell_type": "code",
   "execution_count": 9,
   "metadata": {
    "collapsed": false
   },
   "outputs": [
    {
     "name": "stdout",
     "output_type": "stream",
     "text": [
      "Wynik dzielenia 777 przez 11 to: 70.63636363636364\n"
     ]
    }
   ],
   "source": [
    "wynik=777.0/11\n",
    "puts \"Wynik dzielenia 777 przez 11 to: #{wynik}\""
   ]
  },
  {
   "cell_type": "markdown",
   "metadata": {},
   "source": [
    "## Dokumenty zagnieżdżone"
   ]
  },
  {
   "cell_type": "markdown",
   "metadata": {},
   "source": [
    "Czasami w programie przydatne jest użycie łańcucha składającego się z wielu wierszy. \n",
    "Można to zrobić następująco:\n",
    "\n",
    "```ruby\n",
    "napis = \"Ala ma kota.\\nAnia ma psa.\\nOla ma szynszyle\"\n",
    "```\n",
    "\n",
    "Wygodniej jest jednak użyć dokumentów zagnieżdżonych. Dokument taki zaczyna się od sekwencji `<<`, po której pojawia się łańcuch znaków, oznaczający koniec - _znacznik końca_. Cały tekst, aż do wystąpienia znacznika końca, traktowany jest jak pojedynczy łańcuch oddzielony znakami nowej linii.\n",
    "\n",
    "Przykład\n",
    "```\n",
    "tekst = <<END_OF_STRING\n",
    "Remember those walls I built?\n",
    "Well, baby they're tumbling down\n",
    "And they didn't even put up a fight\n",
    "They didn't even make a sound\n",
    "I found a way to let you in\n",
    "But, I never really had a doubt\n",
    "Standing in the light of your halo\n",
    "I got my angel now\n",
    "END_OF_STRING\n",
    "\n",
    "puts tekst\n",
    "```"
   ]
  },
  {
   "cell_type": "code",
   "execution_count": 8,
   "metadata": {
    "collapsed": false
   },
   "outputs": [
    {
     "name": "stdout",
     "output_type": "stream",
     "text": [
      "Remember those walls I built?\n",
      "Well, baby they're tumbling down\n",
      "And they didn't even put up a fight\n",
      "They didn't even make a sound\n",
      "I found a way to let you in\n",
      "But, I never really had a doubt\n",
      "Standing in the light of your halo\n",
      "I got my angel now\n",
      "\n"
     ]
    }
   ],
   "source": [
    "tekst = <<END_OF_STRING\n",
    "Remember those walls I built?\n",
    "Well, baby they're tumbling down\n",
    "And they didn't even put up a fight\n",
    "They didn't even make a sound\n",
    "I found a way to let you in\n",
    "But, I never really had a doubt\n",
    "Standing in the light of your halo\n",
    "I got my angel now\n",
    "END_OF_STRING\n",
    "\n",
    "puts tekst"
   ]
  },
  {
   "cell_type": "markdown",
   "metadata": {},
   "source": [
    "**Ważna uwaga** - interpolacja działa również wewnątrz dokumentów zagnieżdżonych."
   ]
  },
  {
   "cell_type": "markdown",
   "metadata": {},
   "source": [
    "## Operacje na łańcuchach"
   ]
  },
  {
   "cell_type": "markdown",
   "metadata": {},
   "source": [
    "Poza dodawaniem, łańcuchy można również mnożyć, _konkatenować_ (wydłużać) oraz formatować. \n",
    "\n",
    "Mnożenie polega na zwielokrotnieniu zawartości łańcucha:\n",
    "```ruby\n",
    "puts \"Ala \" * 3\n",
    "```"
   ]
  },
  {
   "cell_type": "code",
   "execution_count": 10,
   "metadata": {
    "collapsed": false
   },
   "outputs": [
    {
     "name": "stdout",
     "output_type": "stream",
     "text": [
      "Ala Ala Ala \n"
     ]
    }
   ],
   "source": [
    "puts \"Ala \" * 3"
   ]
  },
  {
   "cell_type": "markdown",
   "metadata": {},
   "source": [
    "### Zadanie 4"
   ]
  },
  {
   "cell_type": "markdown",
   "metadata": {},
   "source": [
    "Wyświetl tabelkę o postaci\n",
    "\n",
    "```\n",
    "+---------+\n",
    "|         |\n",
    "|         |\n",
    "+---------+\n",
    "```\n",
    "składającą się z 10 kolumn i 5 linii (nie licząc obramowania). Wykorzystaj do tego operację mnożenia.\n",
    "Aby potórzyć jakąś operację możesz skorzystać z poniższego kodu:\n",
    "```ruby\n",
    "3.times{ puts \"x\" }\n",
    "```"
   ]
  },
  {
   "cell_type": "code",
   "execution_count": 46,
   "metadata": {
    "collapsed": false
   },
   "outputs": [
    {
     "name": "stdout",
     "output_type": "stream",
     "text": [
      "+----------+\n",
      "|          |\n",
      "|          |\n",
      "|          |\n",
      "|          |\n",
      "|          |\n",
      "+----------+\n"
     ]
    }
   ],
   "source": [
    "puts \"+\" + \"-\" * 10 + \"+\"\n",
    "5.times {puts \"|\" + \" \" * 10 + \"|\" }\n",
    "puts \"+\" + \"-\" * 10 + \"+\"\n"
   ]
  },
  {
   "cell_type": "markdown",
   "metadata": {},
   "source": [
    "Kontatenowanie polega na doklejaniu treści do łańcucha, który jest przypisany do zmiennej:\n",
    "```ruby\n",
    "tekst = \"Remember those walls I built? \"\n",
    "tekst << \"Well, baby they're tumbling down\"\n",
    "puts tekst\n",
    "```"
   ]
  },
  {
   "cell_type": "code",
   "execution_count": 1,
   "metadata": {
    "collapsed": false
   },
   "outputs": [
    {
     "name": "stdout",
     "output_type": "stream",
     "text": [
      "Remember those walls I built? Well, baby they're tumbling down\n"
     ]
    }
   ],
   "source": [
    "tekst = \"Remember those walls I built? \"\n",
    "tekst << \"Well, baby they're tumbling down\"\n",
    "puts tekst\n"
   ]
  },
  {
   "cell_type": "markdown",
   "metadata": {},
   "source": [
    "Użycie operatora `+` w tym wypadku nie dałoby takiego efektu:\n",
    "```ruby\n",
    "tekst = \"Remember those walls I built? \"\n",
    "tekst + \"Well, baby they're tumbling down\"\n",
    "puts tekst\n",
    "```"
   ]
  },
  {
   "cell_type": "code",
   "execution_count": 10,
   "metadata": {
    "collapsed": false
   },
   "outputs": [
    {
     "name": "stdout",
     "output_type": "stream",
     "text": [
      "Remember those walls I built? \n"
     ]
    }
   ],
   "source": [
    "tekst = \"Remember those walls I built? \"\n",
    "tekst + \"Well, baby they're tumbling down\"\n",
    "puts tekst\n"
   ]
  },
  {
   "cell_type": "markdown",
   "metadata": {},
   "source": [
    "Formatowanie jest zaś analogiczne do działania funkcji `printf` w jęcyku C:\n",
    "```ruby\n",
    "puts \"Liczba %.2f\" % 3.567891\n",
    "```"
   ]
  },
  {
   "cell_type": "code",
   "execution_count": 22,
   "metadata": {
    "collapsed": false
   },
   "outputs": [
    {
     "name": "stdout",
     "output_type": "stream",
     "text": [
      "Liczba 3.57\n"
     ]
    }
   ],
   "source": [
    "puts \"Liczba %.2f\" % 3.567891\n"
   ]
  },
  {
   "cell_type": "markdown",
   "metadata": {},
   "source": [
    "**Uwaga** podobnie jak w języku C, formatowanie powoduje zaokrąglenie wartości liczby."
   ]
  },
  {
   "cell_type": "markdown",
   "metadata": {},
   "source": [
    "### Zadanie 5"
   ]
  },
  {
   "cell_type": "markdown",
   "metadata": {},
   "source": [
    "Wyświetl wartość \"1.55555555\" z dokładnością do trzech miejsca po przecinku."
   ]
  },
  {
   "cell_type": "code",
   "execution_count": 13,
   "metadata": {
    "collapsed": false
   },
   "outputs": [
    {
     "name": "stdout",
     "output_type": "stream",
     "text": [
      "Liczba 5.0002.3434343434\n"
     ]
    }
   ],
   "source": [
    "puts \"Liczba %.3f\" % 5. + 2.3434343434.to_s"
   ]
  }
 ],
 "metadata": {
  "kernelspec": {
   "display_name": "Ruby 2.2.3",
   "language": "ruby",
   "name": "ruby"
  },
  "language_info": {
   "file_extension": "rb",
   "mimetype": "application/x-ruby",
   "name": "ruby",
   "version": "2.2.3"
  }
 },
 "nbformat": 4,
 "nbformat_minor": 0
}
