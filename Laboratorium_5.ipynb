{
 "cells": [
  {
   "cell_type": "markdown",
   "metadata": {},
   "source": [
    "# Tablice zwykłe"
   ]
  },
  {
   "cell_type": "markdown",
   "metadata": {},
   "source": [
    "Język Ruby definiuje dwie podstawowe klasy `Array` oraz `Hash`, które wykorzystywane są jak _kontenery_ do przechowywania innych obiektów. W tym laboratorium opiszemy klasę `Array`, która charakteryzuje się tym, że elementy są w niej indeksowane za pomocą liczba. Klasa `Hash` pozwala indeksować elementy za pomocą dowolnych obiektów. Obiekty klasy `Array` będzimy nazywać _tablicami zwykływmi_ (czasami skrótowo po porstu tablicami), a obiekty klasy `Hash` - _tablicami asocjacyjnymi_. "
   ]
  },
  {
   "cell_type": "markdown",
   "metadata": {},
   "source": [
    "## Tworzenie tablic"
   ]
  },
  {
   "cell_type": "markdown",
   "metadata": {},
   "source": [
    "Stowrzenie tablicy zwykłej jest proste - wystarczy ująć dowolny ciąg elementów w nawiasy kwadratowe i oddzielić je przecinkami.\n",
    "\n",
    "```ruby\n",
    "tablica_napisow = [\"Ala\", \"ma\", \"kota\"]\n",
    "```"
   ]
  },
  {
   "cell_type": "code",
   "execution_count": 1,
   "metadata": {
    "collapsed": false
   },
   "outputs": [
    {
     "data": {
      "text/plain": [
       "[\"Ala\", \"ma\", \"kota\"]"
      ]
     },
     "execution_count": 1,
     "metadata": {},
     "output_type": "execute_result"
    }
   ],
   "source": [
    "tablica_napisow = [\"Ala\", \"ma\", \"kota\"]"
   ]
  },
  {
   "cell_type": "markdown",
   "metadata": {},
   "source": [
    "Tablice mogą jednocześnie zawierać elementy różnych typów\n",
    "```ruby\n",
    "dziwna_tablica = [\"Ala\", 10, /abc/]\n",
    "```"
   ]
  },
  {
   "cell_type": "code",
   "execution_count": 4,
   "metadata": {
    "collapsed": false
   },
   "outputs": [
    {
     "data": {
      "text/plain": [
       "[\"Ala\", 10, /abc/]"
      ]
     },
     "execution_count": 4,
     "metadata": {},
     "output_type": "execute_result"
    }
   ],
   "source": [
    "dziwna_tablica = [\"Ala\", 10, /abc/]"
   ]
  },
  {
   "cell_type": "markdown",
   "metadata": {},
   "source": [
    "Aby odwołać się do któregoś spośród elementów tablicy używamy operatora indeksowania `[]`. Dopuszczalnymi wartościami indeksów są liczby naturalne. Tablice indeksowane są od 0.\n",
    "\n",
    "```ruby\n",
    "tablica_napisow = [\"Ala\", \"ma\", \"kota\"]\n",
    "tablica_napisow[0]\n",
    "tablica_napisow[1]\n",
    "```"
   ]
  },
  {
   "cell_type": "code",
   "execution_count": 3,
   "metadata": {
    "collapsed": false
   },
   "outputs": [
    {
     "name": "stdout",
     "output_type": "stream",
     "text": [
      "\"Ala\"\n",
      "\"ma\"\n"
     ]
    },
    {
     "data": {
      "text/plain": [
       "\"ma\""
      ]
     },
     "execution_count": 3,
     "metadata": {},
     "output_type": "execute_result"
    }
   ],
   "source": [
    "tablica_napisow = [\"Ala\", \"ma\", \"kota\"]\n",
    "p tablica_napisow[0]\n",
    "p tablica_napisow[1]"
   ]
  },
  {
   "cell_type": "markdown",
   "metadata": {},
   "source": [
    "Odwołanie się do elementu o indeksie spoza zakresu skutkuje zwróceniem wartości pustej\n",
    "```ruby\n",
    "tablica_liczb = [1,3,5]\n",
    "tablica_liczb[5]\n",
    "```"
   ]
  },
  {
   "cell_type": "code",
   "execution_count": 6,
   "metadata": {
    "collapsed": false
   },
   "outputs": [
    {
     "name": "stdout",
     "output_type": "stream",
     "text": [
      "[1, 3, 5]\n",
      "nil\n"
     ]
    }
   ],
   "source": [
    "p tablica_liczb = [1,3,5]\n",
    "p tablica_liczb[5]"
   ]
  },
  {
   "cell_type": "markdown",
   "metadata": {},
   "source": [
    "Podobnie jak w przypadku napisów, operator zakresu akceptuje przedziały oraz wartości ujemne\n",
    "```ruby\n",
    "tablica_liczb = [1,3,5]\n",
    "tablica_liczb[0..1]\n",
    "tablica_liczb[1..-1]\n",
    "```"
   ]
  },
  {
   "cell_type": "code",
   "execution_count": 7,
   "metadata": {
    "collapsed": false
   },
   "outputs": [
    {
     "name": "stdout",
     "output_type": "stream",
     "text": [
      "[1, 3, 5]\n",
      "[1, 3]\n",
      "[3, 5]\n"
     ]
    },
    {
     "data": {
      "text/plain": [
       "[3, 5]"
      ]
     },
     "execution_count": 7,
     "metadata": {},
     "output_type": "execute_result"
    }
   ],
   "source": [
    "p tablica_liczb = [1,3,5]\n",
    "p tablica_liczb[0..1]\n",
    "p tablica_liczb[1..-1]"
   ]
  },
  {
   "cell_type": "markdown",
   "metadata": {},
   "source": [
    "Ponieważ tablice w Rubim są dynamicznie zarządzane, jedynym ograniczeniem ich rozmiaru jest dostępna pamięć operacyjna.\n",
    "Jeśli przypiszemy wartość do indeksu, który wcześniej nie był zajmowany, wszystkie wcześniejsze indeksy _implicite_ otrzymają\n",
    "wartość `nil`.\n",
    "\n",
    "```ruby\n",
    "tablica_liczba = [1,3,5]\n",
    "p tablica_liczba\n",
    "tablica_liczb[30] = 50\n",
    "p tablica_liczb\n",
    "```"
   ]
  },
  {
   "cell_type": "code",
   "execution_count": 8,
   "metadata": {
    "collapsed": false
   },
   "outputs": [
    {
     "name": "stdout",
     "output_type": "stream",
     "text": [
      "[1, 3, 5]\n",
      "[1, 3, 5, nil, nil, nil, nil, nil, nil, nil, nil, nil, nil, nil, nil, nil, nil, nil, nil, nil, nil, nil, nil, nil, nil, nil, nil, nil, nil, nil, 50]\n"
     ]
    },
    {
     "data": {
      "text/plain": [
       "[1, 3, 5, nil, nil, nil, nil, nil, nil, nil, nil, nil, nil, nil, nil, nil, nil, nil, nil, nil, nil, nil, nil, nil, nil, nil, nil, nil, nil, nil, 50]"
      ]
     },
     "execution_count": 8,
     "metadata": {},
     "output_type": "execute_result"
    }
   ],
   "source": [
    "tablica_liczba = [1,3,5]\n",
    "p tablica_liczba\n",
    "tablica_liczb[30] = 50\n",
    "p tablica_liczb"
   ]
  },
  {
   "cell_type": "markdown",
   "metadata": {},
   "source": [
    "Co więcej, przy przypisywaniu wartości do tablicy można również wskazać zakres wartości, np.\n",
    "```ruby\n",
    "tablica_liczb = [1,3,5]\n",
    "tablica_liczb[1..2] = [2,4,6]\n",
    "tablica_liczb\n",
    "```"
   ]
  },
  {
   "cell_type": "code",
   "execution_count": 9,
   "metadata": {
    "collapsed": false
   },
   "outputs": [
    {
     "name": "stdout",
     "output_type": "stream",
     "text": [
      "[1, 3, 5]\n",
      "[2, 4, 6]\n",
      "[1, 2, 4, 6]\n"
     ]
    },
    {
     "data": {
      "text/plain": [
       "[1, 2, 4, 6]"
      ]
     },
     "execution_count": 9,
     "metadata": {},
     "output_type": "execute_result"
    }
   ],
   "source": [
    "p tablica_liczb = [1,3,5]\n",
    "p tablica_liczb[1..2] = [2,4,6]\n",
    "p tablica_liczb"
   ]
  },
  {
   "cell_type": "markdown",
   "metadata": {},
   "source": [
    "Mechanizm ten pozwala nam rozszerzać tablicę w dowolnym miejscu - nawet bez utraty jej wcześniejszej zawartości. Aby uzyskać ten efekt, konieczne jest wskazanie niedomkniętego zakresu, którego oba końce są identyczne\n",
    "```ruby\n",
    "tablica_liczb = [1,3,5]\n",
    "tablica_liczb[1...1] = [2,4,6]\n",
    "tablica_liczb\n",
    "```"
   ]
  },
  {
   "cell_type": "code",
   "execution_count": 4,
   "metadata": {
    "collapsed": false
   },
   "outputs": [
    {
     "name": "stdout",
     "output_type": "stream",
     "text": [
      "[1, 3, 5]\n",
      "[2, 4, 6]\n",
      "[1, 2, 4, 6, 3, 5]\n"
     ]
    },
    {
     "data": {
      "text/plain": [
       "[1, 2, 4, 6, 3, 5]"
      ]
     },
     "execution_count": 4,
     "metadata": {},
     "output_type": "execute_result"
    }
   ],
   "source": [
    "p tablica_liczb = [1,3,5]\n",
    "p tablica_liczb[1...1] = [2,4,6]\n",
    "p tablica_liczb"
   ]
  },
  {
   "cell_type": "markdown",
   "metadata": {},
   "source": [
    "### Zadanie 1"
   ]
  },
  {
   "cell_type": "markdown",
   "metadata": {},
   "source": [
    "Dla tablicy ```[\"a\",\"b\",\"d\",\"e\"]``` wstaw literę ```\"c\"``` pomiędzy litery b i d."
   ]
  },
  {
   "cell_type": "code",
   "execution_count": 6,
   "metadata": {
    "collapsed": false
   },
   "outputs": [
    {
     "name": "stdout",
     "output_type": "stream",
     "text": [
      "[\"a\", \"b\", \"d\", \"e\"]\n",
      "[\"c\"]\n",
      "[\"a\", \"b\", \"c\", \"d\", \"e\"]\n"
     ]
    },
    {
     "data": {
      "text/plain": [
       "[\"a\", \"b\", \"c\", \"d\", \"e\"]"
      ]
     },
     "execution_count": 6,
     "metadata": {},
     "output_type": "execute_result"
    }
   ],
   "source": [
    "p tablica = [\"a\", \"b\", \"d\", \"e\"]\n",
    "p tablica[2...2] = [\"c\"]\n",
    "p tablica\n"
   ]
  },
  {
   "cell_type": "markdown",
   "metadata": {},
   "source": [
    "Możliwe jest również tworzenie tablic za pomocą konstruktora klasy `Array`\n",
    "```ruby\n",
    "Array.new\n",
    "```"
   ]
  },
  {
   "cell_type": "code",
   "execution_count": 22,
   "metadata": {
    "collapsed": false
   },
   "outputs": [
    {
     "data": {
      "text/plain": [
       "[]"
      ]
     },
     "execution_count": 22,
     "metadata": {},
     "output_type": "execute_result"
    }
   ],
   "source": [
    "Array.new"
   ]
  },
  {
   "cell_type": "markdown",
   "metadata": {},
   "source": [
    "Najczęściej konstruktor ten jednak jest wykorzystywany, jeśli chcemy określić początkowy rozmiar tablicy\n",
    "```ruby\n",
    "Array.new(5)\n",
    "```"
   ]
  },
  {
   "cell_type": "code",
   "execution_count": 23,
   "metadata": {
    "collapsed": false
   },
   "outputs": [
    {
     "data": {
      "text/plain": [
       "[nil, nil, nil, nil, nil]"
      ]
     },
     "execution_count": 23,
     "metadata": {},
     "output_type": "execute_result"
    }
   ],
   "source": [
    "Array.new(5)"
   ]
  },
  {
   "cell_type": "markdown",
   "metadata": {},
   "source": [
    "Możemy również określić początkową zawartość tablicy\n",
    "```ruby\n",
    "Array.new(5,\"a\")\n",
    "```"
   ]
  },
  {
   "cell_type": "code",
   "execution_count": 7,
   "metadata": {
    "collapsed": false
   },
   "outputs": [
    {
     "data": {
      "text/plain": [
       "[\"0\", \"0\", \"0\", \"0\", \"0\"]"
      ]
     },
     "execution_count": 7,
     "metadata": {},
     "output_type": "execute_result"
    }
   ],
   "source": [
    "Array.new(5,\"0\")"
   ]
  },
  {
   "cell_type": "markdown",
   "metadata": {},
   "source": [
    "Jeśli konstruujemy tablicę napisów, możemy skorzystać z wygodniejszego zapisu, w którym unikamy używania cudzysłowów oraz przecinków\n",
    "```ruby\n",
    "tablica_napisow = %w(Ala ma kota)\n",
    "```"
   ]
  },
  {
   "cell_type": "code",
   "execution_count": 9,
   "metadata": {
    "collapsed": false
   },
   "outputs": [
    {
     "data": {
      "text/plain": [
       "[\"Ala\", \"ma\", \"kota\", \",\", \"a\", \"ola\", \"ma\", \"szynszyle\"]"
      ]
     },
     "execution_count": 9,
     "metadata": {},
     "output_type": "execute_result"
    }
   ],
   "source": [
    "tablica_napisow = %w(Ala ma kota , a ola ma szynszyle)"
   ]
  },
  {
   "cell_type": "markdown",
   "metadata": {},
   "source": [
    "### Zadanie 2"
   ]
  },
  {
   "cell_type": "markdown",
   "metadata": {},
   "source": [
    "Jakie litery w alfabecie łacińskim zajmują pozycje od 10 do 15?"
   ]
  },
  {
   "cell_type": "code",
   "execution_count": 37,
   "metadata": {
    "collapsed": false
   },
   "outputs": [
    {
     "name": "stdout",
     "output_type": "stream",
     "text": [
      "[\"a\", \"b\", \"c\", \"d\", \"e\", \"f\", \"g\", \"h\", \"i\", \"j\", \"k\", \"l\", \"m\", \"n\", \"o\", \"p\", \"q\", \"r\", \"s\", \"t\", \"u\", \"v\", \"w\", \"x\", \"y\", \"z\"]\n",
      "[\"j\", \"k\", \"l\", \"m\", \"n\", \"o\"]\n"
     ]
    },
    {
     "data": {
      "text/plain": [
       "[\"j\", \"k\", \"l\", \"m\", \"n\", \"o\"]"
      ]
     },
     "execution_count": 37,
     "metadata": {},
     "output_type": "execute_result"
    }
   ],
   "source": [
    "p alfabet = (\"a\"..\"z\").to_a\n",
    "p alfabet[9..14]"
   ]
  },
  {
   "cell_type": "markdown",
   "metadata": {},
   "source": [
    "## Operatory działające na tablicach"
   ]
  },
  {
   "cell_type": "markdown",
   "metadata": {},
   "source": [
    "Ruby definiuje szereg operatorów, które mogą być wykorzystywane do modyfikowania tablic.\n",
    "W pierwszej kolejności możemy wypórbować działanie operatora `+`.\n",
    "```ruby\n",
    "a = [1,2,3]\n",
    "b = [4,5]\n",
    "a + b\n",
    "```"
   ]
  },
  {
   "cell_type": "code",
   "execution_count": 38,
   "metadata": {
    "collapsed": false
   },
   "outputs": [
    {
     "data": {
      "text/plain": [
       "[1, 2, 3, 4, 5]"
      ]
     },
     "execution_count": 38,
     "metadata": {},
     "output_type": "execute_result"
    }
   ],
   "source": [
    "a = [1,2,3]\n",
    "b = [4,5]\n",
    "a + b"
   ]
  },
  {
   "cell_type": "markdown",
   "metadata": {},
   "source": [
    "Działanie operatora `-` jest również dość intuicyjne."
   ]
  },
  {
   "cell_type": "markdown",
   "metadata": {},
   "source": [
    "```ruby\n",
    "a = [1,2,3]\n",
    "b = [1,3,4]\n",
    "a - b\n",
    "```"
   ]
  },
  {
   "cell_type": "code",
   "execution_count": 39,
   "metadata": {
    "collapsed": false,
    "scrolled": true
   },
   "outputs": [
    {
     "data": {
      "text/plain": [
       "[2]"
      ]
     },
     "execution_count": 39,
     "metadata": {},
     "output_type": "execute_result"
    }
   ],
   "source": [
    "a = [1,2,3]\n",
    "b = [1,3,4]\n",
    "a - b"
   ]
  },
  {
   "cell_type": "markdown",
   "metadata": {},
   "source": [
    "Oba operatory traktują tablice jak ciągi, tzn. wartości w nich mogą się powtarzać:\n",
    "```ruby\n",
    "a = [1,2,3]\n",
    "b = [3,4,5]\n",
    "a + b\n",
    "```"
   ]
  },
  {
   "cell_type": "code",
   "execution_count": 40,
   "metadata": {
    "collapsed": false
   },
   "outputs": [
    {
     "data": {
      "text/plain": [
       "[1, 2, 3, 3, 4, 5]"
      ]
     },
     "execution_count": 40,
     "metadata": {},
     "output_type": "execute_result"
    }
   ],
   "source": [
    "a = [1,2,3]\n",
    "b = [3,4,5]\n",
    "a + b"
   ]
  },
  {
   "cell_type": "markdown",
   "metadata": {},
   "source": [
    "Jeśli chcielibyśmy użyć tablic jako zbiorów, możemy w tym celu wykorzystać opartory `|` (suma teoriomnogościowa) oraz `&` (iloczyn teoriomnogościowy)\n",
    "```ruby\n",
    "a = [1,2,3]\n",
    "b = [2,3,4]\n",
    "a | b\n",
    "```"
   ]
  },
  {
   "cell_type": "code",
   "execution_count": 41,
   "metadata": {
    "collapsed": false
   },
   "outputs": [
    {
     "data": {
      "text/plain": [
       "[1, 2, 3, 4]"
      ]
     },
     "execution_count": 41,
     "metadata": {},
     "output_type": "execute_result"
    }
   ],
   "source": [
    "a = [1,2,3]\n",
    "b = [2,3,4]\n",
    "a | b"
   ]
  },
  {
   "cell_type": "markdown",
   "metadata": {},
   "source": [
    "```ruby\n",
    "a = [1,2,3]\n",
    "b = [2,3,4]\n",
    "a & b\n",
    "```"
   ]
  },
  {
   "cell_type": "code",
   "execution_count": 42,
   "metadata": {
    "collapsed": false
   },
   "outputs": [
    {
     "data": {
      "text/plain": [
       "[2, 3]"
      ]
     },
     "execution_count": 42,
     "metadata": {},
     "output_type": "execute_result"
    }
   ],
   "source": [
    "a = [1,2,3]\n",
    "b = [2,3,4]\n",
    "a & b"
   ]
  },
  {
   "cell_type": "markdown",
   "metadata": {},
   "source": [
    "### Zadanie 3"
   ]
  },
  {
   "cell_type": "markdown",
   "metadata": {},
   "source": [
    "Znajdź wszystkie samogłoski wśród liter alfabetu angielskiego poczynając od ```g```. Wykorzystaj do tego operacje na tablicach i zakresy."
   ]
  },
  {
   "cell_type": "code",
   "execution_count": 50,
   "metadata": {
    "collapsed": false
   },
   "outputs": [
    {
     "name": "stdout",
     "output_type": "stream",
     "text": [
      "[\"y\", \"u\", \"a\", \"i\", \"e\", \"o\"]\n",
      "[\"g\", \"h\", \"i\", \"j\", \"k\", \"l\", \"m\", \"n\", \"o\", \"p\", \"q\", \"r\", \"s\", \"t\", \"u\", \"v\", \"w\", \"x\", \"y\", \"z\"]\n",
      "[\"y\", \"u\", \"i\", \"o\"]\n"
     ]
    },
    {
     "data": {
      "text/plain": [
       "[\"y\", \"u\", \"i\", \"o\"]"
      ]
     },
     "execution_count": 50,
     "metadata": {},
     "output_type": "execute_result"
    }
   ],
   "source": [
    "p samogloski = [\"y\", \"u\", \"a\", \"i\", \"e\", \"o\"]\n",
    "p alfabet = (\"g\"..\"z\").to_a\n",
    "p znajdz = samogloski & alfabet"
   ]
  },
  {
   "cell_type": "markdown",
   "metadata": {},
   "source": [
    "## Tablica jako stos i kolejka"
   ]
  },
  {
   "cell_type": "markdown",
   "metadata": {},
   "source": [
    "Ruby pozwala również wykorzystywać tablice jak kolejki oraz stosy - służą do tego odpowiednie funkcje. Dodanie elementu na koniec tablicy można zrealizować na dwa sposoby. Po pierwsze z wykorzystaniem operatora `<<`\n",
    "```ruby\n",
    "tablica = [1,2,3]\n",
    "tablica << 4\n",
    "tablica\n",
    "```"
   ]
  },
  {
   "cell_type": "code",
   "execution_count": 52,
   "metadata": {
    "collapsed": false
   },
   "outputs": [
    {
     "name": "stdout",
     "output_type": "stream",
     "text": [
      "[1, 2, 3]\n",
      "[1, 2, 3, 4]\n",
      "[1, 2, 3, 4]\n"
     ]
    },
    {
     "data": {
      "text/plain": [
       "[1, 2, 3, 4]"
      ]
     },
     "execution_count": 52,
     "metadata": {},
     "output_type": "execute_result"
    }
   ],
   "source": [
    "p tablica = [1,2,3]\n",
    "p tablica << 4\n",
    "p tablica"
   ]
  },
  {
   "cell_type": "markdown",
   "metadata": {},
   "source": [
    "Po drugie z wykorzystaniem metody `push`\n",
    "```ruby\n",
    "tablica = [1,2,3]\n",
    "tablica.push(4)\n",
    "tablica\n",
    "```"
   ]
  },
  {
   "cell_type": "code",
   "execution_count": 53,
   "metadata": {
    "collapsed": false
   },
   "outputs": [
    {
     "name": "stdout",
     "output_type": "stream",
     "text": [
      "[1, 2, 3]\n",
      "[1, 2, 3, 4]\n",
      "[1, 2, 3, 4]\n"
     ]
    },
    {
     "data": {
      "text/plain": [
       "[1, 2, 3, 4]"
      ]
     },
     "execution_count": 53,
     "metadata": {},
     "output_type": "execute_result"
    }
   ],
   "source": [
    "p tablica = [1,2,3]\n",
    "p tablica.push(4)\n",
    "p tablica"
   ]
  },
  {
   "cell_type": "markdown",
   "metadata": {},
   "source": [
    "Metoda `push` posiada komplementarną wobec niej metodę `pop`, która usuwa ostani element. Pozwala to traktować tablicę jak stos\n",
    "```ruby\n",
    "tablica = [1,2,3]\n",
    "tablica.push(5)\n",
    "tablica.push(7)\n",
    "p tablica\n",
    "tablica.pop\n",
    "tablica.pop\n",
    "tablica.pop\n",
    "p tablica\n",
    "```"
   ]
  },
  {
   "cell_type": "code",
   "execution_count": 54,
   "metadata": {
    "collapsed": false
   },
   "outputs": [
    {
     "name": "stdout",
     "output_type": "stream",
     "text": [
      "[1, 2, 3, 5, 7]\n",
      "[1, 2]\n"
     ]
    },
    {
     "data": {
      "text/plain": [
       "[1, 2]"
      ]
     },
     "execution_count": 54,
     "metadata": {},
     "output_type": "execute_result"
    }
   ],
   "source": [
    "tablica = [1,2,3]\n",
    "tablica.push(5)\n",
    "tablica.push(7)\n",
    "p tablica\n",
    "tablica.pop\n",
    "tablica.pop\n",
    "tablica.pop\n",
    "p tablica"
   ]
  },
  {
   "cell_type": "markdown",
   "metadata": {},
   "source": [
    "Możemy również skorzystać z metody `shift` - wtedy tablica zamienia się w kolejkę\n",
    "```ruby\n",
    "tablica = []\n",
    "tablica.push(1)\n",
    "tablica.push(3)\n",
    "tablica.push(5)\n",
    "tablica.push(7)\n",
    "p tablica.shift\n",
    "p tablica.shift\n",
    "p tablica.shift\n",
    "```"
   ]
  },
  {
   "cell_type": "code",
   "execution_count": 57,
   "metadata": {
    "collapsed": false
   },
   "outputs": [
    {
     "name": "stdout",
     "output_type": "stream",
     "text": [
      "[1]\n",
      "[1, 3]\n",
      "[1, 3, 5]\n",
      "[1, 3, 5, 7]\n",
      "1\n",
      "3\n",
      "5\n",
      "7\n"
     ]
    },
    {
     "data": {
      "text/plain": [
       "7"
      ]
     },
     "execution_count": 57,
     "metadata": {},
     "output_type": "execute_result"
    }
   ],
   "source": [
    "tablica = []\n",
    "p tablica.push(1)\n",
    "p tablica.push(3)\n",
    "p tablica.push(5)\n",
    "p tablica.push(7)\n",
    "p tablica.shift\n",
    "p tablica.shift\n",
    "p tablica.shift\n",
    "p tablica.shift "
   ]
  },
  {
   "cell_type": "markdown",
   "metadata": {},
   "source": [
    "Klasa `Array` posiada również metodę `reverse`, która odwraca kolejność elemntów tablicy\n",
    "```ruby\n",
    "tablica = [1,2,3,4]\n",
    "tablica.reverse\n",
    "```"
   ]
  },
  {
   "cell_type": "code",
   "execution_count": 58,
   "metadata": {
    "collapsed": false
   },
   "outputs": [
    {
     "data": {
      "text/plain": [
       "[4, 3, 2, 1]"
      ]
     },
     "execution_count": 58,
     "metadata": {},
     "output_type": "execute_result"
    }
   ],
   "source": [
    "tablica = [1,2,3,4]\n",
    "tablica.reverse"
   ]
  },
  {
   "cell_type": "markdown",
   "metadata": {},
   "source": [
    "### Zadanie 4"
   ]
  },
  {
   "cell_type": "markdown",
   "metadata": {},
   "source": [
    "Wypisz wszystkie litery alfabetu łacińskiego w odwrotnej kolejności niż standardowa (tzn. zaczynając od ```z```)."
   ]
  },
  {
   "cell_type": "code",
   "execution_count": 60,
   "metadata": {
    "collapsed": false
   },
   "outputs": [
    {
     "name": "stdout",
     "output_type": "stream",
     "text": [
      "[\"z\", \"y\", \"x\", \"w\", \"v\", \"u\", \"t\", \"s\", \"r\", \"q\", \"p\", \"o\", \"n\", \"m\", \"l\", \"k\", \"j\", \"i\", \"h\", \"g\", \"f\", \"e\", \"d\", \"c\", \"b\", \"a\"]\n"
     ]
    },
    {
     "data": {
      "text/plain": [
       "[\"z\", \"y\", \"x\", \"w\", \"v\", \"u\", \"t\", \"s\", \"r\", \"q\", \"p\", \"o\", \"n\", \"m\", \"l\", \"k\", \"j\", \"i\", \"h\", \"g\", \"f\", \"e\", \"d\", \"c\", \"b\", \"a\"]"
      ]
     },
     "execution_count": 60,
     "metadata": {},
     "output_type": "execute_result"
    }
   ],
   "source": [
    "alfabet = (\"a\"..\"z\").to_a\n",
    "p alfabet.reverse"
   ]
  },
  {
   "cell_type": "markdown",
   "metadata": {},
   "source": [
    "## Badanie zawartości tablicy"
   ]
  },
  {
   "cell_type": "markdown",
   "metadata": {},
   "source": [
    "Tablice posiadają metodę `size`, która zwraca ich rozmiar\n",
    "```ruby\n",
    "tablica_liczb = [1,2,3]\n",
    "tablica_liczb.size\n",
    "```"
   ]
  },
  {
   "cell_type": "code",
   "execution_count": 62,
   "metadata": {
    "collapsed": false
   },
   "outputs": [
    {
     "name": "stdout",
     "output_type": "stream",
     "text": [
      "[1, 2, 3]\n",
      "3\n"
     ]
    },
    {
     "data": {
      "text/plain": [
       "3"
      ]
     },
     "execution_count": 62,
     "metadata": {},
     "output_type": "execute_result"
    }
   ],
   "source": [
    "p tablica_liczb = [1,2,3]\n",
    "p tablica_liczb.size"
   ]
  },
  {
   "cell_type": "markdown",
   "metadata": {},
   "source": [
    "Możemy również sprawdzić czy tablica jest pusta, za pomocą wywołania `empty?`\n",
    "```ruby\n",
    "p [].empty?\n",
    "p [1,2,3].empty?\n",
    "```"
   ]
  },
  {
   "cell_type": "code",
   "execution_count": 63,
   "metadata": {
    "collapsed": false
   },
   "outputs": [
    {
     "name": "stdout",
     "output_type": "stream",
     "text": [
      "true\n",
      "false\n"
     ]
    },
    {
     "data": {
      "text/plain": [
       "false"
      ]
     },
     "execution_count": 63,
     "metadata": {},
     "output_type": "execute_result"
    }
   ],
   "source": [
    "p [].empty?\n",
    "p [1,2,3].empty?"
   ]
  },
  {
   "cell_type": "markdown",
   "metadata": {},
   "source": [
    "Odowłanie do pierwszego elementu poza `tablica[0]` można rówież zrealizować za pomocą metody `first`\n",
    "```ruby\n",
    "tablica = [3,4,5]\n",
    "tablica.first\n",
    "```"
   ]
  },
  {
   "cell_type": "code",
   "execution_count": 65,
   "metadata": {
    "collapsed": false
   },
   "outputs": [
    {
     "name": "stdout",
     "output_type": "stream",
     "text": [
      "[3, 4, 5]\n",
      "3\n"
     ]
    },
    {
     "data": {
      "text/plain": [
       "3"
      ]
     },
     "execution_count": 65,
     "metadata": {},
     "output_type": "execute_result"
    }
   ],
   "source": [
    "p tablica = [3,4,5]\n",
    "p tablica.first"
   ]
  },
  {
   "cell_type": "markdown",
   "metadata": {},
   "source": [
    "Podobnie do ostatniego elementu możemy odwołać się za pomocą wywołania `last`\n",
    "```ruby\n",
    "tablica = [3,4,5]\n",
    "tablica.last\n",
    "```"
   ]
  },
  {
   "cell_type": "code",
   "execution_count": 66,
   "metadata": {
    "collapsed": false
   },
   "outputs": [
    {
     "data": {
      "text/plain": [
       "5"
      ]
     },
     "execution_count": 66,
     "metadata": {},
     "output_type": "execute_result"
    }
   ],
   "source": [
    "tablica = [3,4,5]\n",
    "tablica.last"
   ]
  },
  {
   "cell_type": "markdown",
   "metadata": {},
   "source": [
    "## Modyfikowanie tablic"
   ]
  },
  {
   "cell_type": "markdown",
   "metadata": {},
   "source": [
    "Ruby dostarcza wielu przydatnych metod do pracy z tablicami. Pierwszą z nich jest `compact`, która usuwa puste elemty z tablicy\n",
    "```ruby\n",
    "[1,2,nil,5,nil,nil].compact\n",
    "```"
   ]
  },
  {
   "cell_type": "code",
   "execution_count": 68,
   "metadata": {
    "collapsed": false
   },
   "outputs": [
    {
     "data": {
      "text/plain": [
       "[1, 2, 5]"
      ]
     },
     "execution_count": 68,
     "metadata": {},
     "output_type": "execute_result"
    }
   ],
   "source": [
    "[1,2,nil,5,nil,nil].compact"
   ]
  },
  {
   "cell_type": "markdown",
   "metadata": {},
   "source": [
    "Metoda `uniq` usuwa zaś powtarzające się elementy\n",
    "```ruby\n",
    "[1,1,3,nil,nil,3,5,5,5].uniq\n",
    "```"
   ]
  },
  {
   "cell_type": "code",
   "execution_count": 15,
   "metadata": {
    "collapsed": false
   },
   "outputs": [
    {
     "name": "stdout",
     "output_type": "stream",
     "text": [
      "[1, 3, nil, 5]\n",
      "\n"
     ]
    }
   ],
   "source": [
    "tablica = [1,1,3,nil,nil,3,5,5,5].uniq\n",
    "puts tablica\n",
    "puts tablica[9]"
   ]
  },
  {
   "cell_type": "markdown",
   "metadata": {},
   "source": [
    "Usuwanie indywidualnych elementów może odbywać sie na dwa sposoby. Po pierwsze możemy użyć metody `delete`, która usuwa wszystkie elementy o danej wartości, zmniejszając rozmiar tablicy\n",
    "```ruby\n",
    "tablica = [1,2,3,5,5,2]\n",
    "tablica.delete(2)\n",
    "tablica\n",
    "```"
   ]
  },
  {
   "cell_type": "code",
   "execution_count": 19,
   "metadata": {
    "collapsed": false
   },
   "outputs": [
    {
     "name": "stdout",
     "output_type": "stream",
     "text": [
      "[1, 2, 3, 5, 5, 2]\n",
      "2\n",
      "[1, 3, 5, 5]\n"
     ]
    },
    {
     "data": {
      "text/plain": [
       "[1, 3, 5, 5]"
      ]
     },
     "execution_count": 19,
     "metadata": {},
     "output_type": "execute_result"
    }
   ],
   "source": [
    "p tablica = [1,2,3,5,5,2]\n",
    "p tablica.delete(2)\n",
    "p tablica"
   ]
  },
  {
   "cell_type": "markdown",
   "metadata": {},
   "source": [
    "Natomiast metoda `delete_at` usuwa element o zadanym indeksie\n",
    "```ruby\n",
    "tablica = [3,4,5,6]\n",
    "tablica.delete_at(2)\n",
    "tablica\n",
    "```"
   ]
  },
  {
   "cell_type": "code",
   "execution_count": 20,
   "metadata": {
    "collapsed": false
   },
   "outputs": [
    {
     "data": {
      "text/plain": [
       "[3, 4, 6]"
      ]
     },
     "execution_count": 20,
     "metadata": {},
     "output_type": "execute_result"
    }
   ],
   "source": [
    "tablica = [3,4,5,6]\n",
    "tablica.delete_at(2)\n",
    "tablica"
   ]
  },
  {
   "cell_type": "markdown",
   "metadata": {},
   "source": [
    "Przydatnym jest również wywołanie `join`, które zamienia tablicę na łańcuch znaków\n",
    "```ruby\n",
    "tablica = [3,4,5]\n",
    "tablica.join(\" - \")\n",
    "```"
   ]
  },
  {
   "cell_type": "code",
   "execution_count": 25,
   "metadata": {
    "collapsed": false
   },
   "outputs": [
    {
     "data": {
      "text/plain": [
       "\"3i4i5\""
      ]
     },
     "execution_count": 25,
     "metadata": {},
     "output_type": "execute_result"
    }
   ],
   "source": [
    "tablica = [3,4,5]\n",
    "tablica.join(\"i\")"
   ]
  },
  {
   "cell_type": "markdown",
   "metadata": {},
   "source": [
    "### Zadanie 5"
   ]
  },
  {
   "cell_type": "markdown",
   "metadata": {},
   "source": [
    "W zadanej tablicy usuń wszystkie wartości `nil` oraz elementy powtarzające się (w wynikowej tablicy ma występować tylko jeden \n",
    "reprezentant powtórzonych wartości)."
   ]
  },
  {
   "cell_type": "code",
   "execution_count": 79,
   "metadata": {
    "collapsed": false
   },
   "outputs": [
    {
     "name": "stdout",
     "output_type": "stream",
     "text": [
      "[4, 7, 8, 10, 3, 6]\n"
     ]
    },
    {
     "data": {
      "text/plain": [
       "[4, 7, 8, 10, 3, 6]"
      ]
     },
     "execution_count": 79,
     "metadata": {},
     "output_type": "execute_result"
    }
   ],
   "source": [
    "tablica = [4, 7, 8, nil, 10, 3, nil, 3, 4, nil, 6]\n",
    "p tablica.compact.uniq\n"
   ]
  }
 ],
 "metadata": {
  "kernelspec": {
   "display_name": "Ruby 2.2.3",
   "language": "ruby",
   "name": "ruby"
  },
  "language_info": {
   "file_extension": "rb",
   "mimetype": "application/x-ruby",
   "name": "ruby",
   "version": "2.2.3"
  }
 },
 "nbformat": 4,
 "nbformat_minor": 0
}
