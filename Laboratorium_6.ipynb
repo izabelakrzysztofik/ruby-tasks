{
 "metadata": {
  "language": "ruby",
  "name": "",
  "signature": "sha256:875b919ff149e05c494a33cc33dfe7f38a3a33a3432196b6ba3798199661ad89"
 },
 "nbformat": 3,
 "nbformat_minor": 0,
 "worksheets": [
  {
   "cells": [
    {
     "cell_type": "heading",
     "level": 1,
     "metadata": {},
     "source": [
      "P\u0119tle"
     ]
    },
    {
     "cell_type": "heading",
     "level": 2,
     "metadata": {},
     "source": [
      "loop"
     ]
    },
    {
     "cell_type": "markdown",
     "metadata": {},
     "source": [
      "`loop` to p\u0119tla niesko\u0144czona. Nale\u017cy jej u\u017cywa\u0107 ostro\u017cnie:\n",
      "```ruby\n",
      "loop do\n",
      "  puts \"P\u0119tla niesko\u0144czona\"\n",
      "  sleep(1)\n",
      "end\n",
      "```\n",
      "(Mo\u017cesz j\u0105 przerwa\u0107 klikaj\u0105c na czarny kwadrat powy\u017cej.)"
     ]
    },
    {
     "cell_type": "code",
     "collapsed": false,
     "input": [
      "loop do\n",
      "  puts \"P\u0119tla niesko\u0144czona\"\n",
      "  sleep(1)\n",
      "end"
     ],
     "language": "python",
     "metadata": {},
     "outputs": [
      {
       "output_type": "stream",
       "stream": "stdout",
       "text": [
        "P\u0119tla niesko\u0144czona\n"
       ]
      },
      {
       "output_type": "stream",
       "stream": "stdout",
       "text": [
        "P\u0119tla niesko\u0144czona\n"
       ]
      },
      {
       "output_type": "stream",
       "stream": "stdout",
       "text": [
        "P\u0119tla niesko\u0144czona\n"
       ]
      },
      {
       "output_type": "stream",
       "stream": "stdout",
       "text": [
        "P\u0119tla niesko\u0144czona\n"
       ]
      },
      {
       "output_type": "stream",
       "stream": "stdout",
       "text": [
        "P\u0119tla niesko\u0144czona\n"
       ]
      },
      {
       "output_type": "stream",
       "stream": "stdout",
       "text": [
        "P\u0119tla niesko\u0144czona\n"
       ]
      },
      {
       "output_type": "stream",
       "stream": "stdout",
       "text": [
        "P\u0119tla niesko\u0144czona\n"
       ]
      },
      {
       "ename": "Interrupt",
       "evalue": "",
       "output_type": "pyerr",
       "traceback": [
        "\u001b[31mInterrupt\u001b[0m: ",
        "\u001b[37m<main>:2:in `sleep'\u001b[0m",
        "\u001b[37m<main>:2:in `block in <main>'\u001b[0m",
        "\u001b[37m<main>:in `loop'\u001b[0m",
        "\u001b[37m<main>:in `<main>'\u001b[0m",
        "\u001b[37m/usr/local/rvm/gems/ruby-2.0.0-p0/gems/iruby-0.1.13/lib/iruby/backend.rb:8:in `eval'\u001b[0m",
        "\u001b[37m/usr/local/rvm/gems/ruby-2.0.0-p0/gems/iruby-0.1.13/lib/iruby/backend.rb:8:in `eval'\u001b[0m",
        "\u001b[37m/usr/local/rvm/gems/ruby-2.0.0-p0/gems/iruby-0.1.13/lib/iruby/kernel.rb:110:in `execute_request'\u001b[0m",
        "\u001b[37m/usr/local/rvm/gems/ruby-2.0.0-p0/gems/iruby-0.1.13/lib/iruby/kernel.rb:62:in `run'\u001b[0m",
        "\u001b[37m/usr/local/rvm/gems/ruby-2.0.0-p0/gems/iruby-0.1.13/lib/iruby/command.rb:30:in `run_kernel'\u001b[0m",
        "\u001b[37m/usr/local/rvm/gems/ruby-2.0.0-p0/gems/iruby-0.1.13/lib/iruby/command.rb:16:in `run'\u001b[0m",
        "\u001b[37m/usr/local/rvm/gems/ruby-2.0.0-p0/gems/iruby-0.1.13/bin/iruby:6:in `<top (required)>'\u001b[0m",
        "\u001b[37m/usr/local/rvm/gems/ruby-2.0.0-p0/bin/iruby:23:in `load'\u001b[0m",
        "\u001b[37m/usr/local/rvm/gems/ruby-2.0.0-p0/bin/iruby:23:in `<main>'\u001b[0m",
        "\u001b[37m/usr/local/rvm/gems/ruby-2.0.0-p0/bin/ruby_noexec_wrapper:14:in `eval'\u001b[0m",
        "\u001b[37m/usr/local/rvm/gems/ruby-2.0.0-p0/bin/ruby_noexec_wrapper:14:in `<main>'\u001b[0m"
       ]
      }
     ],
     "prompt_number": 1
    },
    {
     "cell_type": "markdown",
     "metadata": {},
     "source": [
      "Zwykle jest wykorzystywana w po\u0142\u0105czeniu z poleceniem `break`, kt\u00f3re powoduje jej przerwanie:\n",
      "```ruby\n",
      "loop_count = 0\n",
      "loop do\n",
      "  loop_count += 1\n",
      "  puts \"P\u0119tla sko\u0144czona #{loop_count}\"\n",
      "  break if loop_count >= 10\n",
      "end\n",
      "```"
     ]
    },
    {
     "cell_type": "code",
     "collapsed": false,
     "input": [
      "loop_count = 0\n",
      "loop do\n",
      "  loop_count += 1\n",
      "  puts \"P\u0119tla sko\u0144czona #{loop_count}\"\n",
      "  break if loop_count >= 10\n",
      "end"
     ],
     "language": "python",
     "metadata": {},
     "outputs": [
      {
       "output_type": "stream",
       "stream": "stdout",
       "text": [
        "P\u0119tla sko\u0144czona 1\n"
       ]
      },
      {
       "output_type": "stream",
       "stream": "stdout",
       "text": [
        "P\u0119tla sko\u0144czona 2\n"
       ]
      },
      {
       "output_type": "stream",
       "stream": "stdout",
       "text": [
        "P\u0119tla sko\u0144czona 3\n"
       ]
      },
      {
       "output_type": "stream",
       "stream": "stdout",
       "text": [
        "P\u0119tla sko\u0144czona 4\n"
       ]
      },
      {
       "output_type": "stream",
       "stream": "stdout",
       "text": [
        "P\u0119tla sko\u0144czona 5\n"
       ]
      },
      {
       "output_type": "stream",
       "stream": "stdout",
       "text": [
        "P\u0119tla sko\u0144czona 6\n"
       ]
      },
      {
       "output_type": "stream",
       "stream": "stdout",
       "text": [
        "P\u0119tla sko\u0144czona 7\n"
       ]
      },
      {
       "output_type": "stream",
       "stream": "stdout",
       "text": [
        "P\u0119tla sko\u0144czona 8\n"
       ]
      },
      {
       "output_type": "stream",
       "stream": "stdout",
       "text": [
        "P\u0119tla sko\u0144czona 9\n"
       ]
      },
      {
       "output_type": "stream",
       "stream": "stdout",
       "text": [
        "P\u0119tla sko\u0144czona 10\n"
       ]
      }
     ],
     "prompt_number": 2
    },
    {
     "cell_type": "heading",
     "level": 2,
     "metadata": {},
     "source": [
      "while, until"
     ]
    },
    {
     "cell_type": "markdown",
     "metadata": {},
     "source": [
      "Je\u015bli jednak isnieje tylko jeden warunek opuszczenia p\u0119tli, zwykle korzystamy z p\u0119tli `while` lub `until`.\n",
      "Pierwsza z nich wykonuje si\u0119, tak d\u0142ugo jak warunek jest spe\u0142niony, np.\n",
      "```ruby\n",
      "counter = 1\n",
      "while(counter < 10) do\n",
      "  puts \"P\u0119tla until #{counter}\"\n",
      "  counter += 1\n",
      "end\n",
      "```"
     ]
    },
    {
     "cell_type": "code",
     "collapsed": false,
     "input": [
      "counter = 1\n",
      "while(counter < 10) do\n",
      "  puts \"P\u0119tla until #{counter}\"\n",
      "  counter += 1\n",
      "end"
     ],
     "language": "python",
     "metadata": {},
     "outputs": [
      {
       "output_type": "stream",
       "stream": "stdout",
       "text": [
        "P\u0119tla until 1\n"
       ]
      },
      {
       "output_type": "stream",
       "stream": "stdout",
       "text": [
        "P\u0119tla until 2\n"
       ]
      },
      {
       "output_type": "stream",
       "stream": "stdout",
       "text": [
        "P\u0119tla until 3\n"
       ]
      },
      {
       "output_type": "stream",
       "stream": "stdout",
       "text": [
        "P\u0119tla until 4\n"
       ]
      },
      {
       "output_type": "stream",
       "stream": "stdout",
       "text": [
        "P\u0119tla until 5\n"
       ]
      },
      {
       "output_type": "stream",
       "stream": "stdout",
       "text": [
        "P\u0119tla until 6\n"
       ]
      },
      {
       "output_type": "stream",
       "stream": "stdout",
       "text": [
        "P\u0119tla until 7\n"
       ]
      },
      {
       "output_type": "stream",
       "stream": "stdout",
       "text": [
        "P\u0119tla until 8\n"
       ]
      },
      {
       "output_type": "stream",
       "stream": "stdout",
       "text": [
        "P\u0119tla until 9\n"
       ]
      }
     ],
     "prompt_number": 3
    },
    {
     "cell_type": "markdown",
     "metadata": {},
     "source": [
      "P\u0119tla `until` wykonuje si\u0119 za\u015b do momentu, w kt\u00f3rym warunek zostanie spe\u0142niony:\n",
      "```ruby\n",
      "counter = 1\n",
      "until(counter > 10) do\n",
      "  puts \"P\u0119tla until #{counter}\"\n",
      "  counter += 1\n",
      "end\n",
      "```"
     ]
    },
    {
     "cell_type": "code",
     "collapsed": false,
     "input": [
      "counter = 1\n",
      "until(counter > 10) do\n",
      "  puts \"P\u0119tla until #{counter}\"\n",
      "  counter += 1\n",
      "end"
     ],
     "language": "python",
     "metadata": {},
     "outputs": [
      {
       "output_type": "stream",
       "stream": "stdout",
       "text": [
        "P\u0119tla until 1\n"
       ]
      },
      {
       "output_type": "stream",
       "stream": "stdout",
       "text": [
        "P\u0119tla until 2\n"
       ]
      },
      {
       "output_type": "stream",
       "stream": "stdout",
       "text": [
        "P\u0119tla until 3\n"
       ]
      },
      {
       "output_type": "stream",
       "stream": "stdout",
       "text": [
        "P\u0119tla until 4\n"
       ]
      },
      {
       "output_type": "stream",
       "stream": "stdout",
       "text": [
        "P\u0119tla until 5\n"
       ]
      },
      {
       "output_type": "stream",
       "stream": "stdout",
       "text": [
        "P\u0119tla until 6\n"
       ]
      },
      {
       "output_type": "stream",
       "stream": "stdout",
       "text": [
        "P\u0119tla until 7\n"
       ]
      },
      {
       "output_type": "stream",
       "stream": "stdout",
       "text": [
        "P\u0119tla until 8\n"
       ]
      },
      {
       "output_type": "stream",
       "stream": "stdout",
       "text": [
        "P\u0119tla until 9\n"
       ]
      },
      {
       "output_type": "stream",
       "stream": "stdout",
       "text": [
        "P\u0119tla until 10\n"
       ]
      }
     ],
     "prompt_number": 4
    },
    {
     "cell_type": "markdown",
     "metadata": {},
     "source": [
      "Mo\u017cna jej u\u017cy\u0107, np. do wy\u015bwietlenia zawarto\u015bci pliku:\n",
      "```ruby\n",
      "file = File.open(\"data/books.csv\")\n",
      "until(file.eof?) do\n",
      "  puts file.readline.chomp\n",
      "end\n",
      "```"
     ]
    },
    {
     "cell_type": "code",
     "collapsed": false,
     "input": [
      "\n"
     ],
     "language": "python",
     "metadata": {},
     "outputs": [],
     "prompt_number": 6
    },
    {
     "cell_type": "heading",
     "level": 2,
     "metadata": {},
     "source": [
      "for"
     ]
    },
    {
     "cell_type": "markdown",
     "metadata": {},
     "source": [
      "W Ruby nie ma klasycznej p\u0119tli `for` znanej z j\u0119zyka C, tzn. `for(i = 0; i < 10; i++)`. Istnieje jednak p\u0119tla `for`, kt\u00f3ra s\u0142u\u017cy do iterowania po strukturach sekwencyjnych, np. tablicach:\n",
      "```ruby\n",
      "letters = [\"a\",\"b\",\"c\"]\n",
      "for letter in letters do\n",
      "  puts letter\n",
      "end\n",
      "```"
     ]
    },
    {
     "cell_type": "code",
     "collapsed": false,
     "input": [
      "letters = [\"a\",\"b\",\"c\"]\n",
      "for letter in letters do\n",
      "  puts letter\n",
      "end"
     ],
     "language": "python",
     "metadata": {},
     "outputs": [
      {
       "output_type": "stream",
       "stream": "stdout",
       "text": [
        "a\n"
       ]
      },
      {
       "output_type": "stream",
       "stream": "stdout",
       "text": [
        "b\n"
       ]
      },
      {
       "output_type": "stream",
       "stream": "stdout",
       "text": [
        "c\n"
       ]
      },
      {
       "metadata": {},
       "output_type": "pyout",
       "prompt_number": 7,
       "text": [
        "[\"a\", \"b\", \"c\"]"
       ]
      }
     ],
     "prompt_number": 7
    },
    {
     "cell_type": "markdown",
     "metadata": {},
     "source": [
      "Mo\u017cna jej r\u00f3wnie\u017c u\u017cy\u0107 do innych struktur, np. tablic asocjacyjnych:\n",
      "```ruby\n",
      "letters = {1 => \"a\", 2 => \"b\", 3 => \"c\"}\n",
      "for index,letter in letters do\n",
      "  puts \"#{index}. #{letter}\"\n",
      "end\n",
      "```"
     ]
    },
    {
     "cell_type": "code",
     "collapsed": false,
     "input": [
      "letters = {1 => \"a\", 2 => \"b\", 3 => \"c\"}\n",
      "for index,letter in letters do\n",
      "  puts \"#{index}. #{letter}\"\n",
      "end"
     ],
     "language": "python",
     "metadata": {},
     "outputs": [
      {
       "output_type": "stream",
       "stream": "stdout",
       "text": [
        "1. a\n"
       ]
      },
      {
       "output_type": "stream",
       "stream": "stdout",
       "text": [
        "2. b\n"
       ]
      },
      {
       "output_type": "stream",
       "stream": "stdout",
       "text": [
        "3. c\n"
       ]
      },
      {
       "metadata": {},
       "output_type": "pyout",
       "prompt_number": 8,
       "text": [
        "{1=>\"a\", 2=>\"b\", 3=>\"c\"}"
       ]
      }
     ],
     "prompt_number": 8
    },
    {
     "cell_type": "heading",
     "level": 2,
     "metadata": {},
     "source": [
      "times, upto, downto, step"
     ]
    },
    {
     "cell_type": "markdown",
     "metadata": {},
     "source": [
      "Chocia\u017c w Ruby nie ma klasycznej p\u0119tli `for` to istniej\u0105 inne konstrukcje, pozwalaj\u0105ce na wykonanie p\u0119tli okre\u015blon\u0105 ilo\u015b\u0107 razy.\n",
      "Pierwsz\u0105 z nich jest `times` - jej semantyka jest bardzo prosta. Poniewa\u017c wywo\u0142ywana jest dla liczb naturalnych, kod wykonuje si\u0119 tyle razy, ile wynosi warto\u015b\u0107 danej liczby:\n",
      "```ruby\n",
      "3.times do\n",
      "  puts \"Witaj EPI!\"\n",
      "end\n",
      "```"
     ]
    },
    {
     "cell_type": "code",
     "collapsed": false,
     "input": [
      "3.times do\n",
      "  puts \"Witaj EPI!\"\n",
      "end"
     ],
     "language": "python",
     "metadata": {},
     "outputs": [
      {
       "output_type": "stream",
       "stream": "stdout",
       "text": [
        "Witaj EPI!\n"
       ]
      },
      {
       "output_type": "stream",
       "stream": "stdout",
       "text": [
        "Witaj EPI!\n"
       ]
      },
      {
       "output_type": "stream",
       "stream": "stdout",
       "text": [
        "Witaj EPI!\n"
       ]
      },
      {
       "metadata": {},
       "output_type": "pyout",
       "prompt_number": 9,
       "text": [
        "3"
       ]
      }
     ],
     "prompt_number": 9
    },
    {
     "cell_type": "markdown",
     "metadata": {},
     "source": [
      "`upto` i `downto` maj\u0105 podobne zastosowanie. `upto` pozwala na okre\u015blenie dolnego i g\u00f3rnego zakresu:\n",
      "```ruby\n",
      "10.upto(20) do |index|\n",
      "  puts \"Indeks wynosi #{index}\"\n",
      "end\n",
      "```"
     ]
    },
    {
     "cell_type": "code",
     "collapsed": false,
     "input": [
      "10.upto(20) do |index|\n",
      "  puts \"Indeks wynosi #{index}\"\n",
      "end"
     ],
     "language": "python",
     "metadata": {},
     "outputs": [
      {
       "output_type": "stream",
       "stream": "stdout",
       "text": [
        "Indeks wynosi 10\n"
       ]
      },
      {
       "output_type": "stream",
       "stream": "stdout",
       "text": [
        "Indeks wynosi 11\n"
       ]
      },
      {
       "output_type": "stream",
       "stream": "stdout",
       "text": [
        "Indeks wynosi 12\n"
       ]
      },
      {
       "output_type": "stream",
       "stream": "stdout",
       "text": [
        "Indeks wynosi 13\n"
       ]
      },
      {
       "output_type": "stream",
       "stream": "stdout",
       "text": [
        "Indeks wynosi 14\n"
       ]
      },
      {
       "output_type": "stream",
       "stream": "stdout",
       "text": [
        "Indeks wynosi 15\n"
       ]
      },
      {
       "output_type": "stream",
       "stream": "stdout",
       "text": [
        "Indeks wynosi 16\n"
       ]
      },
      {
       "output_type": "stream",
       "stream": "stdout",
       "text": [
        "Indeks wynosi 17\n"
       ]
      },
      {
       "output_type": "stream",
       "stream": "stdout",
       "text": [
        "Indeks wynosi 18\n"
       ]
      },
      {
       "output_type": "stream",
       "stream": "stdout",
       "text": [
        "Indeks wynosi 19\n"
       ]
      },
      {
       "output_type": "stream",
       "stream": "stdout",
       "text": [
        "Indeks wynosi 20\n"
       ]
      },
      {
       "metadata": {},
       "output_type": "pyout",
       "prompt_number": 10,
       "text": [
        "10"
       ]
      }
     ],
     "prompt_number": 10
    },
    {
     "cell_type": "markdown",
     "metadata": {},
     "source": [
      "`downto` r\u00f3wnie\u017c pozwala na okre\u015blenie zakresu, ale wykonywana jest od warto\u015bci najwi\u0119kszej, do najmniejszej:\n",
      "```ruby\n",
      "20.downto(10) do |index|\n",
      "  puts \"Indeks wynosi #{index}\"\n",
      "end\n",
      "```"
     ]
    },
    {
     "cell_type": "code",
     "collapsed": false,
     "input": [
      "20.downto(10) do |index|\n",
      "  puts \"Indeks wynosi #{index}\"\n",
      "end"
     ],
     "language": "python",
     "metadata": {},
     "outputs": [
      {
       "output_type": "stream",
       "stream": "stdout",
       "text": [
        "Indeks wynosi 20\n"
       ]
      },
      {
       "output_type": "stream",
       "stream": "stdout",
       "text": [
        "Indeks wynosi 19\n"
       ]
      },
      {
       "output_type": "stream",
       "stream": "stdout",
       "text": [
        "Indeks wynosi 18\n"
       ]
      },
      {
       "output_type": "stream",
       "stream": "stdout",
       "text": [
        "Indeks wynosi 17\n"
       ]
      },
      {
       "output_type": "stream",
       "stream": "stdout",
       "text": [
        "Indeks wynosi 16\n"
       ]
      },
      {
       "output_type": "stream",
       "stream": "stdout",
       "text": [
        "Indeks wynosi 15\n"
       ]
      },
      {
       "output_type": "stream",
       "stream": "stdout",
       "text": [
        "Indeks wynosi 14\n"
       ]
      },
      {
       "output_type": "stream",
       "stream": "stdout",
       "text": [
        "Indeks wynosi 13\n"
       ]
      },
      {
       "output_type": "stream",
       "stream": "stdout",
       "text": [
        "Indeks wynosi 12\n"
       ]
      },
      {
       "output_type": "stream",
       "stream": "stdout",
       "text": [
        "Indeks wynosi 11\n"
       ]
      },
      {
       "output_type": "stream",
       "stream": "stdout",
       "text": [
        "Indeks wynosi 10\n"
       ]
      },
      {
       "metadata": {},
       "output_type": "pyout",
       "prompt_number": 2,
       "text": [
        "20"
       ]
      }
     ],
     "prompt_number": 2
    },
    {
     "cell_type": "markdown",
     "metadata": {},
     "source": [
      "`step` pozwala na swobodne okre\u015blenie kroku:\n",
      "```ruby\n",
      "10.step(20,2) do |index|\n",
      "  puts \"Indeks wynosi #{index}\"\n",
      "end\n",
      "```"
     ]
    },
    {
     "cell_type": "code",
     "collapsed": false,
     "input": [
      "10.step(20,2) do |index|\n",
      "  puts \"Indeks wynosi #{index}\"\n",
      "end"
     ],
     "language": "python",
     "metadata": {},
     "outputs": [
      {
       "output_type": "stream",
       "stream": "stdout",
       "text": [
        "Indeks wynosi 10\n"
       ]
      },
      {
       "output_type": "stream",
       "stream": "stdout",
       "text": [
        "Indeks wynosi 12\n"
       ]
      },
      {
       "output_type": "stream",
       "stream": "stdout",
       "text": [
        "Indeks wynosi 14\n"
       ]
      },
      {
       "output_type": "stream",
       "stream": "stdout",
       "text": [
        "Indeks wynosi 16\n"
       ]
      },
      {
       "output_type": "stream",
       "stream": "stdout",
       "text": [
        "Indeks wynosi 18\n"
       ]
      },
      {
       "output_type": "stream",
       "stream": "stdout",
       "text": [
        "Indeks wynosi 20\n"
       ]
      },
      {
       "metadata": {},
       "output_type": "pyout",
       "prompt_number": 3,
       "text": [
        "10"
       ]
      }
     ],
     "prompt_number": 3
    },
    {
     "cell_type": "heading",
     "level": 3,
     "metadata": {},
     "source": [
      "Zadanie 1"
     ]
    },
    {
     "cell_type": "markdown",
     "metadata": {},
     "source": [
      "Wiedz\u0105c, \u017ce w w 2016 roku pierwsza niedziela wypada 3 stycznia, okre\u015bl numery pozosta\u0142ych dni, w kt\u00f3re wypada niedziela. Nie chodzio daty, tylko numery dni w roku (3, 10, itd.)"
     ]
    },
    {
     "cell_type": "code",
     "collapsed": false,
     "input": [
      "3.step(365,7) do |index|\n",
      "  puts \"Nast\u0119pna niedziela to #{index} dzie\u0144 roku\"\n",
      "end"
     ],
     "language": "python",
     "metadata": {},
     "outputs": [
      {
       "output_type": "stream",
       "stream": "stdout",
       "text": [
        "Nast\u0119pna niedziela to 3 dzie\u0144 roku\n"
       ]
      },
      {
       "output_type": "stream",
       "stream": "stdout",
       "text": [
        "Nast\u0119pna niedziela to 10 dzie\u0144 roku\n"
       ]
      },
      {
       "output_type": "stream",
       "stream": "stdout",
       "text": [
        "Nast\u0119pna niedziela to 17 dzie\u0144 roku\n"
       ]
      },
      {
       "output_type": "stream",
       "stream": "stdout",
       "text": [
        "Nast\u0119pna niedziela to 24 dzie\u0144 roku\n"
       ]
      },
      {
       "output_type": "stream",
       "stream": "stdout",
       "text": [
        "Nast\u0119pna niedziela to 31 dzie\u0144 roku\n"
       ]
      },
      {
       "output_type": "stream",
       "stream": "stdout",
       "text": [
        "Nast\u0119pna niedziela to 38 dzie\u0144 roku\n"
       ]
      },
      {
       "output_type": "stream",
       "stream": "stdout",
       "text": [
        "Nast\u0119pna niedziela to 45 dzie\u0144 roku\n"
       ]
      },
      {
       "output_type": "stream",
       "stream": "stdout",
       "text": [
        "Nast\u0119pna niedziela to 52 dzie\u0144 roku\n"
       ]
      },
      {
       "output_type": "stream",
       "stream": "stdout",
       "text": [
        "Nast\u0119pna niedziela to 59 dzie\u0144 roku\n"
       ]
      },
      {
       "output_type": "stream",
       "stream": "stdout",
       "text": [
        "Nast\u0119pna niedziela to 66 dzie\u0144 roku\n"
       ]
      },
      {
       "output_type": "stream",
       "stream": "stdout",
       "text": [
        "Nast\u0119pna niedziela to 73 dzie\u0144 roku\n"
       ]
      },
      {
       "output_type": "stream",
       "stream": "stdout",
       "text": [
        "Nast\u0119pna niedziela to 80 dzie\u0144 roku\n"
       ]
      },
      {
       "output_type": "stream",
       "stream": "stdout",
       "text": [
        "Nast\u0119pna niedziela to 87 dzie\u0144 roku\n"
       ]
      },
      {
       "output_type": "stream",
       "stream": "stdout",
       "text": [
        "Nast\u0119pna niedziela to 94 dzie\u0144 roku\n"
       ]
      },
      {
       "output_type": "stream",
       "stream": "stdout",
       "text": [
        "Nast\u0119pna niedziela to 101 dzie\u0144 roku\n"
       ]
      },
      {
       "output_type": "stream",
       "stream": "stdout",
       "text": [
        "Nast\u0119pna niedziela to 108 dzie\u0144 roku\n"
       ]
      },
      {
       "output_type": "stream",
       "stream": "stdout",
       "text": [
        "Nast\u0119pna niedziela to 115 dzie\u0144 roku\n"
       ]
      },
      {
       "output_type": "stream",
       "stream": "stdout",
       "text": [
        "Nast\u0119pna niedziela to 122 dzie\u0144 roku\n"
       ]
      },
      {
       "output_type": "stream",
       "stream": "stdout",
       "text": [
        "Nast\u0119pna niedziela to 129 dzie\u0144 roku\n"
       ]
      },
      {
       "output_type": "stream",
       "stream": "stdout",
       "text": [
        "Nast\u0119pna niedziela to 136 dzie\u0144 roku\n"
       ]
      },
      {
       "output_type": "stream",
       "stream": "stdout",
       "text": [
        "Nast\u0119pna niedziela to 143 dzie\u0144 roku\n"
       ]
      },
      {
       "output_type": "stream",
       "stream": "stdout",
       "text": [
        "Nast\u0119pna niedziela to 150 dzie\u0144 roku\n"
       ]
      },
      {
       "output_type": "stream",
       "stream": "stdout",
       "text": [
        "Nast\u0119pna niedziela to 157 dzie\u0144 roku\n"
       ]
      },
      {
       "output_type": "stream",
       "stream": "stdout",
       "text": [
        "Nast\u0119pna niedziela to 164 dzie\u0144 roku\n"
       ]
      },
      {
       "output_type": "stream",
       "stream": "stdout",
       "text": [
        "Nast\u0119pna niedziela to 171 dzie\u0144 roku\n"
       ]
      },
      {
       "output_type": "stream",
       "stream": "stdout",
       "text": [
        "Nast\u0119pna niedziela to 178 dzie\u0144 roku\n"
       ]
      },
      {
       "output_type": "stream",
       "stream": "stdout",
       "text": [
        "Nast\u0119pna niedziela to 185 dzie\u0144 roku\n"
       ]
      },
      {
       "output_type": "stream",
       "stream": "stdout",
       "text": [
        "Nast\u0119pna niedziela to 192 dzie\u0144 roku\n"
       ]
      },
      {
       "output_type": "stream",
       "stream": "stdout",
       "text": [
        "Nast\u0119pna niedziela to 199 dzie\u0144 roku\n"
       ]
      },
      {
       "output_type": "stream",
       "stream": "stdout",
       "text": [
        "Nast\u0119pna niedziela to 206 dzie\u0144 roku\n"
       ]
      },
      {
       "output_type": "stream",
       "stream": "stdout",
       "text": [
        "Nast\u0119pna niedziela to 213 dzie\u0144 roku\n"
       ]
      },
      {
       "output_type": "stream",
       "stream": "stdout",
       "text": [
        "Nast\u0119pna niedziela to 220 dzie\u0144 roku\n"
       ]
      },
      {
       "output_type": "stream",
       "stream": "stdout",
       "text": [
        "Nast\u0119pna niedziela to 227 dzie\u0144 roku\n"
       ]
      },
      {
       "output_type": "stream",
       "stream": "stdout",
       "text": [
        "Nast\u0119pna niedziela to 234 dzie\u0144 roku\n"
       ]
      },
      {
       "output_type": "stream",
       "stream": "stdout",
       "text": [
        "Nast\u0119pna niedziela to 241 dzie\u0144 roku\n"
       ]
      },
      {
       "output_type": "stream",
       "stream": "stdout",
       "text": [
        "Nast\u0119pna niedziela to 248 dzie\u0144 roku\n"
       ]
      },
      {
       "output_type": "stream",
       "stream": "stdout",
       "text": [
        "Nast\u0119pna niedziela to 255 dzie\u0144 roku\n"
       ]
      },
      {
       "output_type": "stream",
       "stream": "stdout",
       "text": [
        "Nast\u0119pna niedziela to 262 dzie\u0144 roku\n"
       ]
      },
      {
       "output_type": "stream",
       "stream": "stdout",
       "text": [
        "Nast\u0119pna niedziela to 269 dzie\u0144 roku\n"
       ]
      },
      {
       "output_type": "stream",
       "stream": "stdout",
       "text": [
        "Nast\u0119pna niedziela to 276 dzie\u0144 roku\n"
       ]
      },
      {
       "output_type": "stream",
       "stream": "stdout",
       "text": [
        "Nast\u0119pna niedziela to 283 dzie\u0144 roku\n"
       ]
      },
      {
       "output_type": "stream",
       "stream": "stdout",
       "text": [
        "Nast\u0119pna niedziela to 290 dzie\u0144 roku\n"
       ]
      },
      {
       "output_type": "stream",
       "stream": "stdout",
       "text": [
        "Nast\u0119pna niedziela to 297 dzie\u0144 roku\n"
       ]
      },
      {
       "output_type": "stream",
       "stream": "stdout",
       "text": [
        "Nast\u0119pna niedziela to 304 dzie\u0144 roku\n"
       ]
      },
      {
       "output_type": "stream",
       "stream": "stdout",
       "text": [
        "Nast\u0119pna niedziela to 311 dzie\u0144 roku\n"
       ]
      },
      {
       "output_type": "stream",
       "stream": "stdout",
       "text": [
        "Nast\u0119pna niedziela to 318 dzie\u0144 roku\n"
       ]
      },
      {
       "output_type": "stream",
       "stream": "stdout",
       "text": [
        "Nast\u0119pna niedziela to 325 dzie\u0144 roku\n"
       ]
      },
      {
       "output_type": "stream",
       "stream": "stdout",
       "text": [
        "Nast\u0119pna niedziela to 332 dzie\u0144 roku\n"
       ]
      },
      {
       "output_type": "stream",
       "stream": "stdout",
       "text": [
        "Nast\u0119pna niedziela to 339 dzie\u0144 roku\n"
       ]
      },
      {
       "output_type": "stream",
       "stream": "stdout",
       "text": [
        "Nast\u0119pna niedziela to 346 dzie\u0144 roku\n"
       ]
      },
      {
       "output_type": "stream",
       "stream": "stdout",
       "text": [
        "Nast\u0119pna niedziela to 353 dzie\u0144 roku\n"
       ]
      },
      {
       "output_type": "stream",
       "stream": "stdout",
       "text": [
        "Nast\u0119pna niedziela to 360 dzie\u0144 roku\n"
       ]
      },
      {
       "metadata": {},
       "output_type": "pyout",
       "prompt_number": 7,
       "text": [
        "3"
       ]
      }
     ],
     "prompt_number": 7
    },
    {
     "cell_type": "heading",
     "level": 2,
     "metadata": {},
     "source": [
      "Metody iteracyjne"
     ]
    },
    {
     "cell_type": "markdown",
     "metadata": {},
     "source": [
      "Metody iteracyjne pozwalaj\u0105 wykonywa\u0107 operacje na elementach kontener\u00f3w. S\u0105 one odpowiednikami p\u0119tli w innych j\u0119zykach programowania. Pozwalaj\u0105 jedak bardziej bezpo\u015brednio wyrazi\u0107 jaka jest intencja tw\u00f3rcy algorytmu.\n",
      "\n",
      "Najcz\u0119\u015bciej u\u017cywan\u0105\u00a0metod\u0105 iteracyjn\u0105 jest `each`, kt\u00f3ra wywo\u0142uje blok kodu dla ka\u017cdego elementu tablicy\n",
      "```ruby\n",
      "[1,2,3,4].each do |element|\n",
      "  puts element ** 2\n",
      "end\n",
      "```"
     ]
    },
    {
     "cell_type": "code",
     "collapsed": false,
     "input": [
      "[1,2,3,4].each do |element|\n",
      "  puts element ** 2\n",
      "end"
     ],
     "language": "python",
     "metadata": {},
     "outputs": [
      {
       "output_type": "stream",
       "stream": "stdout",
       "text": [
        "1\n"
       ]
      },
      {
       "output_type": "stream",
       "stream": "stdout",
       "text": [
        "4\n"
       ]
      },
      {
       "output_type": "stream",
       "stream": "stdout",
       "text": [
        "9\n"
       ]
      },
      {
       "output_type": "stream",
       "stream": "stdout",
       "text": [
        "16\n"
       ]
      },
      {
       "metadata": {},
       "output_type": "pyout",
       "prompt_number": 5,
       "text": [
        "[1, 2, 3, 4]"
       ]
      }
     ],
     "prompt_number": 5
    },
    {
     "cell_type": "markdown",
     "metadata": {},
     "source": [
      "Dzi\u0119ki metodzie `each` mo\u017cemy uzyska\u0107 ten sam efekt jaki daje metoda `upto`, je\u015bli wywo\u0142amy j\u0105 na zakresie:\n",
      "```ruby\n",
      "1.upto(10){|i| puts \"upto: #{i}\" }\n",
      "(1..10).each{|i| puts \"each: #{i}\" }\n",
      "```"
     ]
    },
    {
     "cell_type": "code",
     "collapsed": false,
     "input": [
      "1.upto(10){|i| puts \"upto: #{i}\" }\n",
      "(1..10).each{|i| puts \"each: #{i}\" }"
     ],
     "language": "python",
     "metadata": {},
     "outputs": [
      {
       "output_type": "stream",
       "stream": "stdout",
       "text": [
        "upto: 1\n"
       ]
      },
      {
       "output_type": "stream",
       "stream": "stdout",
       "text": [
        "upto: 2\n"
       ]
      },
      {
       "output_type": "stream",
       "stream": "stdout",
       "text": [
        "upto: 3\n"
       ]
      },
      {
       "output_type": "stream",
       "stream": "stdout",
       "text": [
        "upto: 4\n"
       ]
      },
      {
       "output_type": "stream",
       "stream": "stdout",
       "text": [
        "upto: 5\n"
       ]
      },
      {
       "output_type": "stream",
       "stream": "stdout",
       "text": [
        "upto: 6\n"
       ]
      },
      {
       "output_type": "stream",
       "stream": "stdout",
       "text": [
        "upto: 7\n"
       ]
      },
      {
       "output_type": "stream",
       "stream": "stdout",
       "text": [
        "upto: 8\n"
       ]
      },
      {
       "output_type": "stream",
       "stream": "stdout",
       "text": [
        "upto: 9\n"
       ]
      },
      {
       "output_type": "stream",
       "stream": "stdout",
       "text": [
        "upto: 10\n"
       ]
      },
      {
       "output_type": "stream",
       "stream": "stdout",
       "text": [
        "each: 1\n"
       ]
      },
      {
       "output_type": "stream",
       "stream": "stdout",
       "text": [
        "each: 2\n"
       ]
      },
      {
       "output_type": "stream",
       "stream": "stdout",
       "text": [
        "each: 3\n"
       ]
      },
      {
       "output_type": "stream",
       "stream": "stdout",
       "text": [
        "each: 4\n"
       ]
      },
      {
       "output_type": "stream",
       "stream": "stdout",
       "text": [
        "each: 5\n"
       ]
      },
      {
       "output_type": "stream",
       "stream": "stdout",
       "text": [
        "each: 6\n"
       ]
      },
      {
       "output_type": "stream",
       "stream": "stdout",
       "text": [
        "each: 7\n"
       ]
      },
      {
       "output_type": "stream",
       "stream": "stdout",
       "text": [
        "each: 8\n"
       ]
      },
      {
       "output_type": "stream",
       "stream": "stdout",
       "text": [
        "each: 9\n"
       ]
      },
      {
       "output_type": "stream",
       "stream": "stdout",
       "text": [
        "each: 10\n"
       ]
      },
      {
       "metadata": {},
       "output_type": "pyout",
       "prompt_number": 8,
       "text": [
        "1..10"
       ]
      }
     ],
     "prompt_number": 8
    },
    {
     "cell_type": "markdown",
     "metadata": {},
     "source": [
      "Ruby definiuje jednak znacznie wi\u0119cej przydatnych metod tego rodzaju. Cz\u0119sto u\u017cywan\u0105 jest `select`, kt\u00f3ra wybiera z tablicy tylko \n",
      "te elementy, dla kt\u00f3rych blok kodu zwr\u00f3ci\u0142 warto\u015b\u0107 `true`\n",
      "```ruby\n",
      "[1,2,3,4,5,6].select{|e| e % 2 == 0 }\n",
      "[\"Ala\", \"Anna\", \"Agata\", \"Barbara\"].select{|imie| imie =~ /^A/ }\n",
      "```"
     ]
    },
    {
     "cell_type": "code",
     "collapsed": false,
     "input": [
      "[1,2,3,4,5,6].select{|e| e % 2 == 0 }"
     ],
     "language": "python",
     "metadata": {},
     "outputs": [
      {
       "metadata": {},
       "output_type": "pyout",
       "prompt_number": 14,
       "text": [
        "[2, 4, 6]"
       ]
      }
     ],
     "prompt_number": 14
    },
    {
     "cell_type": "markdown",
     "metadata": {},
     "source": [
      "Metoda ta ma komplementarn\u0105\u00a0wobec niej metod\u0119 `reject`\n",
      "```ruby\n",
      "[1,2,3,4,5,6].reject{|e| e % 2 == 0 }\n",
      "[\"Ala\", \"Anna\", \"Agata\", \"Barbara\"].reject{|imie| imie =~ /^A/ }\n",
      "```"
     ]
    },
    {
     "cell_type": "code",
     "collapsed": false,
     "input": [
      "[1,2,3,4,5,6].reject{|e| e % 2 == 0 }"
     ],
     "language": "python",
     "metadata": {},
     "outputs": [
      {
       "metadata": {},
       "output_type": "pyout",
       "prompt_number": 12,
       "text": [
        "[1, 3, 5]"
       ]
      }
     ],
     "prompt_number": 12
    },
    {
     "cell_type": "markdown",
     "metadata": {},
     "source": [
      "Bardzo cz\u0119sto wykorzystywan\u0105 metod\u0105 jest r\u00f3wnie\u017c `map`\n",
      "```ruby\n",
      "[1,2,3,4,5].map{|e| e * 2 }\n",
      "[\"Ala\", \"Anna\", \"Agata\"].map{|e| e.upcase }\n",
      "```"
     ]
    },
    {
     "cell_type": "code",
     "collapsed": false,
     "input": [
      "[\"Ala\", \"Anna\", \"Agata\"].map{|e| e.upcase }"
     ],
     "language": "python",
     "metadata": {},
     "outputs": [
      {
       "metadata": {},
       "output_type": "pyout",
       "prompt_number": 14,
       "text": [
        "[\"ALA\", \"ANNA\", \"AGATA\"]"
       ]
      }
     ],
     "prompt_number": 14
    },
    {
     "cell_type": "markdown",
     "metadata": {},
     "source": [
      "Nieco rzadziej wykorzystywan\u0105 metod\u0105 jest `inject`, kt\u00f3ra poza tym, \u017ce przechodzi przez wszystkie elementy, przekazuje do bloku\n",
      "wynik eweluacji wcze\u015bniejszego wyra\u017cenia. Pozwala to w bardzo prosty spos\u00f3b np. oblicy\u0107 sum\u0119 element\u00f3w tablic\n",
      "```ruby\n",
      "[1,2,3,4].inject(0){|suma,element| suma + element }\n",
      "```"
     ]
    },
    {
     "cell_type": "code",
     "collapsed": false,
     "input": [
      "[1,2,3,4].inject(0){|suma,element| suma + element }"
     ],
     "language": "python",
     "metadata": {},
     "outputs": [
      {
       "metadata": {},
       "output_type": "pyout",
       "prompt_number": 15,
       "text": [
        "10"
       ]
      }
     ],
     "prompt_number": 15
    },
    {
     "cell_type": "markdown",
     "metadata": {},
     "source": [
      "Oczywi\u015bcie metoda ta nie dzia\u0142a wy\u0142\u0105cznie na liczbach. Mo\u017cna np. skonkatenowa\u0107 jaki\u015b napis\n",
      "```ruby\n",
      "[\"Ala\", \"Anna\", \"Agata\"].inject(\"\"){|wynik,imie| wynik + \" #{imie.upcase}\" }\n",
      "```"
     ]
    },
    {
     "cell_type": "code",
     "collapsed": false,
     "input": [
      "[\"Ala\", \"Anna\", \"Agata\"].inject(\"\"){|wynik,imie| wynik + \" #{imie.upcase}\" }\n"
     ],
     "language": "python",
     "metadata": {},
     "outputs": [
      {
       "metadata": {},
       "output_type": "pyout",
       "prompt_number": 17,
       "text": [
        "\" ALA ANNA AGATA\""
       ]
      }
     ],
     "prompt_number": 17
    },
    {
     "cell_type": "markdown",
     "metadata": {},
     "source": [
      "Na koniec warto wspomnie\u0107 o dw\u00f3ch metodach s\u0142u\u017c\u0105cych do sortowania: `sort` oraz `sort_by`. Wywo\u0142anie tej pierwszej \n",
      "bez bloku kodu spowoduje posortowanie element\u00f3w w naturany spos\u00f3b\n",
      "```ruby\n",
      "[3,1,7,6,2].sort\n",
      "```"
     ]
    },
    {
     "cell_type": "code",
     "collapsed": false,
     "input": [
      "[3,1,7,6,2].sort"
     ],
     "language": "python",
     "metadata": {},
     "outputs": [
      {
       "metadata": {},
       "output_type": "pyout",
       "prompt_number": 18,
       "text": [
        "[1, 2, 3, 6, 7]"
       ]
      }
     ],
     "prompt_number": 18
    },
    {
     "cell_type": "markdown",
     "metadata": {},
     "source": [
      "Mo\u017cemy jednak zdefiniowa\u0107 sw\u00f3j w\u0142asny spos\u00f3b sortowania. Konieczne jest wtedy przekazanie bloku kodu, kt\u00f3ry akceptuje dwa\n",
      "argumentu podlegaj\u0105ce por\u00f3wnaniu, np.\n",
      "```ruby\n",
      "[\"A\",\"ca\u0142ego\",\"ma\u0142e\",\"Ala\",\"Be\"].sort{|a,b| a.size <=> b.size }\n",
      "```"
     ]
    },
    {
     "cell_type": "code",
     "collapsed": false,
     "input": [
      "[\"A\",\"ca\u0142ego\",\"ma\u0142e\",\"Ala\",\"Be\"].sort{|a,b| a.size <=> b.size }"
     ],
     "language": "python",
     "metadata": {},
     "outputs": [
      {
       "metadata": {},
       "output_type": "pyout",
       "prompt_number": 19,
       "text": [
        "[\"A\", \"Be\", \"Ala\", \"ma\u0142e\", \"ca\u0142ego\"]"
       ]
      }
     ],
     "prompt_number": 19
    },
    {
     "cell_type": "markdown",
     "metadata": {},
     "source": [
      "Warto por\u00f3wna\u0107 wynik tej metody z metod\u0105 `sort` bez bloku:\n",
      "```ruby\n",
      "[\"A\",\"ca\u0142ego\",\"ma\u0142e\",\"Ala\",\"Be\"].sort\n",
      "```"
     ]
    },
    {
     "cell_type": "code",
     "collapsed": false,
     "input": [
      "[\"A\",\"ca\u0142ego\",\"ma\u0142e\",\"Ala\",\"Be\"].sort"
     ],
     "language": "python",
     "metadata": {},
     "outputs": [
      {
       "metadata": {},
       "output_type": "pyout",
       "prompt_number": 20,
       "text": [
        "[\"A\", \"Ala\", \"Be\", \"ca\u0142ego\", \"ma\u0142e\"]"
       ]
      }
     ],
     "prompt_number": 20
    },
    {
     "cell_type": "markdown",
     "metadata": {},
     "source": [
      "Metoda `sort_by` pozwala natomiast posortowa\u0107 elementy wzgl\u0119dem wybranej w\u0142asno\u015bci. Sortowanie wzgl\u0119dem d\u0142ugo\u015bci \u0142a\u0144cuch\u00f3w mo\u017cna\n",
      "zrealizowa\u0107 nast\u0119puj\u0105co:\n",
      "```ruby\n",
      "[\"A\",\"ca\u0142ego\",\"ma\u0142e\",\"Ala\",\"Be\"].sort_by{|a| a.size }\n",
      "```"
     ]
    },
    {
     "cell_type": "code",
     "collapsed": false,
     "input": [
      "[\"A\",\"ca\u0142ego\",\"ma\u0142e\",\"Ala\",\"Be\"].sort_by{|a| a.size }"
     ],
     "language": "python",
     "metadata": {},
     "outputs": [
      {
       "metadata": {},
       "output_type": "pyout",
       "prompt_number": 21,
       "text": [
        "[\"A\", \"Be\", \"Ala\", \"ma\u0142e\", \"ca\u0142ego\"]"
       ]
      }
     ],
     "prompt_number": 21
    },
    {
     "cell_type": "heading",
     "level": 3,
     "metadata": {},
     "source": [
      "Zadanie 2"
     ]
    },
    {
     "cell_type": "markdown",
     "metadata": {},
     "source": [
      "Napisz program, kt\u00f3ry oblicza sum\u0119 cyfr zadanej liczby. "
     ]
    },
    {
     "cell_type": "code",
     "collapsed": false,
     "input": [
      "tablica = Array.new\n",
      "liczba = 1456323465\n",
      "while(liczba > 0) do\n",
      "  cyfra = liczba % 10\n",
      "  liczba = liczba/10 \n",
      "  tablica << cyfra\n",
      "end\n",
      "\n",
      "p tablica\n",
      "p tablica.inject(0){|suma,element| suma + element }"
     ],
     "language": "python",
     "metadata": {},
     "outputs": [
      {
       "output_type": "stream",
       "stream": "stdout",
       "text": [
        "[5, 6, 4, 3, 2, 3, 6, 5, 4, 1]"
       ]
      },
      {
       "output_type": "stream",
       "stream": "stdout",
       "text": [
        "\n"
       ]
      },
      {
       "output_type": "stream",
       "stream": "stdout",
       "text": [
        "39"
       ]
      },
      {
       "output_type": "stream",
       "stream": "stdout",
       "text": [
        "\n"
       ]
      },
      {
       "metadata": {},
       "output_type": "pyout",
       "prompt_number": 5,
       "text": [
        "39"
       ]
      }
     ],
     "prompt_number": 5
    },
    {
     "cell_type": "heading",
     "level": 3,
     "metadata": {},
     "source": [
      "Zadanie 3*"
     ]
    },
    {
     "cell_type": "markdown",
     "metadata": {},
     "source": [
      "Napisz program, kt\u00f3ry w\u015br\u00f3d liczb od 0 do 100 znajduje wszystkie liczby kt\u00f3re s\u0105 podzielne przez 2, ale nie s\u0105 podzielne przez 4 i kt\u00f3rych suma cyfr jest podzielna przez 7."
     ]
    },
    {
     "cell_type": "code",
     "collapsed": false,
     "input": [
      "tablica = (0..100).to_a\n",
      "def spr(liczba)\n",
      "  licz = 0\n",
      "  while(liczba > 0) do\n",
      "    cyfra = liczba % 10\n",
      "    liczba = liczba/10 \n",
      "    licz += cyfra\n",
      "  end\n",
      "\n",
      "end\n",
      "suma= tablica.inject(0){|suma,element| suma + element }\n",
      "\n",
      "tablica.each do |i|\n",
      "  if (i % 2 == 0 && i % 4 != 0)\n",
      "end\n",
      "\n",
      "\n",
      "\n"
     ],
     "language": "python",
     "metadata": {},
     "outputs": [
      {
       "output_type": "stream",
       "stream": "stdout",
       "text": [
        "[0, 2, 4, 6, 8, 10, 12, 14, 16, 18, 20, 22, 24, 26, 28, 30, 32, 34, 36, 38, 40, 42, 44, 46, 48, 50, 52, 54, 56, 58, 60, 62, 64, 66, 68, 70, 72, 74, 76, 78, 80, 82, 84, 86, 88, 90, 92, 94, 96, 98, 100]"
       ]
      },
      {
       "output_type": "stream",
       "stream": "stdout",
       "text": [
        "\n"
       ]
      },
      {
       "output_type": "stream",
       "stream": "stdout",
       "text": [
        "[1, 2, 3, 5, 6, 7, 9, 10, 11, 13, 14, 15, 17, 18, 19, 21, 22, 23, 25, 26, 27, 29, 30, 31, 33, 34, 35, 37, 38, 39, 41, 42, 43, 45, 46, 47, 49, 50, 51, 53, 54, 55, 57, 58, 59, 61, 62, 63, 65, 66, 67, 69, 70, 71, 73, 74, 75, 77, 78, 79, 81, 82, 83, 85, 86, 87, 89, 90, 91, 93, 94, 95, 97, 98, 99]"
       ]
      },
      {
       "output_type": "stream",
       "stream": "stdout",
       "text": [
        "\n"
       ]
      },
      {
       "output_type": "stream",
       "stream": "stdout",
       "text": [
        "5050"
       ]
      },
      {
       "output_type": "stream",
       "stream": "stdout",
       "text": [
        "\n"
       ]
      },
      {
       "metadata": {},
       "output_type": "pyout",
       "prompt_number": 29,
       "text": [
        "5050"
       ]
      }
     ],
     "prompt_number": 29
    },
    {
     "cell_type": "heading",
     "level": 3,
     "metadata": {},
     "source": [
      "Zadanie 4*"
     ]
    },
    {
     "cell_type": "markdown",
     "metadata": {},
     "source": [
      "Za\u0142\u00f3\u017cmy, \u017ce w turnieju szachowym jest 6 zawodnik\u00f3w: Anna, Beata, Andrzej, Wojtek, Jan i Klaudia. Napisz kod, kt\u00f3ry znajdzie wszystkie mo\u017cliwe mecze rozgrywane przez zawodnik\u00f3w. Mecze rozgrywane pomi\u0119dzy tymi samymi zawodnikami nie mog\u0105 si\u0119 powtarza\u0107 (kolejno\u015b\u0107 zawodnik\u00f3w nie ma znaczenia)."
     ]
    },
    {
     "cell_type": "code",
     "collapsed": false,
     "input": [],
     "language": "python",
     "metadata": {},
     "outputs": [],
     "prompt_number": 6
    }
   ],
   "metadata": {}
  }
 ]
}