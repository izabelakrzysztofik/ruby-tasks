{
 "cells": [
  {
   "cell_type": "markdown",
   "metadata": {},
   "source": [
    "# Pętle"
   ]
  },
  {
   "cell_type": "markdown",
   "metadata": {},
   "source": [
    "## loop"
   ]
  },
  {
   "cell_type": "markdown",
   "metadata": {},
   "source": [
    "`loop` to pętla nieskończona. Należy jej używać ostrożnie:\n",
    "```ruby\n",
    "loop do\n",
    "  puts \"Pętla nieskończona\"\n",
    "  sleep(1)\n",
    "end\n",
    "```\n",
    "(Możesz ją przerwać klikając na czarny kwadrat powyżej.)"
   ]
  },
  {
   "cell_type": "code",
   "execution_count": 1,
   "metadata": {
    "collapsed": false
   },
   "outputs": [
    {
     "name": "stdout",
     "output_type": "stream",
     "text": [
      "Pętla nieskończona\n",
      "Pętla nieskończona\n",
      "Pętla nieskończona\n",
      "Pętla nieskończona\n",
      "Pętla nieskończona\n",
      "Pętla nieskończona\n",
      "Pętla nieskończona\n"
     ]
    },
    {
     "ename": "Interrupt",
     "evalue": "",
     "output_type": "error",
     "traceback": [
      "\u001b[31mInterrupt\u001b[0m: ",
      "\u001b[37m<main>:2:in `sleep'\u001b[0m",
      "\u001b[37m<main>:2:in `block in <main>'\u001b[0m",
      "\u001b[37m<main>:in `loop'\u001b[0m",
      "\u001b[37m<main>:in `<main>'\u001b[0m",
      "\u001b[37m/usr/local/rvm/gems/ruby-2.0.0-p0/gems/iruby-0.1.13/lib/iruby/backend.rb:8:in `eval'\u001b[0m",
      "\u001b[37m/usr/local/rvm/gems/ruby-2.0.0-p0/gems/iruby-0.1.13/lib/iruby/backend.rb:8:in `eval'\u001b[0m",
      "\u001b[37m/usr/local/rvm/gems/ruby-2.0.0-p0/gems/iruby-0.1.13/lib/iruby/kernel.rb:110:in `execute_request'\u001b[0m",
      "\u001b[37m/usr/local/rvm/gems/ruby-2.0.0-p0/gems/iruby-0.1.13/lib/iruby/kernel.rb:62:in `run'\u001b[0m",
      "\u001b[37m/usr/local/rvm/gems/ruby-2.0.0-p0/gems/iruby-0.1.13/lib/iruby/command.rb:30:in `run_kernel'\u001b[0m",
      "\u001b[37m/usr/local/rvm/gems/ruby-2.0.0-p0/gems/iruby-0.1.13/lib/iruby/command.rb:16:in `run'\u001b[0m",
      "\u001b[37m/usr/local/rvm/gems/ruby-2.0.0-p0/gems/iruby-0.1.13/bin/iruby:6:in `<top (required)>'\u001b[0m",
      "\u001b[37m/usr/local/rvm/gems/ruby-2.0.0-p0/bin/iruby:23:in `load'\u001b[0m",
      "\u001b[37m/usr/local/rvm/gems/ruby-2.0.0-p0/bin/iruby:23:in `<main>'\u001b[0m",
      "\u001b[37m/usr/local/rvm/gems/ruby-2.0.0-p0/bin/ruby_noexec_wrapper:14:in `eval'\u001b[0m",
      "\u001b[37m/usr/local/rvm/gems/ruby-2.0.0-p0/bin/ruby_noexec_wrapper:14:in `<main>'\u001b[0m"
     ]
    }
   ],
   "source": [
    "loop do\n",
    "  puts \"Pętla nieskończona\"\n",
    "  sleep(1)\n",
    "end"
   ]
  },
  {
   "cell_type": "markdown",
   "metadata": {},
   "source": [
    "Zwykle jest wykorzystywana w połączeniu z poleceniem `break`, które powoduje jej przerwanie:\n",
    "```ruby\n",
    "loop_count = 0\n",
    "loop do\n",
    "  loop_count += 1\n",
    "  puts \"Pętla skończona #{loop_count}\"\n",
    "  break if loop_count >= 10\n",
    "end\n",
    "```"
   ]
  },
  {
   "cell_type": "code",
   "execution_count": 2,
   "metadata": {
    "collapsed": false
   },
   "outputs": [
    {
     "name": "stdout",
     "output_type": "stream",
     "text": [
      "Pętla skończona 1\n",
      "Pętla skończona 2\n",
      "Pętla skończona 3\n",
      "Pętla skończona 4\n",
      "Pętla skończona 5\n",
      "Pętla skończona 6\n",
      "Pętla skończona 7\n",
      "Pętla skończona 8\n",
      "Pętla skończona 9\n",
      "Pętla skończona 10\n"
     ]
    }
   ],
   "source": [
    "loop_count = 0\n",
    "loop do\n",
    "  loop_count += 1\n",
    "  puts \"Pętla skończona #{loop_count}\"\n",
    "  break if loop_count >= 10\n",
    "end"
   ]
  },
  {
   "cell_type": "markdown",
   "metadata": {},
   "source": [
    "## while, until"
   ]
  },
  {
   "cell_type": "markdown",
   "metadata": {},
   "source": [
    "Jeśli jednak isnieje tylko jeden warunek opuszczenia pętli, zwykle korzystamy z pętli `while` lub `until`.\n",
    "Pierwsza z nich wykonuje się, tak długo jak warunek jest spełniony, np.\n",
    "```ruby\n",
    "counter = 1\n",
    "while(counter < 10) do\n",
    "  puts \"Pętla until #{counter}\"\n",
    "  counter += 1\n",
    "end\n",
    "```"
   ]
  },
  {
   "cell_type": "code",
   "execution_count": 2,
   "metadata": {
    "collapsed": false
   },
   "outputs": [
    {
     "name": "stdout",
     "output_type": "stream",
     "text": [
      "Pętla until 1\n",
      "Pętla until 2\n",
      "Pętla until 3\n",
      "Pętla until 4\n",
      "Pętla until 5\n",
      "Pętla until 6\n",
      "Pętla until 7\n",
      "Pętla until 8\n",
      "Pętla until 9\n"
     ]
    }
   ],
   "source": [
    "counter = 1\n",
    "while(counter < 10) do\n",
    "  puts \"Pętla until #{counter}\"\n",
    "  sleep (1)\n",
    "  counter += 1\n",
    "end"
   ]
  },
  {
   "cell_type": "markdown",
   "metadata": {},
   "source": [
    "Pętla `until` wykonuje się zaś do momentu, w którym warunek zostanie spełniony:\n",
    "```ruby\n",
    "counter = 1\n",
    "until(counter > 10) do\n",
    "  puts \"Pętla until #{counter}\"\n",
    "  counter += 1\n",
    "end\n",
    "```"
   ]
  },
  {
   "cell_type": "code",
   "execution_count": 3,
   "metadata": {
    "collapsed": false
   },
   "outputs": [
    {
     "name": "stdout",
     "output_type": "stream",
     "text": [
      "Pętla until 1\n",
      "Pętla until 2\n",
      "Pętla until 3\n",
      "Pętla until 4\n",
      "Pętla until 5\n",
      "Pętla until 6\n",
      "Pętla until 7\n",
      "Pętla until 8\n",
      "Pętla until 9\n",
      "Pętla until 10\n",
      "Pętla until 11\n"
     ]
    }
   ],
   "source": [
    "counter = 1\n",
    "until(counter > 11) do\n",
    "  puts \"Pętla until #{counter}\"\n",
    "  counter += 1\n",
    "end"
   ]
  },
  {
   "cell_type": "markdown",
   "metadata": {},
   "source": [
    "Można jej użyć, np. do wyświetlenia zawartości pliku:\n",
    "```ruby\n",
    "file = File.open(\"data/books.csv\")\n",
    "until(file.eof?) do\n",
    "  puts file.readline.chomp\n",
    "end\n",
    "```"
   ]
  },
  {
   "cell_type": "code",
   "execution_count": 5,
   "metadata": {
    "collapsed": false
   },
   "outputs": [
    {
     "name": "stdout",
     "output_type": "stream",
     "text": [
      "\"a\",\"b\"\n",
      "\"http://hu.dbpedia.org/resource/Orson_Scott_Card\",\"http://hu.dbpedia.org/resource/Végjáték_(regény)\"\n",
      "\"http://pl.dbpedia.org/resource/Andrzej_Sapkowski\",\"http://pl.dbpedia.org/resource/Pani_Jeziora_(powieść)\"\n",
      "\"http://pl.dbpedia.org/resource/Jack_London\",\"http://pl.dbpedia.org/resource/Bellew_Zawierucha\"\n",
      "\"http://pl.dbpedia.org/resource/Henning_Mankell\",\"http://pl.dbpedia.org/resource/Fałszywy_trop_(powieść)\"\n",
      "\"http://pl.dbpedia.org/resource/Stanisław_Lem\",\"http://pl.dbpedia.org/resource/Bajki_robotów\"\n",
      "\"http://pl.dbpedia.org/resource/Antoni_Gołubiew\",\"http://pl.dbpedia.org/resource/Bolesław_Chrobry_(powieść)\"\n",
      "\"http://pl.dbpedia.org/resource/Mikołaj_Kopernik\",\"http://pl.dbpedia.org/resource/De_revolutionibus_orbium_coelestium\"\n",
      "\"http://pl.dbpedia.org/resource/Maria_Franciszka_Kozłowska\",\"http://pl.dbpedia.org/resource/Dzieło_Wielkiego_Miłosierdzia\"\n",
      "\"http://pl.dbpedia.org/resource/George_Orwell\",\"http://pl.dbpedia.org/resource/Folwark_zwierzęcy\"\n",
      "\"http://pl.dbpedia.org/resource/William_Szekspir\",\"http://pl.dbpedia.org/resource/Hamlet\"\n",
      "\"http://pl.dbpedia.org/resource/J._K._Rowling\",\"http://pl.dbpedia.org/resource/Harry_Potter\"\n"
     ]
    },
    {
     "ename": "Interrupt",
     "evalue": "",
     "output_type": "error",
     "traceback": [
      "\u001b[31mInterrupt\u001b[0m: ",
      "\u001b[37m<main>:3:in `sleep'\u001b[0m",
      "\u001b[37m<main>:3:in `<main>'\u001b[0m",
      "\u001b[37m/home/izabela/.rvm/gems/ruby-2.2.3/gems/iruby-0.2.7/lib/iruby/backend.rb:44:in `eval'\u001b[0m",
      "\u001b[37m/home/izabela/.rvm/gems/ruby-2.2.3/gems/iruby-0.2.7/lib/iruby/backend.rb:44:in `eval'\u001b[0m",
      "\u001b[37m/home/izabela/.rvm/gems/ruby-2.2.3/gems/iruby-0.2.7/lib/iruby/backend.rb:12:in `eval'\u001b[0m",
      "\u001b[37m/home/izabela/.rvm/gems/ruby-2.2.3/gems/iruby-0.2.7/lib/iruby/kernel.rb:87:in `execute_request'\u001b[0m",
      "\u001b[37m/home/izabela/.rvm/gems/ruby-2.2.3/gems/iruby-0.2.7/lib/iruby/kernel.rb:47:in `dispatch'\u001b[0m",
      "\u001b[37m/home/izabela/.rvm/gems/ruby-2.2.3/gems/iruby-0.2.7/lib/iruby/kernel.rb:37:in `run'\u001b[0m",
      "\u001b[37m/home/izabela/.rvm/gems/ruby-2.2.3/gems/iruby-0.2.7/lib/iruby/command.rb:70:in `run_kernel'\u001b[0m",
      "\u001b[37m/home/izabela/.rvm/gems/ruby-2.2.3/gems/iruby-0.2.7/lib/iruby/command.rb:34:in `run'\u001b[0m",
      "\u001b[37m/home/izabela/.rvm/gems/ruby-2.2.3/gems/iruby-0.2.7/bin/iruby:5:in `<top (required)>'\u001b[0m",
      "\u001b[37m/home/izabela/.rvm/gems/ruby-2.2.3/bin/iruby:23:in `load'\u001b[0m",
      "\u001b[37m/home/izabela/.rvm/gems/ruby-2.2.3/bin/iruby:23:in `<main>'\u001b[0m",
      "\u001b[37m/home/izabela/.rvm/gems/ruby-2.2.3/bin/ruby_executable_hooks:15:in `eval'\u001b[0m",
      "\u001b[37m/home/izabela/.rvm/gems/ruby-2.2.3/bin/ruby_executable_hooks:15:in `<main>'\u001b[0m"
     ]
    }
   ],
   "source": [
    "file = File.open(\"data/books.csv\")\n",
    "until(file.eof?) do\n",
    "  puts file.readline.chomp\n",
    "  sleep (1)\n",
    "end\n"
   ]
  },
  {
   "cell_type": "markdown",
   "metadata": {},
   "source": [
    "## for"
   ]
  },
  {
   "cell_type": "markdown",
   "metadata": {},
   "source": [
    "W Ruby nie ma klasycznej pętli `for` znanej z języka C, tzn. `for(i = 0; i < 10; i++)`. Istnieje jednak pętla `for`, która służy do iterowania po strukturach sekwencyjnych, np. tablicach:\n",
    "```ruby\n",
    "letters = [\"a\",\"b\",\"c\"]\n",
    "for letter in letters do\n",
    "  puts letter\n",
    "end\n",
    "```"
   ]
  },
  {
   "cell_type": "code",
   "execution_count": 7,
   "metadata": {
    "collapsed": false
   },
   "outputs": [
    {
     "name": "stdout",
     "output_type": "stream",
     "text": [
      "a\n",
      "b\n",
      "c\n"
     ]
    },
    {
     "data": {
      "text/plain": [
       "[\"a\", \"b\", \"c\"]"
      ]
     },
     "execution_count": 7,
     "metadata": {},
     "output_type": "execute_result"
    }
   ],
   "source": [
    "letters = [\"a\",\"b\",\"c\"]\n",
    "for letter in letters do\n",
    "  puts letter\n",
    "end"
   ]
  },
  {
   "cell_type": "markdown",
   "metadata": {},
   "source": [
    "Można jej również użyć do innych struktur, np. tablic asocjacyjnych:\n",
    "```ruby\n",
    "letters = {1 => \"a\", 2 => \"b\", 3 => \"c\"}\n",
    "for index,letter in letters do\n",
    "  puts \"#{index}. #{letter}\"\n",
    "end\n",
    "```"
   ]
  },
  {
   "cell_type": "code",
   "execution_count": 8,
   "metadata": {
    "collapsed": false
   },
   "outputs": [
    {
     "name": "stdout",
     "output_type": "stream",
     "text": [
      "1. a\n",
      "2. b\n",
      "3. c\n"
     ]
    },
    {
     "data": {
      "text/plain": [
       "{1=>\"a\", 2=>\"b\", 3=>\"c\"}"
      ]
     },
     "execution_count": 8,
     "metadata": {},
     "output_type": "execute_result"
    }
   ],
   "source": [
    "letters = {1 => \"a\", 2 => \"b\", 3 => \"c\"}\n",
    "for index,letter in letters do\n",
    "  puts \"#{index}. #{letter}\"\n",
    "end"
   ]
  },
  {
   "cell_type": "markdown",
   "metadata": {},
   "source": [
    "## times, upto, downto, step"
   ]
  },
  {
   "cell_type": "markdown",
   "metadata": {},
   "source": [
    "Chociaż w Ruby nie ma klasycznej pętli `for` to istnieją inne konstrukcje, pozwalające na wykonanie pętli określoną ilość razy.\n",
    "Pierwszą z nich jest `times` - jej semantyka jest bardzo prosta. Ponieważ wywoływana jest dla liczb naturalnych, kod wykonuje się tyle razy, ile wynosi wartość danej liczby:\n",
    "```ruby\n",
    "3.times do\n",
    "  puts \"Witaj EPI!\"\n",
    "end\n",
    "```"
   ]
  },
  {
   "cell_type": "code",
   "execution_count": 9,
   "metadata": {
    "collapsed": false
   },
   "outputs": [
    {
     "name": "stdout",
     "output_type": "stream",
     "text": [
      "Witaj EPI!\n",
      "Witaj EPI!\n",
      "Witaj EPI!\n"
     ]
    },
    {
     "data": {
      "text/plain": [
       "3"
      ]
     },
     "execution_count": 9,
     "metadata": {},
     "output_type": "execute_result"
    }
   ],
   "source": [
    "3.times do\n",
    "  puts \"Witaj EPI!\"\n",
    "end"
   ]
  },
  {
   "cell_type": "markdown",
   "metadata": {},
   "source": [
    "`upto` i `downto` mają podobne zastosowanie. `upto` pozwala na określenie dolnego i górnego zakresu:\n",
    "```ruby\n",
    "10.upto(20) do |index|\n",
    "  puts \"Indeks wynosi #{index}\"\n",
    "end\n",
    "```"
   ]
  },
  {
   "cell_type": "code",
   "execution_count": 7,
   "metadata": {
    "collapsed": false
   },
   "outputs": [
    {
     "name": "stdout",
     "output_type": "stream",
     "text": [
      "Indeks wynosi 6\n",
      "Indeks wynosi 7\n",
      "Indeks wynosi 8\n",
      "Indeks wynosi 9\n",
      "Indeks wynosi 10\n",
      "Indeks wynosi 11\n",
      "Indeks wynosi 12\n",
      "Indeks wynosi 13\n",
      "Indeks wynosi 14\n",
      "Indeks wynosi 15\n",
      "Indeks wynosi 16\n",
      "Indeks wynosi 17\n",
      "Indeks wynosi 18\n",
      "Indeks wynosi 19\n",
      "Indeks wynosi 20\n"
     ]
    },
    {
     "data": {
      "text/plain": [
       "6"
      ]
     },
     "execution_count": 7,
     "metadata": {},
     "output_type": "execute_result"
    }
   ],
   "source": [
    "6.upto(20) do |index|\n",
    "  puts \"Indeks wynosi #{index}\"\n",
    "end"
   ]
  },
  {
   "cell_type": "markdown",
   "metadata": {},
   "source": [
    "`downto` również pozwala na określenie zakresu, ale wykonywana jest od wartości największej, do najmniejszej:\n",
    "```ruby\n",
    "20.downto(10) do |index|\n",
    "  puts \"Indeks wynosi #{index}\"\n",
    "end\n",
    "```"
   ]
  },
  {
   "cell_type": "code",
   "execution_count": 2,
   "metadata": {
    "collapsed": false
   },
   "outputs": [
    {
     "name": "stdout",
     "output_type": "stream",
     "text": [
      "Indeks wynosi 20\n",
      "Indeks wynosi 19\n",
      "Indeks wynosi 18\n",
      "Indeks wynosi 17\n",
      "Indeks wynosi 16\n",
      "Indeks wynosi 15\n",
      "Indeks wynosi 14\n",
      "Indeks wynosi 13\n",
      "Indeks wynosi 12\n",
      "Indeks wynosi 11\n",
      "Indeks wynosi 10\n"
     ]
    },
    {
     "data": {
      "text/plain": [
       "20"
      ]
     },
     "execution_count": 2,
     "metadata": {},
     "output_type": "execute_result"
    }
   ],
   "source": [
    "20.downto(10) do |index|\n",
    "  puts \"Indeks wynosi #{index}\"\n",
    "end"
   ]
  },
  {
   "cell_type": "markdown",
   "metadata": {},
   "source": [
    "`step` pozwala na swobodne określenie kroku:\n",
    "```ruby\n",
    "10.step(20,2) do |index|\n",
    "  puts \"Indeks wynosi #{index}\"\n",
    "end\n",
    "```"
   ]
  },
  {
   "cell_type": "code",
   "execution_count": 8,
   "metadata": {
    "collapsed": false
   },
   "outputs": [
    {
     "name": "stdout",
     "output_type": "stream",
     "text": [
      "Indeks wynosi 10\n",
      "Indeks wynosi 15\n",
      "Indeks wynosi 20\n"
     ]
    },
    {
     "data": {
      "text/plain": [
       "10"
      ]
     },
     "execution_count": 8,
     "metadata": {},
     "output_type": "execute_result"
    }
   ],
   "source": [
    "10.step(20,5) do |index|\n",
    "  puts \"Indeks wynosi #{index}\"\n",
    "end"
   ]
  },
  {
   "cell_type": "markdown",
   "metadata": {},
   "source": [
    "### Zadanie 1"
   ]
  },
  {
   "cell_type": "markdown",
   "metadata": {},
   "source": [
    "Wiedząc, że w w 2016 roku pierwsza niedziela wypada 3 stycznia, określ numery pozostałych dni, w które wypada niedziela. Nie chodzio daty, tylko numery dni w roku (3, 10, itd.)"
   ]
  },
  {
   "cell_type": "code",
   "execution_count": 7,
   "metadata": {
    "collapsed": false
   },
   "outputs": [
    {
     "name": "stdout",
     "output_type": "stream",
     "text": [
      "Następna niedziela to 3 dzień roku\n",
      "Następna niedziela to 10 dzień roku\n",
      "Następna niedziela to 17 dzień roku\n",
      "Następna niedziela to 24 dzień roku\n",
      "Następna niedziela to 31 dzień roku\n",
      "Następna niedziela to 38 dzień roku\n",
      "Następna niedziela to 45 dzień roku\n",
      "Następna niedziela to 52 dzień roku\n",
      "Następna niedziela to 59 dzień roku\n",
      "Następna niedziela to 66 dzień roku\n",
      "Następna niedziela to 73 dzień roku\n",
      "Następna niedziela to 80 dzień roku\n",
      "Następna niedziela to 87 dzień roku\n",
      "Następna niedziela to 94 dzień roku\n",
      "Następna niedziela to 101 dzień roku\n",
      "Następna niedziela to 108 dzień roku\n",
      "Następna niedziela to 115 dzień roku\n",
      "Następna niedziela to 122 dzień roku\n",
      "Następna niedziela to 129 dzień roku\n",
      "Następna niedziela to 136 dzień roku\n",
      "Następna niedziela to 143 dzień roku\n",
      "Następna niedziela to 150 dzień roku\n",
      "Następna niedziela to 157 dzień roku\n",
      "Następna niedziela to 164 dzień roku\n",
      "Następna niedziela to 171 dzień roku\n",
      "Następna niedziela to 178 dzień roku\n",
      "Następna niedziela to 185 dzień roku\n",
      "Następna niedziela to 192 dzień roku\n",
      "Następna niedziela to 199 dzień roku\n",
      "Następna niedziela to 206 dzień roku\n",
      "Następna niedziela to 213 dzień roku\n",
      "Następna niedziela to 220 dzień roku\n",
      "Następna niedziela to 227 dzień roku\n",
      "Następna niedziela to 234 dzień roku\n",
      "Następna niedziela to 241 dzień roku\n",
      "Następna niedziela to 248 dzień roku\n",
      "Następna niedziela to 255 dzień roku\n",
      "Następna niedziela to 262 dzień roku\n",
      "Następna niedziela to 269 dzień roku\n",
      "Następna niedziela to 276 dzień roku\n",
      "Następna niedziela to 283 dzień roku\n",
      "Następna niedziela to 290 dzień roku\n",
      "Następna niedziela to 297 dzień roku\n",
      "Następna niedziela to 304 dzień roku\n",
      "Następna niedziela to 311 dzień roku\n",
      "Następna niedziela to 318 dzień roku\n",
      "Następna niedziela to 325 dzień roku\n",
      "Następna niedziela to 332 dzień roku\n",
      "Następna niedziela to 339 dzień roku\n",
      "Następna niedziela to 346 dzień roku\n",
      "Następna niedziela to 353 dzień roku\n",
      "Następna niedziela to 360 dzień roku\n"
     ]
    },
    {
     "data": {
      "text/plain": [
       "3"
      ]
     },
     "execution_count": 7,
     "metadata": {},
     "output_type": "execute_result"
    }
   ],
   "source": [
    "3.step(365,7) do |index|\n",
    "  puts \"Następna niedziela to #{index} dzień roku\"\n",
    "end"
   ]
  },
  {
   "cell_type": "markdown",
   "metadata": {},
   "source": [
    "## Metody iteracyjne"
   ]
  },
  {
   "cell_type": "markdown",
   "metadata": {},
   "source": [
    "Metody iteracyjne pozwalają wykonywać operacje na elementach kontenerów. Są one odpowiednikami pętli w innych językach programowania. Pozwalają jedak bardziej bezpośrednio wyrazić jaka jest intencja twórcy algorytmu.\n",
    "\n",
    "Najczęściej używaną metodą iteracyjną jest `each`, która wywołuje blok kodu dla każdego elementu tablicy\n",
    "```ruby\n",
    "[1,2,3,4].each do |element|\n",
    "  puts element ** 2\n",
    "end\n",
    "```"
   ]
  },
  {
   "cell_type": "code",
   "execution_count": 5,
   "metadata": {
    "collapsed": false
   },
   "outputs": [
    {
     "name": "stdout",
     "output_type": "stream",
     "text": [
      "1\n",
      "4\n",
      "9\n",
      "16\n"
     ]
    },
    {
     "data": {
      "text/plain": [
       "[1, 2, 3, 4]"
      ]
     },
     "execution_count": 5,
     "metadata": {},
     "output_type": "execute_result"
    }
   ],
   "source": [
    "[1,2,3,4].each do |element|\n",
    "  puts element ** 2\n",
    "end"
   ]
  },
  {
   "cell_type": "markdown",
   "metadata": {},
   "source": [
    "Dzięki metodzie `each` możemy uzyskać ten sam efekt jaki daje metoda `upto`, jeśli wywołamy ją na zakresie:\n",
    "```ruby\n",
    "1.upto(10){|i| puts \"upto: #{i}\" }\n",
    "(1..10).each{|i| puts \"each: #{i}\" }\n",
    "```"
   ]
  },
  {
   "cell_type": "code",
   "execution_count": 8,
   "metadata": {
    "collapsed": false
   },
   "outputs": [
    {
     "name": "stdout",
     "output_type": "stream",
     "text": [
      "upto: 1\n",
      "upto: 2\n",
      "upto: 3\n",
      "upto: 4\n",
      "upto: 5\n",
      "upto: 6\n",
      "upto: 7\n",
      "upto: 8\n",
      "upto: 9\n",
      "upto: 10\n",
      "each: 1\n",
      "each: 2\n",
      "each: 3\n",
      "each: 4\n",
      "each: 5\n",
      "each: 6\n",
      "each: 7\n",
      "each: 8\n",
      "each: 9\n",
      "each: 10\n"
     ]
    },
    {
     "data": {
      "text/plain": [
       "1..10"
      ]
     },
     "execution_count": 8,
     "metadata": {},
     "output_type": "execute_result"
    }
   ],
   "source": [
    "1.upto(10){|i| puts \"upto: #{i}\" }\n",
    "(1..10).each{|i| puts \"each: #{i}\" }"
   ]
  },
  {
   "cell_type": "markdown",
   "metadata": {},
   "source": [
    "Ruby definiuje jednak znacznie więcej przydatnych metod tego rodzaju. Często używaną jest `select`, która wybiera z tablicy tylko \n",
    "te elementy, dla których blok kodu zwrócił wartość `true`\n",
    "```ruby\n",
    "[1,2,3,4,5,6].select{|e| e % 2 == 0 }\n",
    "[\"Ala\", \"Anna\", \"Agata\", \"Barbara\"].select{|imie| imie =~ /^A/ }\n",
    "```"
   ]
  },
  {
   "cell_type": "code",
   "execution_count": 10,
   "metadata": {
    "collapsed": false
   },
   "outputs": [
    {
     "data": {
      "text/plain": [
       "[\"Ala\"]"
      ]
     },
     "execution_count": 10,
     "metadata": {},
     "output_type": "execute_result"
    }
   ],
   "source": [
    "[\"Ala\", \"Anna\", \"Agata\", \"Barbara\"].select{|imie| imie =~ /^Al/ }"
   ]
  },
  {
   "cell_type": "markdown",
   "metadata": {},
   "source": [
    "Metoda ta ma komplementarną wobec niej metodę `reject`\n",
    "```ruby\n",
    "[1,2,3,4,5,6].reject{|e| e % 2 == 0 }\n",
    "[\"Ala\", \"Anna\", \"Agata\", \"Barbara\"].reject{|imie| imie =~ /^A/ }\n",
    "```"
   ]
  },
  {
   "cell_type": "code",
   "execution_count": 12,
   "metadata": {
    "collapsed": false
   },
   "outputs": [
    {
     "data": {
      "text/plain": [
       "[1, 3, 5]"
      ]
     },
     "execution_count": 12,
     "metadata": {},
     "output_type": "execute_result"
    }
   ],
   "source": [
    "[1,2,3,4,5,6].reject{|e| e % 2 == 0 }"
   ]
  },
  {
   "cell_type": "markdown",
   "metadata": {},
   "source": [
    "Bardzo często wykorzystywaną metodą jest również `map`\n",
    "```ruby\n",
    "[1,2,3,4,5].map{|e| e * 2 }\n",
    "[\"Ala\", \"Anna\", \"Agata\"].map{|e| e.upcase }\n",
    "```"
   ]
  },
  {
   "cell_type": "code",
   "execution_count": 16,
   "metadata": {
    "collapsed": false
   },
   "outputs": [
    {
     "data": {
      "text/plain": [
       "[\"ALA\", \"ANNA\", \"AGATA\"]"
      ]
     },
     "execution_count": 16,
     "metadata": {},
     "output_type": "execute_result"
    }
   ],
   "source": [
    "[\"Ala\", \"Anna\", \"Agata\"].map{|e| e.upcase }"
   ]
  },
  {
   "cell_type": "code",
   "execution_count": 11,
   "metadata": {
    "collapsed": false
   },
   "outputs": [
    {
     "data": {
      "text/plain": [
       "[2, 4, 6, 8, 10]"
      ]
     },
     "execution_count": 11,
     "metadata": {},
     "output_type": "execute_result"
    }
   ],
   "source": [
    "[1,2,3,4,5].map{|e| e * 2 }"
   ]
  },
  {
   "cell_type": "markdown",
   "metadata": {},
   "source": [
    "Nieco rzadziej wykorzystywaną metodą jest `inject`, która poza tym, że przechodzi przez wszystkie elementy, przekazuje do bloku\n",
    "wynik eweluacji wcześniejszego wyrażenia. Pozwala to w bardzo prosty sposób np. oblicyć sumę elementów tablic\n",
    "```ruby\n",
    "[1,2,3,4].inject(0){|suma,element| suma + element }\n",
    "```"
   ]
  },
  {
   "cell_type": "code",
   "execution_count": 19,
   "metadata": {
    "collapsed": false
   },
   "outputs": [
    {
     "data": {
      "text/plain": [
       "20"
      ]
     },
     "execution_count": 19,
     "metadata": {},
     "output_type": "execute_result"
    }
   ],
   "source": [
    "[1,2,3,4].inject(10){|suma,element| suma + element }"
   ]
  },
  {
   "cell_type": "markdown",
   "metadata": {},
   "source": [
    "Oczywiście metoda ta nie działa wyłącznie na liczbach. Można np. skonkatenować jakiś napis\n",
    "```ruby\n",
    "[\"Ala\", \"Anna\", \"Agata\"].inject(\"\"){|wynik,imie| wynik + \" #{imie.upcase}\" }\n",
    "```"
   ]
  },
  {
   "cell_type": "code",
   "execution_count": 17,
   "metadata": {
    "collapsed": false
   },
   "outputs": [
    {
     "data": {
      "text/plain": [
       "\" ALA ANNA AGATA\""
      ]
     },
     "execution_count": 17,
     "metadata": {},
     "output_type": "execute_result"
    }
   ],
   "source": [
    "[\"Ala\", \"Anna\", \"Agata\"].inject(\"\"){|wynik,imie| wynik + \" #{imie.upcase}\" }\n"
   ]
  },
  {
   "cell_type": "markdown",
   "metadata": {},
   "source": [
    "Na koniec warto wspomnieć o dwóch metodach służących do sortowania: `sort` oraz `sort_by`. Wywołanie tej pierwszej \n",
    "bez bloku kodu spowoduje posortowanie elementów w naturany sposób\n",
    "```ruby\n",
    "[3,1,7,6,2].sort\n",
    "```"
   ]
  },
  {
   "cell_type": "code",
   "execution_count": 18,
   "metadata": {
    "collapsed": false
   },
   "outputs": [
    {
     "data": {
      "text/plain": [
       "[1, 2, 3, 6, 7]"
      ]
     },
     "execution_count": 18,
     "metadata": {},
     "output_type": "execute_result"
    }
   ],
   "source": [
    "[3,1,7,6,2].sort"
   ]
  },
  {
   "cell_type": "markdown",
   "metadata": {},
   "source": [
    "Możemy jednak zdefiniować swój własny sposób sortowania. Konieczne jest wtedy przekazanie bloku kodu, który akceptuje dwa\n",
    "argumentu podlegające porównaniu, np.\n",
    "```ruby\n",
    "[\"A\",\"całego\",\"małe\",\"Ala\",\"Be\"].sort{|a,b| a.size <=> b.size }\n",
    "```"
   ]
  },
  {
   "cell_type": "code",
   "execution_count": 25,
   "metadata": {
    "collapsed": false
   },
   "outputs": [
    {
     "data": {
      "text/plain": [
       "[\"A\", \"Be\", \"Ala\", \"małe\", \"całego\"]"
      ]
     },
     "execution_count": 25,
     "metadata": {},
     "output_type": "execute_result"
    }
   ],
   "source": [
    "[\"A\",\"całego\",\"małe\",\"Ala\",\"Be\"].sort{|a,b| a.size <=> b.size }\n"
   ]
  },
  {
   "cell_type": "markdown",
   "metadata": {},
   "source": [
    "Warto porównać wynik tej metody z metodą `sort` bez bloku:\n",
    "```ruby\n",
    "[\"A\",\"całego\",\"małe\",\"Ala\",\"Be\"].sort\n",
    "```"
   ]
  },
  {
   "cell_type": "code",
   "execution_count": 20,
   "metadata": {
    "collapsed": false
   },
   "outputs": [
    {
     "data": {
      "text/plain": [
       "[\"A\", \"Ala\", \"Be\", \"całego\", \"małe\"]"
      ]
     },
     "execution_count": 20,
     "metadata": {},
     "output_type": "execute_result"
    }
   ],
   "source": [
    "[\"A\",\"całego\",\"małe\",\"Ala\",\"Be\"].sort"
   ]
  },
  {
   "cell_type": "markdown",
   "metadata": {},
   "source": [
    "Metoda `sort_by` pozwala natomiast posortować elementy względem wybranej własności. Sortowanie względem długości łańcuchów można\n",
    "zrealizować następująco:\n",
    "```ruby\n",
    "[\"A\",\"całego\",\"małe\",\"Ala\",\"Be\"].sort_by{|a| a.size }\n",
    "```"
   ]
  },
  {
   "cell_type": "code",
   "execution_count": 21,
   "metadata": {
    "collapsed": false
   },
   "outputs": [
    {
     "data": {
      "text/plain": [
       "[\"A\", \"Be\", \"Ala\", \"małe\", \"całego\"]"
      ]
     },
     "execution_count": 21,
     "metadata": {},
     "output_type": "execute_result"
    }
   ],
   "source": [
    "[\"A\",\"całego\",\"małe\",\"Ala\",\"Be\"].sort_by{|a| a.size }"
   ]
  },
  {
   "cell_type": "markdown",
   "metadata": {},
   "source": [
    "### Zadanie 2"
   ]
  },
  {
   "cell_type": "markdown",
   "metadata": {},
   "source": [
    "Napisz program, który oblicza sumę cyfr zadanej liczby. "
   ]
  },
  {
   "cell_type": "code",
   "execution_count": 5,
   "metadata": {
    "collapsed": false
   },
   "outputs": [
    {
     "name": "stdout",
     "output_type": "stream",
     "text": [
      "[5, 6, 4, 3, 2, 3, 6, 5, 4, 1]\n",
      "39\n"
     ]
    },
    {
     "data": {
      "text/plain": [
       "39"
      ]
     },
     "execution_count": 5,
     "metadata": {},
     "output_type": "execute_result"
    }
   ],
   "source": [
    "tablica = Array.new\n",
    "liczba = 1456323465\n",
    "while(liczba > 0) do\n",
    "  cyfra = liczba % 10\n",
    "  liczba = liczba/10 \n",
    "  tablica << cyfra\n",
    "end\n",
    "\n",
    "p tablica\n",
    "p tablica.inject(0){|suma,element| suma + element }"
   ]
  },
  {
   "cell_type": "markdown",
   "metadata": {},
   "source": [
    "Zadanie 3*"
   ]
  },
  {
   "cell_type": "markdown",
   "metadata": {},
   "source": [
    "Napisz program, który wśród liczb od 0 do 100 znajduje wszystkie liczby które są podzielne przez 2, ale nie są podzielne przez 4 i których suma cyfr jest podzielna przez 7."
   ]
  },
  {
   "cell_type": "code",
   "execution_count": 43,
   "metadata": {
    "collapsed": false
   },
   "outputs": [
    {
     "name": "stdout",
     "output_type": "stream",
     "text": [
      "Liczba podzielna przez 2, ale nie podzielna przez 4 i których suma cyfr jest podzielna przez 7 to 34\n",
      "Liczba podzielna przez 2, ale nie podzielna przez 4 i których suma cyfr jest podzielna przez 7 to 70\n",
      "Liczba podzielna przez 2, ale nie podzielna przez 4 i których suma cyfr jest podzielna przez 7 to 86\n"
     ]
    },
    {
     "data": {
      "text/plain": [
       "[2, 6, 10, 14, 18, 22, 26, 30, 34, 38, 42, 46, 50, 54, 58, 62, 66, 70, 74, 78, 82, 86, 90, 94, 98]"
      ]
     },
     "execution_count": 43,
     "metadata": {},
     "output_type": "execute_result"
    }
   ],
   "source": [
    "liczby = (0..100).to_a\n",
    "tablica1 = Array.new\n",
    "tablica2 = Array.new\n",
    "tablica3 = Array.new\n",
    "\n",
    "2.step(100,4) do |tablica1|\n",
    "  tablica2 << tablica1\n",
    "end\n",
    "\n",
    "\n",
    "tablica2.each do |liczba|\n",
    "  if (liczba >=10)\n",
    "  cyfra = liczba % 10\n",
    "  cyfra2 = liczba/10 \n",
    "  suma = cyfra2 + cyfra\n",
    "  if (suma % 7 == 0)\n",
    "    puts \"Liczba podzielna przez 2, ale nie podzielna przez 4 i których suma cyfr jest podzielna przez 7 to #{liczba}\"\n",
    "  end\n",
    "  end\n",
    "end\n",
    "\n"
   ]
  },
  {
   "cell_type": "markdown",
   "metadata": {},
   "source": [
    "### Zadanie 4*"
   ]
  },
  {
   "cell_type": "markdown",
   "metadata": {},
   "source": [
    "Załóżmy, że w turnieju szachowym jest 6 zawodników: Anna, Beata, Andrzej, Wojtek, Jan i Klaudia. Napisz kod, który znajdzie wszystkie możliwe mecze rozgrywane przez zawodników. Mecze rozgrywane pomiędzy tymi samymi zawodnikami nie mogą się powtarzać (kolejność zawodników nie ma znaczenia)."
   ]
  },
  {
   "cell_type": "code",
   "execution_count": 74,
   "metadata": {
    "collapsed": false
   },
   "outputs": [
    {
     "name": "stdout",
     "output_type": "stream",
     "text": [
      "Anna-Beata\n",
      "Anna-Andrzej\n",
      "Anna-Wojtek\n",
      "Anna-Jan\n",
      "Anna-Klaudia\n",
      "Beata-Andrzej\n",
      "Beata-Wojtek\n",
      "Beata-Jan\n",
      "Beata-Klaudia\n",
      "Andrzej-Wojtek\n",
      "Andrzej-Jan\n",
      "Andrzej-Klaudia\n",
      "Wojtek-Jan\n",
      "Wojtek-Klaudia\n",
      "Jan-Klaudia\n"
     ]
    },
    {
     "data": {
      "text/plain": [
       "0"
      ]
     },
     "execution_count": 74,
     "metadata": {},
     "output_type": "execute_result"
    }
   ],
   "source": [
    "tablica = [\"Anna\",\"Beata\",\"Andrzej\",\"Wojtek\",\"Jan\",\"Klaudia\"]\n",
    "\n",
    "0.step(5,1) do |element|\n",
    "  element.step(5,1) do |element2|\n",
    "    if (tablica[element] != tablica[element2])\n",
    "    puts tablica[element]+ \"-\" + tablica[element2]\n",
    "    end\n",
    "end\n",
    "end"
   ]
  },
  {
   "cell_type": "code",
   "execution_count": 75,
   "metadata": {
    "collapsed": false
   },
   "outputs": [
    {
     "name": "stdout",
     "output_type": "stream",
     "text": [
      "[\"Anna\", \"Beata\"]\n",
      "[\"Anna\", \"Andrzej\"]\n",
      "[\"Anna\", \"Wojtek\"]\n",
      "[\"Anna\", \"Jan\"]\n",
      "[\"Anna\", \"Klaudia\"]\n",
      "[\"Beata\", \"Andrzej\"]\n",
      "[\"Beata\", \"Wojtek\"]\n",
      "[\"Beata\", \"Jan\"]\n",
      "[\"Beata\", \"Klaudia\"]\n",
      "[\"Andrzej\", \"Wojtek\"]\n",
      "[\"Andrzej\", \"Jan\"]\n",
      "[\"Andrzej\", \"Klaudia\"]\n",
      "[\"Wojtek\", \"Jan\"]\n",
      "[\"Wojtek\", \"Klaudia\"]\n",
      "[\"Jan\", \"Klaudia\"]\n"
     ]
    },
    {
     "data": {
      "text/plain": [
       "[[\"Anna\", \"Beata\"], [\"Anna\", \"Andrzej\"], [\"Anna\", \"Wojtek\"], [\"Anna\", \"Jan\"], [\"Anna\", \"Klaudia\"], [\"Beata\", \"Andrzej\"], [\"Beata\", \"Wojtek\"], [\"Beata\", \"Jan\"], [\"Beata\", \"Klaudia\"], [\"Andrzej\", \"Wojtek\"], [\"Andrzej\", \"Jan\"], [\"Andrzej\", \"Klaudia\"], [\"Wojtek\", \"Jan\"], [\"Wojtek\", \"Klaudia\"], [\"Jan\", \"Klaudia\"]]"
      ]
     },
     "execution_count": 75,
     "metadata": {},
     "output_type": "execute_result"
    }
   ],
   "source": [
    "usr = [\"Anna\", \"Beata\", \"Andrzej\", \"Wojtek\", \"Jan\", \"Klaudia\"]\n",
    "com = usr.combination(2).to_a\n",
    "com.each do |elem|\n",
    "  puts elem\n",
    "end"
   ]
  }
 ],
 "metadata": {
  "kernelspec": {
   "display_name": "Ruby 2.2.3",
   "language": "ruby",
   "name": "ruby"
  },
  "language_info": {
   "file_extension": "rb",
   "mimetype": "application/x-ruby",
   "name": "ruby",
   "version": "2.2.3"
  }
 },
 "nbformat": 4,
 "nbformat_minor": 0
}
