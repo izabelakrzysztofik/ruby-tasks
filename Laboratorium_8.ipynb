{
 "cells": [
  {
   "cell_type": "markdown",
   "metadata": {},
   "source": [
    "# Zapytania złożone"
   ]
  },
  {
   "cell_type": "markdown",
   "metadata": {},
   "source": [
    "Przed rozpoczęciem pracy konieczne jest skonfigurowanie bazy oraz załadowanie danych:\n",
    "```ruby\n",
    "$:.unshift \".\"\n",
    "require 'db_setup'\n",
    "require 'db_load'\n",
    "```"
   ]
  },
  {
   "cell_type": "code",
   "execution_count": 2,
   "metadata": {
    "collapsed": false
   },
   "outputs": [
    {
     "data": {
      "text/plain": [
       "false"
      ]
     },
     "execution_count": 2,
     "metadata": {},
     "output_type": "execute_result"
    }
   ],
   "source": [
    "$:.unshift \".\"\n",
    "require 'db_setup'\n",
    "require 'db_load'"
   ]
  },
  {
   "cell_type": "markdown",
   "metadata": {},
   "source": [
    "W dalszych zadaniach będzie wykonywać polecenia korzystając z następujących klas, zmapowanych na odpowiadające im \n",
    "table w bazie danych:\n",
    "```ruby\n",
    "class Author < ActiveRecord::Base\n",
    "  # name      (string)\n",
    "  # surname   (string)\n",
    "  # born      (datetime) \n",
    "  # died      (datetime)\n",
    "  # image_url (string)\n",
    "  \n",
    "  has_many :books\n",
    "end\n",
    "\n",
    "class Book < ActiveRecord::Base\n",
    "  # title     (string)\n",
    "  # author    (Author)\n",
    "  # published (integer)\n",
    "\n",
    "  belongs_to :author\n",
    "end\n",
    "```"
   ]
  },
  {
   "cell_type": "markdown",
   "metadata": {},
   "source": [
    "ActiveRecord udostępnia interfejs pozwalający wyszukiwać dane w bazie również z wykorzystaniem związków zdefiniowanych pomiędzy\n",
    "klasami. Do definiowania tych związków służą polecenia `has_many`, `belongs_to`, `has_one` oraz `has_and_belongs_to_many`.\n",
    "Przykładowo jeśli chcemy dowiedzieć się kto był autorem pierwszej książki wykonujemy zapytanie:\n",
    "```ruby\n",
    "book = Book.first\n",
    "puts book.title\n",
    "puts book.author\n",
    "```"
   ]
  },
  {
   "cell_type": "code",
   "execution_count": 3,
   "metadata": {
    "collapsed": false
   },
   "outputs": [
    {
     "name": "stdout",
     "output_type": "stream",
     "text": [
      "Végjáték (regény)\n",
      "#<Author:0x0000000208a6b8>\n"
     ]
    }
   ],
   "source": [
    "book = Book.first\n",
    "puts book.title\n",
    "puts book.author"
   ]
  },
  {
   "cell_type": "markdown",
   "metadata": {},
   "source": [
    "Niestety prezentowany wynik nie jest zbyt użyteczny. Ponieważ jednak metoda `author` zwraca obiekt, możemy na nim wywoływać \n",
    "metody - tak samo jak w przypadku autora załadowanego bezpośrednio z wykorzystaniem metod zdefiniowanych dla klasy `Author`\n",
    "```ruby\n",
    "book = Book.first\n",
    "puts book.title\n",
    "puts \"#{book.author.name} #{book.author.surname}\"\n",
    "```"
   ]
  },
  {
   "cell_type": "code",
   "execution_count": 4,
   "metadata": {
    "collapsed": false
   },
   "outputs": [
    {
     "name": "stdout",
     "output_type": "stream",
     "text": [
      "Végjáték (regény)\n",
      "Orson Scott Card\n"
     ]
    }
   ],
   "source": [
    "book = Book.first\n",
    "puts book.title\n",
    "puts \"#{book.author.name} #{book.author.surname}\""
   ]
  },
  {
   "cell_type": "markdown",
   "metadata": {},
   "source": [
    "Co więcej, jeśli mamy do czynienia ze związkiem jeden-do-wiele bądź wiele-do-wiele, możemy wywyływać wszystkie dotychczas poznane \n",
    "metody na kolekcji powiązanych obiektów. Istotnie ułatwia to wyszukiwanie potrzebnych danych:\n",
    "```ruby\n",
    "books = Book.where(\"title like 'A%'\")\n",
    "books.each do |book|\n",
    "  puts book.title\n",
    "end\n",
    "\n",
    "author = Author.where(surname: \"Tołstoj\").first\n",
    "books = author.books.where(\"title like 'A%'\")\n",
    "books.each do |book|\n",
    "  puts book.title\n",
    "end\n",
    "```"
   ]
  },
  {
   "cell_type": "code",
   "execution_count": 12,
   "metadata": {
    "collapsed": false
   },
   "outputs": [
    {
     "name": "stdout",
     "output_type": "stream",
     "text": [
      "Anna Karenina\n"
     ]
    },
    {
     "data": {
      "text/plain": [
       "[#<Book id: 33, title: \"Anna Karenina\", language: nil, author_id: 40, published: 1877, image_url: \"http://commons.wikimedia.org/wiki/Special:FilePath...\">]"
      ]
     },
     "execution_count": 12,
     "metadata": {},
     "output_type": "execute_result"
    }
   ],
   "source": [
    "author = Author.where(surname: \"Tołstoj\").first\n",
    "books = author.books.where(\"title like 'A%'\")\n",
    "books.each do |book|\n",
    "  puts book.title\n",
    "end"
   ]
  },
  {
   "cell_type": "markdown",
   "metadata": {},
   "source": [
    "Różnica pomiędzy tymi zapytaniami polega na tym, że w pierwszym przypadku szukamy książki, których tytuł zaczyna się na \"A\" \n",
    "w całym zbiorze książek, a w drugi przypadku wśród książek napisanych przez Tołstoja."
   ]
  },
  {
   "cell_type": "markdown",
   "metadata": {},
   "source": [
    "Aby umożliwić formatowanie wyników zapytania, IRuby udostępnia metodę `IRuby.html`, która pozwala na wyświetlanie kodu\n",
    "HTML. Przykładowo\n",
    "```ruby\n",
    "IRuby.html \"<h1>Test HTML-a</h1>\"\n",
    "```"
   ]
  },
  {
   "cell_type": "code",
   "execution_count": 13,
   "metadata": {
    "collapsed": false
   },
   "outputs": [
    {
     "data": {
      "text/html": [
       "<h1>Test HTML-a</h1>"
      ],
      "text/plain": [
       "\"<h1>Test HTML-a</h1>\""
      ]
     },
     "execution_count": 13,
     "metadata": {},
     "output_type": "execute_result"
    }
   ],
   "source": [
    "IRuby.html \"<h1>Test HTML-a</h1>\""
   ]
  },
  {
   "cell_type": "markdown",
   "metadata": {},
   "source": [
    "Dzięki temu będziemy mogli formatować wyniki zapytań, a wszczególności wyświetlać obrazy przedstwiające autorów oraz książki. \n",
    "Należy jednak wziąć pod uwagę, że nie wszystkie książki oraz nie wszyscy autorzy posiadają odpowiadające im obrazki.\n",
    "Aby wyświetlić imię, nazwisko oraz obraz pierwszego autora piszemy:\n",
    "```ruby\n",
    "author = Author.where(\"image_url is not null\").first\n",
    "IRuby.html \"<h1>#{author.name} #{author.surname}</h1><img src='#{author.image_url}'/>\"\n",
    "```"
   ]
  },
  {
   "cell_type": "code",
   "execution_count": 14,
   "metadata": {
    "collapsed": false
   },
   "outputs": [
    {
     "data": {
      "text/html": [
       "<h1>Orson Scott Card</h1><img src='http://commons.wikimedia.org/wiki/Special:FilePath/Orson_Scott_Card_at_BYU_Symposium_20080216_closeup.jpg?width=300'/>"
      ],
      "text/plain": [
       "\"<h1>Orson Scott Card</h1><img src='http://commons.wikimedia.org/wiki/Special:FilePath/Orson_Scott_Card_at_BYU_Symposium_20080216_closeup.jpg?width=300'/>\""
      ]
     },
     "execution_count": 14,
     "metadata": {},
     "output_type": "execute_result"
    }
   ],
   "source": [
    "author = Author.where(\"image_url is not null\").first\n",
    "IRuby.html \"<h1>#{author.name} #{author.surname}</h1><img src='#{author.image_url}'/>\""
   ]
  },
  {
   "cell_type": "markdown",
   "metadata": {},
   "source": [
    "Możemy również zdefniować funkcję, np. `display_author`, której zadaniem będzie wyświetlenie autora w tej postaci. \n",
    "Jedyny problem polega na tym, że funkcja `IRuby.html` może być wywoływana tylko raz. Dlatego jeśli chcemy wyświetlić kilku autorów,\n",
    "musimy połączyć odpowiadające im kody HTML i wynik przekazać do funkcji `html`\n",
    "```ruby\n",
    "def display_author(author)\n",
    "  \"<h1>#{author.name} #{author.surname}</h1><img src='#{author.image_url}'/>\"\n",
    "end\n",
    "\n",
    "author_1 = Author.where(\"image_url is not null\").first\n",
    "author_2 = Author.where(\"image_url is not null\").offset(1).first\n",
    "document = display_author(author_1)\n",
    "document += display_author(author_2)\n",
    "IRuby.html document\n",
    "```"
   ]
  },
  {
   "cell_type": "code",
   "execution_count": 15,
   "metadata": {
    "collapsed": false
   },
   "outputs": [
    {
     "data": {
      "text/html": [
       "<h1>Orson Scott Card</h1><img src='http://commons.wikimedia.org/wiki/Special:FilePath/Orson_Scott_Card_at_BYU_Symposium_20080216_closeup.jpg?width=300'/><h1>Andrzej Sapkowski</h1><img src='http://commons.wikimedia.org/wiki/Special:FilePath/Sapkowski.jpg?width=300'/>"
      ],
      "text/plain": [
       "\"<h1>Orson Scott Card</h1><img src='http://commons.wikimedia.org/wiki/Special:FilePath/Orson_Scott_Card_at_BYU_Symposium_20080216_closeup.jpg?width=300'/><h1>Andrzej Sapkowski</h1><img src='http://commons.wikimedia.org/wiki/Special:FilePath/Sapkowski.jpg?width=300'/>\""
      ]
     },
     "execution_count": 15,
     "metadata": {},
     "output_type": "execute_result"
    }
   ],
   "source": [
    "def display_author(author)\n",
    "  \"<h1>#{author.name} #{author.surname}</h1><img src='#{author.image_url}'/>\"\n",
    "end\n",
    "\n",
    "author_1 = Author.where(\"image_url is not null\").first\n",
    "author_2 = Author.where(\"image_url is not null\").offset(1).first\n",
    "document = display_author(author_1)\n",
    "document += display_author(author_2)\n",
    "IRuby.html document"
   ]
  },
  {
   "cell_type": "markdown",
   "metadata": {},
   "source": [
    "## Zadania"
   ]
  },
  {
   "cell_type": "markdown",
   "metadata": {},
   "source": [
    "### Zadanie 1"
   ]
  },
  {
   "cell_type": "markdown",
   "metadata": {},
   "source": [
    "Wyświetl wszystkich autorów, którzy urodzili się przed rokiem 1900."
   ]
  },
  {
   "cell_type": "code",
   "execution_count": 4,
   "metadata": {
    "collapsed": false
   },
   "outputs": [
    {
     "name": "stdout",
     "output_type": "stream",
     "text": [
      "Juliusz Słowacki 04-09-1809\n",
      "Henryk Sienkiewicz 05-05-1846\n",
      "Eliza Orzeszkowa 06-06-1841\n",
      "Adam Mickiewicz 24-12-1798\n",
      "Jack London 12-01-1876\n",
      "Mikołaj Kopernik 19-02-1473\n",
      "Maria Franciszka Kozłowska 27-05-1862\n",
      "William Szekspir 23-04-1564\n",
      "John Ronald Reuel Tolkien 03-01-1892\n",
      "Aleksander Dumas (ojciec) 24-07-1802\n",
      "Tadeusz Dołęga-Mostowicz 10-08-1898\n",
      "Vladimir Nabokov 22-04-1899\n",
      "Adolf Hitler 20-04-1889\n",
      "Benedykt Chmielowski 20-03-1700\n",
      "Aldous Huxley 26-07-1894\n",
      "Honoré de Balzac 20-05-1799\n",
      "Franz Kafka 03-07-1883\n",
      "Howard Phillips Lovecraft 20-08-1890\n",
      "Lew Tołstoj 09-09-1828\n",
      "Ilja Ilf 15-10-1897\n",
      "Gabriela Zapolska 30-03-1857\n",
      "Clive Staples Lewis 29-11-1898\n",
      "Iwan Turgieniew 09-11-1818\n",
      "Lucy Maud Montgomery 30-11-1874\n",
      "Aleksander Majkowski 17-07-1876\n"
     ]
    },
    {
     "data": {
      "text/plain": [
       "[#<Author id: 2, name: \"Juliusz\", surname: \"Słowacki\", born: \"1809-09-04\", died: \"1849-04-03\", image_url: nil>, #<Author id: 3, name: \"Henryk\", surname: \"Sienkiewicz\", born: \"1846-05-05\", died: \"1916-11-15\", image_url: nil>, #<Author id: 4, name: \"Eliza\", surname: \"Orzeszkowa\", born: \"1841-06-06\", died: \"1910-05-18\", image_url: nil>, #<Author id: 15, name: \"Adam\", surname: \"Mickiewicz\", born: \"1798-12-24\", died: \"1855-11-26\", image_url: nil>, #<Author id: 18, name: \"Jack\", surname: \"London\", born: \"1876-01-12\", died: \"1916-11-22\", image_url: \"http://commons.wikimedia.org/wiki/Special:FilePath...\">, #<Author id: 22, name: \"Mikołaj\", surname: \"Kopernik\", born: \"1473-02-19\", died: \"1543-05-24\", image_url: \"http://commons.wikimedia.org/wiki/Special:FilePath...\">, #<Author id: 23, name: \"Maria Franciszka\", surname: \"Kozłowska\", born: \"1862-05-27\", died: nil, image_url: \"http://commons.wikimedia.org/wiki/Special:FilePath...\">, #<Author id: 25, name: \"William\", surname: \"Szekspir\", born: \"1564-04-23\", died: \"1616-05-03\", image_url: \"http://commons.wikimedia.org/wiki/Special:FilePath...\">, #<Author id: 27, name: \"John Ronald Reuel\", surname: \"Tolkien\", born: \"1892-01-03\", died: \"1973-09-02\", image_url: \"http://commons.wikimedia.org/wiki/Special:FilePath...\">, #<Author id: 28, name: \"Aleksander Dumas\", surname: \"(ojciec)\", born: \"1802-07-24\", died: \"1870-12-05\", image_url: \"http://commons.wikimedia.org/wiki/Special:FilePath...\">, #<Author id: 29, name: \"Tadeusz\", surname: \"Dołęga-Mostowicz\", born: \"1898-08-10\", died: \"1939-09-20\", image_url: \"http://commons.wikimedia.org/wiki/Special:FilePath...\">, #<Author id: 30, name: \"Vladimir\", surname: \"Nabokov\", born: \"1899-04-22\", died: \"1977-07-02\", image_url: \"http://commons.wikimedia.org/wiki/Special:FilePath...\">, #<Author id: 31, name: \"Adolf\", surname: \"Hitler\", born: \"1889-04-20\", died: \"1945-04-30\", image_url: \"http://commons.wikimedia.org/wiki/Special:FilePath...\">, #<Author id: 33, name: \"Benedykt\", surname: \"Chmielowski\", born: \"1700-03-20\", died: \"1763-04-07\", image_url: \"http://commons.wikimedia.org/wiki/Special:FilePath...\">, #<Author id: 34, name: \"Aldous\", surname: \"Huxley\", born: \"1894-07-26\", died: \"1963-11-22\", image_url: \"http://commons.wikimedia.org/wiki/Special:FilePath...\">, #<Author id: 35, name: \"Honoré de\", surname: \"Balzac\", born: \"1799-05-20\", died: \"1850-08-18\", image_url: \"http://commons.wikimedia.org/wiki/Special:FilePath...\">, #<Author id: 36, name: \"Franz\", surname: \"Kafka\", born: \"1883-07-03\", died: \"1924-06-03\", image_url: \"http://commons.wikimedia.org/wiki/Special:FilePath...\">, #<Author id: 38, name: \"Howard Phillips\", surname: \"Lovecraft\", born: \"1890-08-20\", died: \"1937-03-15\", image_url: \"http://commons.wikimedia.org/wiki/Special:FilePath...\">, #<Author id: 40, name: \"Lew\", surname: \"Tołstoj\", born: \"1828-09-09\", died: \"1910-11-20\", image_url: \"http://commons.wikimedia.org/wiki/Special:FilePath...\">, #<Author id: 45, name: \"Ilja\", surname: \"Ilf\", born: \"1897-10-15\", died: \"1937-04-13\", image_url: \"http://commons.wikimedia.org/wiki/Special:FilePath...\">, #<Author id: 47, name: \"Gabriela\", surname: \"Zapolska\", born: \"1857-03-30\", died: \"1921-12-17\", image_url: \"http://commons.wikimedia.org/wiki/Special:FilePath...\">, #<Author id: 50, name: \"Clive Staples\", surname: \"Lewis\", born: \"1898-11-29\", died: \"1963-11-22\", image_url: \"http://commons.wikimedia.org/wiki/Special:FilePath...\">, #<Author id: 53, name: \"Iwan\", surname: \"Turgieniew\", born: \"1818-11-09\", died: \"1883-09-03\", image_url: \"http://commons.wikimedia.org/wiki/Special:FilePath...\">, #<Author id: 56, name: \"Lucy Maud\", surname: \"Montgomery\", born: \"1874-11-30\", died: \"1942-04-24\", image_url: \"http://commons.wikimedia.org/wiki/Special:FilePath...\">, #<Author id: 62, name: \"Aleksander\", surname: \"Majkowski\", born: \"1876-07-17\", died: \"1938-02-10\", image_url: \"http://commons.wikimedia.org/wiki/Special:FilePath...\">]"
      ]
     },
     "execution_count": 4,
     "metadata": {},
     "output_type": "execute_result"
    }
   ],
   "source": [
    "authors = Author.where('born < ?',Date.parse(\"1900-1-1\"))\n",
    "authors.each do |author|\n",
    "  puts \"#{author.name} #{author.surname} #{author.born.strftime(\"%d-%m-%Y\")}\"\n",
    "end"
   ]
  },
  {
   "cell_type": "markdown",
   "metadata": {},
   "source": [
    "### Zadanie 2"
   ]
  },
  {
   "cell_type": "markdown",
   "metadata": {},
   "source": [
    "Zmodyfikuj funkcję wyświetlającą autorów tak aby obejmowała ich datę urodzin i śmierci w formacie `dzień.miesiąc.rok`. Następnie wyświetl wszystkich autorów,\n",
    "którzy zmarli w XX wieku."
   ]
  },
  {
   "cell_type": "code",
   "execution_count": 26,
   "metadata": {
    "collapsed": false
   },
   "outputs": [
    {
     "name": "stdout",
     "output_type": "stream",
     "text": [
      "Henryk Sienkiewicz 05-05-1846 15-11-1916 \n",
      "Eliza Orzeszkowa 06-06-1841 18-05-1910 \n",
      "Jack London 12-01-1876 22-11-1916 \n",
      "Antoni Gołubiew 25-02-1907 27-06-1979 \n",
      "George Orwell 25-06-1903 21-01-1950 \n",
      "John Ronald Reuel Tolkien 03-01-1892 02-09-1973 \n",
      "Tadeusz Dołęga-Mostowicz 10-08-1898 20-09-1939 \n",
      "Vladimir Nabokov 22-04-1899 02-07-1977 \n",
      "Adolf Hitler 20-04-1889 30-04-1945 \n",
      "Aldous Huxley 26-07-1894 22-11-1963 \n",
      "Franz Kafka 03-07-1883 03-06-1924 \n",
      "Howard Phillips Lovecraft 20-08-1890 15-03-1937 \n",
      "Karol Olgierd Borchardt 25-03-1905 20-05-1986 \n",
      "Lew Tołstoj 09-09-1828 20-11-1910 \n",
      "Janusz Zajdel 15-08-1938 19-07-1985 \n",
      "Isaac Asimov 04-10-1919 06-04-1992 \n",
      "Ilja Ilf 15-10-1897 13-04-1937 \n",
      "Jewgienij Pietrow (pisarz) 13-12-1903 02-07-1942 \n",
      "Gabriela Zapolska 30-03-1857 17-12-1921 \n",
      "Clive Staples Lewis 29-11-1898 22-11-1963 \n",
      "Lucy Maud Montgomery 30-11-1874 24-04-1942 \n",
      "Alfred Szklarski 21-01-1912 09-04-1992 \n",
      "Aleksander Majkowski 17-07-1876 10-02-1938 \n",
      "Ian Fleming 28-05-1908 12-08-1964 \n"
     ]
    },
    {
     "data": {
      "text/plain": [
       "[#<Author id: 3, name: \"Henryk\", surname: \"Sienkiewicz\", born: \"1846-05-05\", died: \"1916-11-15\", image_url: nil>, #<Author id: 4, name: \"Eliza\", surname: \"Orzeszkowa\", born: \"1841-06-06\", died: \"1910-05-18\", image_url: nil>, #<Author id: 18, name: \"Jack\", surname: \"London\", born: \"1876-01-12\", died: \"1916-11-22\", image_url: \"http://commons.wikimedia.org/wiki/Special:FilePath...\">, #<Author id: 21, name: \"Antoni\", surname: \"Gołubiew\", born: \"1907-02-25\", died: \"1979-06-27\", image_url: \"http://commons.wikimedia.org/wiki/Special:FilePath...\">, #<Author id: 24, name: \"George\", surname: \"Orwell\", born: \"1903-06-25\", died: \"1950-01-21\", image_url: \"http://commons.wikimedia.org/wiki/Special:FilePath...\">, #<Author id: 27, name: \"John Ronald Reuel\", surname: \"Tolkien\", born: \"1892-01-03\", died: \"1973-09-02\", image_url: \"http://commons.wikimedia.org/wiki/Special:FilePath...\">, #<Author id: 29, name: \"Tadeusz\", surname: \"Dołęga-Mostowicz\", born: \"1898-08-10\", died: \"1939-09-20\", image_url: \"http://commons.wikimedia.org/wiki/Special:FilePath...\">, #<Author id: 30, name: \"Vladimir\", surname: \"Nabokov\", born: \"1899-04-22\", died: \"1977-07-02\", image_url: \"http://commons.wikimedia.org/wiki/Special:FilePath...\">, #<Author id: 31, name: \"Adolf\", surname: \"Hitler\", born: \"1889-04-20\", died: \"1945-04-30\", image_url: \"http://commons.wikimedia.org/wiki/Special:FilePath...\">, #<Author id: 34, name: \"Aldous\", surname: \"Huxley\", born: \"1894-07-26\", died: \"1963-11-22\", image_url: \"http://commons.wikimedia.org/wiki/Special:FilePath...\">, #<Author id: 36, name: \"Franz\", surname: \"Kafka\", born: \"1883-07-03\", died: \"1924-06-03\", image_url: \"http://commons.wikimedia.org/wiki/Special:FilePath...\">, #<Author id: 38, name: \"Howard Phillips\", surname: \"Lovecraft\", born: \"1890-08-20\", died: \"1937-03-15\", image_url: \"http://commons.wikimedia.org/wiki/Special:FilePath...\">, #<Author id: 39, name: \"Karol Olgierd\", surname: \"Borchardt\", born: \"1905-03-25\", died: \"1986-05-20\", image_url: \"http://commons.wikimedia.org/wiki/Special:FilePath...\">, #<Author id: 40, name: \"Lew\", surname: \"Tołstoj\", born: \"1828-09-09\", died: \"1910-11-20\", image_url: \"http://commons.wikimedia.org/wiki/Special:FilePath...\">, #<Author id: 42, name: \"Janusz\", surname: \"Zajdel\", born: \"1938-08-15\", died: \"1985-07-19\", image_url: \"http://commons.wikimedia.org/wiki/Special:FilePath...\">, #<Author id: 44, name: \"Isaac\", surname: \"Asimov\", born: \"1919-10-04\", died: \"1992-04-06\", image_url: \"http://commons.wikimedia.org/wiki/Special:FilePath...\">, #<Author id: 45, name: \"Ilja\", surname: \"Ilf\", born: \"1897-10-15\", died: \"1937-04-13\", image_url: \"http://commons.wikimedia.org/wiki/Special:FilePath...\">, #<Author id: 46, name: \"Jewgienij Pietrow\", surname: \"(pisarz)\", born: \"1903-12-13\", died: \"1942-07-02\", image_url: \"http://commons.wikimedia.org/wiki/Special:FilePath...\">, #<Author id: 47, name: \"Gabriela\", surname: \"Zapolska\", born: \"1857-03-30\", died: \"1921-12-17\", image_url: \"http://commons.wikimedia.org/wiki/Special:FilePath...\">, #<Author id: 50, name: \"Clive Staples\", surname: \"Lewis\", born: \"1898-11-29\", died: \"1963-11-22\", image_url: \"http://commons.wikimedia.org/wiki/Special:FilePath...\">, #<Author id: 56, name: \"Lucy Maud\", surname: \"Montgomery\", born: \"1874-11-30\", died: \"1942-04-24\", image_url: \"http://commons.wikimedia.org/wiki/Special:FilePath...\">, #<Author id: 58, name: \"Alfred\", surname: \"Szklarski\", born: \"1912-01-21\", died: \"1992-04-09\", image_url: \"http://commons.wikimedia.org/wiki/Special:FilePath...\">, #<Author id: 62, name: \"Aleksander\", surname: \"Majkowski\", born: \"1876-07-17\", died: \"1938-02-10\", image_url: \"http://commons.wikimedia.org/wiki/Special:FilePath...\">, #<Author id: 63, name: \"Ian\", surname: \"Fleming\", born: \"1908-05-28\", died: \"1964-08-12\", image_url: \"http://commons.wikimedia.org/wiki/Special:FilePath...\">]"
      ]
     },
     "execution_count": 26,
     "metadata": {},
     "output_type": "execute_result"
    }
   ],
   "source": [
    "authors = Author.where(died:(Date.parse(\"1901-1-1\")..Date.parse(\"2000-12-31\")))\n",
    "authors.each do |author|\n",
    "  puts \"#{author.name} #{author.surname} #{author.born.strftime(\"%d-%m-%Y\")} #{author.died.strftime(\"%d-%m-%Y\")} \"\n",
    "end"
   ]
  },
  {
   "cell_type": "markdown",
   "metadata": {},
   "source": [
    "### Zadanie 3"
   ]
  },
  {
   "cell_type": "markdown",
   "metadata": {},
   "source": [
    "Wyświetl 5 najmłodszych autorów, którzy posiadają przypisane zdjęcie."
   ]
  },
  {
   "cell_type": "code",
   "execution_count": 35,
   "metadata": {
    "collapsed": false
   },
   "outputs": [
    {
     "data": {
      "text/html": [
       "<h1>Andrzej Pilipiuk</h1><h3> 1974-03-20</h3><img src='http://commons.wikimedia.org/wiki/Special:FilePath/Andrzej_Pilipiuk-Polcon2006.jpg?width=300'/><h1>J. K. Rowling</h1><h3> 1965-07-31</h3><img src='http://commons.wikimedia.org/wiki/Special:FilePath/J._K._Rowling_2010.jpg?width=300'/><h1>Rafał A. Ziemkiewicz</h1><h3> 1964-09-13</h3><img src='http://commons.wikimedia.org/wiki/Special:FilePath/Rafał_Ziemkiewicz.jpg?width=300'/><h1>Boris Akunin</h1><h3> 1956-05-20</h3><img src='http://commons.wikimedia.org/wiki/Special:FilePath/Boris_Akunin_2012.jpg?width=300'/><h1>Orson Scott Card</h1><h3> 1951-08-24</h3><img src='http://commons.wikimedia.org/wiki/Special:FilePath/Orson_Scott_Card_at_BYU_Symposium_20080216_closeup.jpg?width=300'/>"
      ],
      "text/plain": [
       "\"<h1>Andrzej Pilipiuk</h1><h3> 1974-03-20</h3><img src='http://commons.wikimedia.org/wiki/Special:FilePath/Andrzej_Pilipiuk-Polcon2006.jpg?width=300'/><h1>J. K. Rowling</h1><h3> 1965-07-31</h3><img src='http://commons.wikimedia.org/wiki/Special:FilePath/J._K._Rowling_2010.jpg?width=300'/><h1>Rafał A. Ziemkiewicz</h1><h3> 1964-09-13</h3><img src='http://commons.wikimedia.org/wiki/Special:FilePath/Rafał_Ziemkiewicz.jpg?width=300'/><h1>Boris Akunin</h1><h3> 1956-05-20</h3><img src='http://commons.wikimedia.org/wiki/Special:FilePath/Boris_Akunin_2012.jpg?width=300'/><h1>Orson Scott Card</h1><h3> 1951-08-24</h3><img src='http://commons.wikimedia.org/wiki/Special:FilePath/Orson_Scott_Card_at_BYU_Symposium_20080216_closeup.jpg?width=300'/>\""
      ]
     },
     "execution_count": 35,
     "metadata": {},
     "output_type": "execute_result"
    }
   ],
   "source": [
    "def display_author(author)\n",
    "  \"<h1>#{author.name} #{author.surname}</h1><h3> #{author.born}</h3><img src='#{author.image_url}'/>\"\n",
    "end\n",
    "\n",
    "authors = Author.where(\"image_url is not null\").order(born: :desc).limit(5)\n",
    "document = ''\n",
    "authors.each do |author|\n",
    "  document += display_author(author)\n",
    "end\n",
    "IRuby.html document"
   ]
  },
  {
   "cell_type": "markdown",
   "metadata": {},
   "source": [
    "### Zadanie 4"
   ]
  },
  {
   "cell_type": "markdown",
   "metadata": {},
   "source": [
    "Zdefiniuj funkcję `display_book`, która będzie zwracała fragment kodu HTML obejmujący tytuł książki, rok jej wydania oraz\n",
    "przypisany obrazek.\n",
    "Wyświetl najwcześniej wydaną książkę."
   ]
  },
  {
   "cell_type": "code",
   "execution_count": 19,
   "metadata": {
    "collapsed": false
   },
   "outputs": [
    {
     "data": {
      "text/html": [
       "<h1>Ojcowie i dzieci</h1><h3> 0</h3><img src='http://commons.wikimedia.org/wiki/Special:FilePath/Otsy1880.jpg?width=300'/>"
      ],
      "text/plain": [
       "\"<h1>Ojcowie i dzieci</h1><h3> 0</h3><img src='http://commons.wikimedia.org/wiki/Special:FilePath/Otsy1880.jpg?width=300'/>\""
      ]
     },
     "execution_count": 19,
     "metadata": {},
     "output_type": "execute_result"
    }
   ],
   "source": [
    "def display_book(book)\n",
    "  \"<h1>#{book.title}</h1><h3> #{book.published}</h3><img src='#{book.image_url}'/>\"\n",
    "end\n",
    "\n",
    "books = Book.where(\"image_url is not null\").where(\"published is not null\").order(:published).limit(1)\n",
    "document = ''\n",
    "books.each do |book|\n",
    "  document += display_book(book)\n",
    "end\n",
    "IRuby.html document"
   ]
  },
  {
   "cell_type": "markdown",
   "metadata": {},
   "source": [
    "### Zadanie 5"
   ]
  },
  {
   "cell_type": "markdown",
   "metadata": {},
   "source": [
    "Wyświetl wszystkie książki, które nie mają przypisanego roku wydania."
   ]
  },
  {
   "cell_type": "code",
   "execution_count": 41,
   "metadata": {
    "collapsed": false
   },
   "outputs": [
    {
     "data": {
      "text/html": [
       "<h1>Végjáték (regény)</h1><img src=''/><h1>Hamlet</h1><img src='http://commons.wikimedia.org/wiki/Special:FilePath/Hamlet_quarto_3rd.jpg?width=300'/>"
      ],
      "text/plain": [
       "\"<h1>Végjáték (regény)</h1><img src=''/><h1>Hamlet</h1><img src='http://commons.wikimedia.org/wiki/Special:FilePath/Hamlet_quarto_3rd.jpg?width=300'/>\""
      ]
     },
     "execution_count": 41,
     "metadata": {},
     "output_type": "execute_result"
    }
   ],
   "source": [
    "def display_book(book)\n",
    "  \"<h1>#{book.title}</h1><img src='#{book.image_url}'/>\"\n",
    "end\n",
    "\n",
    "books = Book.where(\"published is null\").all\n",
    "document = ''\n",
    "books.each do |book|\n",
    "  document += display_book(book)\n",
    "end\n",
    "IRuby.html document"
   ]
  },
  {
   "cell_type": "markdown",
   "metadata": {},
   "source": [
    "### Zadanie 6"
   ]
  },
  {
   "cell_type": "markdown",
   "metadata": {},
   "source": [
    "Zmodyfikuj funkcję `display_author` tak, aby wyświetlała również wszystkie książki napisane przez autora. Użyj znacznika `<ul>`.\n",
    "Korzystając z tej funkcji wyświetl opis Stanisława Lema."
   ]
  },
  {
   "cell_type": "code",
   "execution_count": 11,
   "metadata": {
    "collapsed": false
   },
   "outputs": [
    {
     "data": {
      "text/html": [
       "<h1>Stanisław Lem</h1><h3> 1921-09-12</h3><img src='http://commons.wikimedia.org/wiki/Special:FilePath/Stanislaw_Lem_2.jpg?width=300'/><ul><li>Bajki robotów<img src=''/></li><li>Solaris (powieść)<img src='http://commons.wikimedia.org/wiki/Special:FilePath/Solaris,_various_editions_02.jpg?width=300'/></li><li>Bezsenność (zbiór opowiadań)<img src=''/></li><li>Głos Pana<img src=''/></li><li>Inwazja z Aldebarana (zbiór opowiadań)<img src=''/></li><li>Katar (powieść)<img src=''/></li><li>Księga robotów<img src=''/></li><li>Maska (zbiór dzieł)<img src=''/></li><li>Niezwyciężony i inne opowiadania<img src=''/></li><li>Noc księżycowa<img src=''/></li><li>Pamiętnik znaleziony w wannie<img src=''/></li><li>Polowanie (zbiór opowiadań)<img src=''/></li><li>Powtórka (zbiór dzieł)<img src=''/></li><li>Pożytek ze smoka<img src=''/></li><li>Rasa drapieżców. Teksty ostatnie<img src=''/></li><li>Sezam i inne opowiadania<img src=''/></li><li>Summa technologiae<img src=''/></li><li>Wizja lokalna (powieść)<img src=''/></li></ul>"
      ],
      "text/plain": [
       "\"<h1>Stanisław Lem</h1><h3> 1921-09-12</h3><img src='http://commons.wikimedia.org/wiki/Special:FilePath/Stanislaw_Lem_2.jpg?width=300'/><ul><li>Bajki robotów<img src=''/></li><li>Solaris (powieść)<img src='http://commons.wikimedia.org/wiki/Special:FilePath/Solaris,_various_editions_02.jpg?width=300'/></li><li>Bezsenność (zbiór opowiadań)<img src=''/></li><li>Głos Pana<img src=''/></li><li>Inwazja z Aldebarana (zbiór opowiadań)<img src=''/></li><li>Katar (powieść)<img src=''/></li><li>Księga robotów<img src=''/></li><li>Maska (zbiór dzieł)<img src=''/></li><li>Niezwyciężony i inne opowiadania<img src=''/></li><li>Noc księżycowa<img src=''/></li><li>Pamiętnik znaleziony w wannie<img src=''/></li><li>Polowanie (zbiór opowiadań)<img src=''/></li><li>Powtórka (zbiór dzieł)<img src=''/></li><li>Pożytek ze smoka<img src=''/></li><li>Rasa drapieżców. Teksty ostatnie<img src=''/></li><li>Sezam i inne opowiadania<img src=''/></li><li>Summa technologiae<img src=''/></li><li>Wizja lokalna (powieść)<img src=''/></li></ul>\""
      ]
     },
     "execution_count": 11,
     "metadata": {},
     "output_type": "execute_result"
    }
   ],
   "source": [
    "def display_author(author)\n",
    "author = Author.where(surname: author).first\n",
    "  document = \"<h1>#{author.name} #{author.surname}</h1><h3> #{author.born}</h3><img src='#{author.image_url}'/>\"\n",
    "  document << \"<ul>\"\n",
    "  author.books.each do |book|\n",
    "    document << \"<li>#{book.title}<img src='#{book.image_url}'/></li>\"\n",
    "  end\n",
    "  document << \"</ul>\"\n",
    "end\n",
    "\n",
    "document = display_author(\"Lem\")\n",
    "\n",
    "IRuby.html document"
   ]
  },
  {
   "cell_type": "markdown",
   "metadata": {},
   "source": [
    "### Zadanie 7"
   ]
  },
  {
   "cell_type": "markdown",
   "metadata": {},
   "source": [
    "Wśród książek napisanych przez Lema wyświetl wszystkie, które zawieraja w tytule słowo \"zbiór\"."
   ]
  },
  {
   "cell_type": "code",
   "execution_count": 23,
   "metadata": {
    "collapsed": false
   },
   "outputs": [
    {
     "data": {
      "text/html": [
       "<h1>Stanisław Lem</h1><h3> 1921-09-12</h3><img src='http://commons.wikimedia.org/wiki/Special:FilePath/Stanislaw_Lem_2.jpg?width=300'/><ul><li>Bezsenność (zbiór opowiadań)<img src=''/></li><li>Inwazja z Aldebarana (zbiór opowiadań)<img src=''/></li><li>Maska (zbiór dzieł)<img src=''/></li><li>Polowanie (zbiór opowiadań)<img src=''/></li><li>Powtórka (zbiór dzieł)<img src=''/></li></ul>"
      ],
      "text/plain": [
       "\"<h1>Stanisław Lem</h1><h3> 1921-09-12</h3><img src='http://commons.wikimedia.org/wiki/Special:FilePath/Stanislaw_Lem_2.jpg?width=300'/><ul><li>Bezsenność (zbiór opowiadań)<img src=''/></li><li>Inwazja z Aldebarana (zbiór opowiadań)<img src=''/></li><li>Maska (zbiór dzieł)<img src=''/></li><li>Polowanie (zbiór opowiadań)<img src=''/></li><li>Powtórka (zbiór dzieł)<img src=''/></li></ul>\""
      ]
     },
     "execution_count": 23,
     "metadata": {},
     "output_type": "execute_result"
    }
   ],
   "source": [
    "def display_author(author)\n",
    "  document = \"<h1>#{author.name} #{author.surname}</h1><h3> #{author.born}</h3><img src='#{author.image_url}'/>\"\n",
    "  document << \"<ul>\"\n",
    "  author.books.where(\"title LIKE '%zbiór%'\").each do |book|\n",
    "    document << \"<li>#{book.title}<img src='#{book.image_url}'/></li>\"\n",
    "  end\n",
    "  document << \"</ul>\"\n",
    "end\n",
    "\n",
    "authors = Author.where(surname: \"Lem\").all\n",
    "document = ''\n",
    "authors.each do |author|\n",
    "  document += display_author(author)\n",
    "end\n",
    "IRuby.html document"
   ]
  },
  {
   "cell_type": "markdown",
   "metadata": {},
   "source": [
    "### Zadanie 8"
   ]
  },
  {
   "cell_type": "markdown",
   "metadata": {},
   "source": [
    "Wśród książek napisanych przez Lema wyświetl te, które zostały wydane w roku jego śmierci."
   ]
  },
  {
   "cell_type": "code",
   "execution_count": 14,
   "metadata": {
    "collapsed": false
   },
   "outputs": [
    {
     "data": {
      "text/html": [
       "<h1>Stanisław Lem</h1><h3> 1921-09-12  - 2006-03-27</h3><img src='http://commons.wikimedia.org/wiki/Special:FilePath/Stanislaw_Lem_2.jpg?width=300'/><ul><li>Rasa drapieżców. Teksty ostatnie 2006<img src=''/></li></ul>"
      ],
      "text/plain": [
       "\"<h1>Stanisław Lem</h1><h3> 1921-09-12  - 2006-03-27</h3><img src='http://commons.wikimedia.org/wiki/Special:FilePath/Stanislaw_Lem_2.jpg?width=300'/><ul><li>Rasa drapieżców. Teksty ostatnie 2006<img src=''/></li></ul>\""
      ]
     },
     "execution_count": 14,
     "metadata": {},
     "output_type": "execute_result"
    }
   ],
   "source": [
    "def display_author(author)\n",
    "  document = \"<h1>#{author.name} #{author.surname}</h1><h3> #{author.born}  - #{author.died}</h3><img src='#{author.image_url}'/>\"\n",
    "  document << \"<ul>\"\n",
    "  author.books.where('published = ?', author.died.year).each do |book|\n",
    "    document << \"<li>#{book.title} #{book.published}<img src='#{book.image_url}'/></li>\"\n",
    "  end\n",
    "  document << \"</ul>\"\n",
    "end\n",
    "\n",
    "authors = Author.where(surname: \"Lem\").alli\n",
    "document = ''\n",
    "authors.each do |author|\n",
    "  document += display_author(author)\n",
    "end\n",
    "IRuby.html document"
   ]
  },
  {
   "cell_type": "markdown",
   "metadata": {},
   "source": [
    "### Zadanie 9"
   ]
  },
  {
   "cell_type": "markdown",
   "metadata": {},
   "source": [
    "Wyświetl wszystkie książki znajdujące się w bazie. Opis powinien zawierać tytuł, imię i nazwisko autora, rok wydania oraz \n",
    "obraz przedstawiający książkę (o ile istnieje)."
   ]
  },
  {
   "cell_type": "code",
   "execution_count": 16,
   "metadata": {
    "collapsed": false
   },
   "outputs": [
    {
     "data": {
      "text/html": [
       "<h1>Végjáték (regény)</h1> <h3>Orson Scott Card</h3> <h3></h3><img src=''/><h1>Pani Jeziora (powieść)</h1> <h3>Andrzej Sapkowski</h3> <h3>1999</h3><img src=''/><h1>Bellew Zawierucha</h1> <h3>Jack London</h3> <h3>1912</h3><img src=''/><h1>Fałszywy trop (powieść)</h1> <h3>Henning Mankell</h3> <h3>1995</h3><img src=''/><h1>Bajki robotów</h1> <h3>Stanisław Lem</h3> <h3>1964</h3><img src=''/><h1>Bolesław Chrobry (powieść)</h1> <h3>Antoni Gołubiew</h3> <h3>1947</h3><img src=''/><h1>De revolutionibus orbium coelestium</h1> <h3>Mikołaj Kopernik</h3> <h3>1543</h3><img src=''/><h1>Dzieło Wielkiego Miłosierdzia</h1> <h3>Maria Franciszka Kozłowska</h3> <h3>1922</h3><img src=''/><h1>Folwark zwierzęcy</h1> <h3>George Orwell</h3> <h3>1945</h3><img src='http://commons.wikimedia.org/wiki/Special:FilePath/Animalism_flag.svg?width=300'/><h1>Hamlet</h1> <h3>William Szekspir</h3> <h3></h3><img src='http://commons.wikimedia.org/wiki/Special:FilePath/Hamlet_quarto_3rd.jpg?width=300'/><h1>Harry Potter</h1> <h3>J. K. Rowling</h3> <h3>1997</h3><img src='http://commons.wikimedia.org/wiki/Special:FilePath/Harry_Potter_wordmark.svg?width=300'/><h1>Hobbit, czyli tam i z powrotem</h1> <h3>John Ronald Reuel Tolkien</h3> <h3>1937</h3><img src=''/><h1>Hrabia Monte Christo</h1> <h3>Aleksander Dumas (ojciec)</h3> <h3>1844</h3><img src='http://commons.wikimedia.org/wiki/Special:FilePath/Louis_Français-Dantès_sur_son_rocher.jpg?width=300'/><h1>Kariera Nikodema Dyzmy</h1> <h3>Tadeusz Dołęga-Mostowicz</h3> <h3>1932</h3><img src=''/><h1>Krzyżacy (powieść)</h1> <h3>Henryk Sienkiewicz</h3> <h3>1900</h3><img src='http://commons.wikimedia.org/wiki/Special:FilePath/PL_Henryk_Sienkiewicz-Krzyżacy_0005.jpeg?width=300'/><h1>Lolita</h1> <h3>Vladimir Nabokov</h3> <h3>1955</h3><img src=''/><h1>Mein Kampf</h1> <h3>Adolf Hitler</h3> <h3>1925</h3><img src='http://commons.wikimedia.org/wiki/Special:FilePath/Landsberg.Jail.jpg?width=300'/><h1>Nad Niemnem</h1> <h3>Eliza Orzeszkowa</h3> <h3>1888</h3><img src='http://commons.wikimedia.org/wiki/Special:FilePath/Nad_Niemnem_-_manuscript.jpg?width=300'/><h1>Niedokończone opowieści</h1> <h3>Christopher Tolkien</h3> <h3>1980</h3><img src=''/><h1>Nowe Ateny</h1> <h3>Benedykt Chmielowski</h3> <h3>1745</h3><img src='http://commons.wikimedia.org/wiki/Special:FilePath/Nowe_ateny1.jpg?width=300'/><h1>Nowy wspaniały świat</h1> <h3>Aldous Huxley</h3> <h3>1932</h3><img src=''/><h1>Ogniem i mieczem</h1> <h3>Henryk Sienkiewicz</h3> <h3>1884</h3><img src='http://commons.wikimedia.org/wiki/Special:FilePath/Podbipieta.JPG?width=300'/><h1>Ojciec Goriot</h1> <h3>Honoré de Balzac</h3> <h3>1835</h3><img src='http://commons.wikimedia.org/wiki/Special:FilePath/Father_Goriot_by_H._Daumier_(1842).JPG?width=300'/><h1>Proces (powieść)</h1> <h3>Franz Kafka</h3> <h3>1925</h3><img src='http://commons.wikimedia.org/wiki/Special:FilePath/Kafka_Der_Prozess_1925.jpg?width=300'/><h1>Psałterz Dawidów</h1> <h3>Jan Kochanowski</h3> <h3>1579</h3><img src='http://commons.wikimedia.org/wiki/Special:FilePath/Kochanowski_-_Psałterz_Dawidów_(1579).jpg?width=300'/><h1>Quo vadis</h1> <h3>Henryk Sienkiewicz</h3> <h3>1896</h3><img src='http://commons.wikimedia.org/wiki/Special:FilePath/Rzym_popiersie_Sienkiewicza_w_kosciele_Domine_Quo_Vadis.JPG?width=300'/><h1>Romeo i Julia</h1> <h3>William Szekspir</h3> <h3>1597</h3><img src='http://commons.wikimedia.org/wiki/Special:FilePath/Romeo_and_juliet_brown.jpg?width=300'/><h1>Silmarillion</h1> <h3>John Ronald Reuel Tolkien</h3> <h3>1977</h3><img src='http://commons.wikimedia.org/wiki/Special:FilePath/Silmarrillion,_Just_under_the_Cover.jpg?width=300'/><h1>Solaris (powieść)</h1> <h3>Stanisław Lem</h3> <h3>1961</h3><img src='http://commons.wikimedia.org/wiki/Special:FilePath/Solaris,_various_editions_02.jpg?width=300'/><h1>Władca Pierścieni</h1> <h3>John Ronald Reuel Tolkien</h3> <h3>1954</h3><img src='http://commons.wikimedia.org/wiki/Special:FilePath/Unico_Anello.png?width=300'/><h1>Zew Cthulhu (opowiadanie)</h1> <h3>Howard Phillips Lovecraft</h3> <h3>1928</h3><img src=''/><h1>Znaczy Kapitan</h1> <h3>Karol Olgierd Borchardt</h3> <h3>1960</h3><img src=''/><h1>Anna Karenina</h1> <h3>Lew Tołstoj</h3> <h3>1877</h3><img src='http://commons.wikimedia.org/wiki/Special:FilePath/AnnaKareninaTitle.jpg?width=300'/><h1>Azazel (powieść)</h1> <h3>Boris Akunin</h3> <h3>1998</h3><img src=''/><h1>Bezsenność (zbiór opowiadań)</h1> <h3>Stanisław Lem</h3> <h3>1971</h3><img src=''/><h1>Cała prawda o planecie Ksi</h1> <h3>Janusz Zajdel</h3> <h3>1983</h3><img src=''/><h1>Dekorator</h1> <h3>Boris Akunin</h3> <h3>1998</h3><img src=''/><h1>Diamentowa karoca</h1> <h3>Boris Akunin</h3> <h3>2003</h3><img src=''/><h1>Dives in misericordia</h1> <h3>Jan Paweł II</h3> <h3>1980</h3><img src='http://commons.wikimedia.org/wiki/Special:FilePath/John_paul_2_coa.svg?width=300'/><h1>Droga na molo w Wigan</h1> <h3>George Orwell</h3> <h3>1937</h3><img src=''/><h1>Druga Fundacja</h1> <h3>Isaac Asimov</h3> <h3>1953</h3><img src=''/><h1>Dwanaście krzeseł</h1> <h3>Ilja Ilf</h3> <h3>1928</h3><img src='http://commons.wikimedia.org/wiki/Special:FilePath/Ostap_Bender_Monument_in_Kharkiv.jpg?width=300'/><h1>Fundacja (powieść)</h1> <h3>Isaac Asimov</h3> <h3>1951</h3><img src=''/><h1>Fundacja i Imperium</h1> <h3>Isaac Asimov</h3> <h3>1952</h3><img src=''/><h1>Gambit turecki</h1> <h3>Boris Akunin</h3> <h3>1998</h3><img src=''/><h1>Głos Pana</h1> <h3>Stanisław Lem</h3> <h3>1968</h3><img src=''/><h1>Ich czworo</h1> <h3>Gabriela Zapolska</h3> <h3>1907</h3><img src=''/><h1>Inwazja z Aldebarana (zbiór opowiadań)</h1> <h3>Stanisław Lem</h3> <h3>1959</h3><img src=''/><h1>Kamienna małpa</h1> <h3>Jeffery Deaver</h3> <h3>2002</h3><img src=''/><h1>Katar (powieść)</h1> <h3>Stanisław Lem</h3> <h3>1976</h3><img src=''/><h1>Kochanek Śmierci</h1> <h3>Boris Akunin</h3> <h3>2001</h3><img src=''/><h1>Kochanka Śmierci</h1> <h3>Boris Akunin</h3> <h3>2001</h3><img src=''/><h1>Koronacja (powieść)</h1> <h3>Boris Akunin</h3> <h3>1999</h3><img src=''/><h1>Kot w stanie czystym</h1> <h3>Terry Pratchett</h3> <h3>1989</h3><img src=''/><h1>Koń i jego chłopiec</h1> <h3>Clive Staples Lewis</h3> <h3>1954</h3><img src=''/><h1>Księga robotów</h1> <h3>Stanisław Lem</h3> <h3>1961</h3><img src=''/><h1>Księgi narodu polskiego i pielgrzymstwa polskiego</h1> <h3>Adam Mickiewicz</h3> <h3>1832</h3><img src='http://commons.wikimedia.org/wiki/Special:FilePath/PL_Księgi_narodu_polskiego_i_pielgrzymstwa_polskiego_008.png?width=300'/><h1>Kuzynki</h1> <h3>Andrzej Pilipiuk</h3> <h3>2003</h3><img src=''/><h1>Lewa ręka ciemności</h1> <h3>Ursula K. Le Guin</h3> <h3>1969</h3><img src=''/><h1>Lewiatan (powieść)</h1> <h3>Boris Akunin</h3> <h3>1998</h3><img src=''/><h1>Mag (powieść J. Deavera)</h1> <h3>Jeffery Deaver</h3> <h3>2003</h3><img src=''/><h1>Maska (zbiór dzieł)</h1> <h3>Stanisław Lem</h3> <h3>1976</h3><img src=''/><h1>Niezwyciężony i inne opowiadania</h1> <h3>Stanisław Lem</h3> <h3>1964</h3><img src=''/><h1>Noc księżycowa</h1> <h3>Stanisław Lem</h3> <h3>1963</h3><img src=''/><h1>Ojcowie i dzieci</h1> <h3>Iwan Turgieniew</h3> <h3>0</h3><img src='http://commons.wikimedia.org/wiki/Special:FilePath/Otsy1880.jpg?width=300'/><h1>Pamiętnik znaleziony w wannie</h1> <h3>Stanisław Lem</h3> <h3>1961</h3><img src=''/><h1>Pieśń Lodu i Ognia</h1> <h3>George R. R. Martin</h3> <h3>1996</h3><img src=''/><h1>Podróże z Herodotem</h1> <h3>Ryszard Kapuściński</h3> <h3>2004</h3><img src=''/><h1>Polowanie (zbiór opowiadań)</h1> <h3>Stanisław Lem</h3> <h3>1965</h3><img src=''/><h1>Powtórka (zbiór dzieł)</h1> <h3>Stanisław Lem</h3> <h3>1979</h3><img src=''/><h1>Pożytek ze smoka</h1> <h3>Stanisław Lem</h3> <h3>1993</h3><img src=''/><h1>Preludium Fundacji</h1> <h3>Isaac Asimov</h3> <h3>1988</h3><img src=''/><h1>Radca stanu (powieść)</h1> <h3>Boris Akunin</h3> <h3>1998</h3><img src=''/><h1>Rasa drapieżców. Teksty ostatnie</h1> <h3>Stanisław Lem</h3> <h3>2006</h3><img src=''/><h1>Rilla ze Złotego Brzegu</h1> <h3>Lucy Maud Montgomery</h3> <h3>1921</h3><img src=''/><h1>Sen nocy letniej</h1> <h3>William Szekspir</h3> <h3>1600</h3><img src='http://commons.wikimedia.org/wiki/Special:FilePath/MND_title_page.jpg?width=300'/><h1>Sezam i inne opowiadania</h1> <h3>Stanisław Lem</h3> <h3>1954</h3><img src=''/><h1>Slavorum apostoli</h1> <h3>Jan Paweł II</h3> <h3>1985</h3><img src='http://commons.wikimedia.org/wiki/Special:FilePath/John_paul_2_coa.svg?width=300'/><h1>Summa technologiae</h1> <h3>Stanisław Lem</h3> <h3>1964</h3><img src=''/><h1>Tam gdzie spadają anioły</h1> <h3>Dorota Terakowska</h3> <h3>1998</h3><img src=''/><h1>Tomek u źródeł Amazonki</h1> <h3>Alfred Szklarski</h3> <h3>1967</h3><img src=''/><h1>Tomek w Gran Chaco</h1> <h3>Alfred Szklarski</h3> <h3>1987</h3><img src=''/><h1>Tomek w grobowcach faraonów</h1> <h3>Alfred Szklarski</h3> <h3>1994</h3><img src=''/><h1>Ut unum sint</h1> <h3>Jan Paweł II</h3> <h3>1995</h3><img src='http://commons.wikimedia.org/wiki/Special:FilePath/John_paul_2_coa.svg?width=300'/><h1>Veritatis splendor</h1> <h3>Jan Paweł II</h3> <h3>1993</h3><img src='http://commons.wikimedia.org/wiki/Special:FilePath/John_paul_2_coa.svg?width=300'/><h1>Walc stulecia</h1> <h3>Rafał A. Ziemkiewicz</h3> <h3>1998</h3><img src=''/><h1>Walet pikowy (powieść)</h1> <h3>Boris Akunin</h3> <h3>1998</h3><img src=''/><h1>Wampir Lestat</h1> <h3>Anne Rice</h3> <h3>1985</h3><img src=''/><h1>Wizja lokalna (powieść)</h1> <h3>Stanisław Lem</h3> <h3>1982</h3><img src=''/><h1>Wojna i pokój</h1> <h3>Lew Tołstoj</h3> <h3>1865</h3><img src='http://commons.wikimedia.org/wiki/Special:FilePath/War-and-peace_1873.gif?width=300'/><h1>Śmierć Achillesa</h1> <h3>Boris Akunin</h3> <h3>1998</h3><img src=''/><h1>Życie i przygody Remusa</h1> <h3>Aleksander Majkowski</h3> <h3>1938</h3><img src=''/><h1>Casino Royale (powieść)</h1> <h3>Ian Fleming</h3> <h3>1953</h3><img src=''/><h1>Cień kata</h1> <h3>Gene Wolfe</h3> <h3>1980</h3><img src=''/><h1>Czarnoksiężnik z Archipelagu</h1> <h3>Ursula K. Le Guin</h3> <h3>1968</h3><img src=''/><h1>Czarownica z Portobello</h1> <h3>Paulo Coelho</h3> <h3>2006</h3><img src=''/><h1>Czas patriotów (powieść)</h1> <h3>Tom Clancy</h3> <h3>1987</h3><img src=''/>"
      ],
      "text/plain": [
       "\"<h1>Végjáték (regény)</h1> <h3>Orson Scott Card</h3> <h3></h3><img src=''/><h1>Pani Jeziora (powieść)</h1> <h3>Andrzej Sapkowski</h3> <h3>1999</h3><img src=''/><h1>Bellew Zawierucha</h1> <h3>Jack London</h3> <h3>1912</h3><img src=''/><h1>Fałszywy trop (powieść)</h1> <h3>Henning Mankell</h3> <h3>1995</h3><img src=''/><h1>Bajki robotów</h1> <h3>Stanisław Lem</h3> <h3>1964</h3><img src=''/><h1>Bolesław Chrobry (powieść)</h1> <h3>Antoni Gołubiew</h3> <h3>1947</h3><img src=''/><h1>De revolutionibus orbium coelestium</h1> <h3>Mikołaj Kopernik</h3> <h3>1543</h3><img src=''/><h1>Dzieło Wielkiego Miłosierdzia</h1> <h3>Maria Franciszka Kozłowska</h3> <h3>1922</h3><img src=''/><h1>Folwark zwierzęcy</h1> <h3>George Orwell</h3> <h3>1945</h3><img src='http://commons.wikimedia.org/wiki/Special:FilePath/Animalism_flag.svg?width=300'/><h1>Hamlet</h1> <h3>William Szekspir</h3> <h3></h3><img src='http://commons.wikimedia.org/wiki/Special:FilePath/Hamlet_quarto_3rd.jpg?width=300'/><h1>Harry Potter</h1> <h3>J. K. Rowling</h3> <h3>1997</h3><img src='http://commons.wikimedia.org/wiki/Special:FilePath/Harry_Potter_wordmark.svg?width=300'/><h1>Hobbit, czyli tam i z powrotem</h1> <h3>John Ronald Reuel Tolkien</h3> <h3>1937</h3><img src=''/><h1>Hrabia Monte Christo</h1> <h3>Aleksander Dumas (ojciec)</h3> <h3>1844</h3><img src='http://commons.wikimedia.org/wiki/Special:FilePath/Louis_Français-Dantès_sur_son_rocher.jpg?width=300'/><h1>Kariera Nikodema Dyzmy</h1> <h3>Tadeusz Dołęga-Mostowicz</h3> <h3>1932</h3><img src=''/><h1>Krzyżacy (powieść)</h1> <h3>Henryk Sienkiewicz</h3> <h3>1900</h3><img src='http://commons.wikimedia.org/wiki/Special:FilePath/PL_Henryk_Sienkiewicz-Krzyżacy_0005.jpeg?width=300'/><h1>Lolita</h1> <h3>Vladimir Nabokov</h3> <h3>1955</h3><img src=''/><h1>Mein Kampf</h1> <h3>Adolf Hitler</h3> <h3>1925</h3><img src='http://commons.wikimedia.org/wiki/Special:FilePath/Landsberg.Jail.jpg?width=300'/><h1>Nad Niemnem</h1> <h3>Eliza Orzeszkowa</h3> <h3>1888</h3><img src='http://commons.wikimedia.org/wiki/Special:FilePath/Nad_Niemnem_-_manuscript.jpg?width=300'/><h1>Niedokończone opowieści</h1> <h3>Christopher Tolkien</h3> <h3>1980</h3><img src=''/><h1>Nowe Ateny</h1> <h3>Benedykt Chmielowski</h3> <h3>1745</h3><img src='http://commons.wikimedia.org/wiki/Special:FilePath/Nowe_ateny1.jpg?width=300'/><h1>Nowy wspaniały świat</h1> <h3>Aldous Huxley</h3> <h3>1932</h3><img src=''/><h1>Ogniem i mieczem</h1> <h3>Henryk Sienkiewicz</h3> <h3>1884</h3><img src='http://commons.wikimedia.org/wiki/Special:FilePath/Podbipieta.JPG?width=300'/><h1>Ojciec Goriot</h1> <h3>Honoré de Balzac</h3> <h3>1835</h3><img src='http://commons.wikimedia.org/wiki/Special:FilePath/Father_Goriot_by_H._Daumier_(1842).JPG?width=300'/><h1>Proces (powieść)</h1> <h3>Franz Kafka</h3> <h3>1925</h3><img src='http://commons.wikimedia.org/wiki/Special:FilePath/Kafka_Der_Prozess_1925.jpg?width=300'/><h1>Psałterz Dawidów</h1> <h3>Jan Kochanowski</h3> <h3>1579</h3><img src='http://commons.wikimedia.org/wiki/Special:FilePath/Kochanowski_-_Psałterz_Dawidów_(1579).jpg?width=300'/><h1>Quo vadis</h1> <h3>Henryk Sienkiewicz</h3> <h3>1896</h3><img src='http://commons.wikimedia.org/wiki/Special:FilePath/Rzym_popiersie_Sienkiewicza_w_kosciele_Domine_Quo_Vadis.JPG?width=300'/><h1>Romeo i Julia</h1> <h3>William Szekspir</h3> <h3>1597</h3><img src='http://commons.wikimedia.org/wiki/Special:FilePath/Romeo_and_juliet_brown.jpg?width=300'/><h1>Silmarillion</h1> <h3>John Ronald Reuel Tolkien</h3> <h3>1977</h3><img src='http://commons.wikimedia.org/wiki/Special:FilePath/Silmarrillion,_Just_under_the_Cover.jpg?width=300'/><h1>Solaris (powieść)</h1> <h3>Stanisław Lem</h3> <h3>1961</h3><img src='http://commons.wikimedia.org/wiki/Special:FilePath/Solaris,_various_editions_02.jpg?width=300'/><h1>Władca Pierścieni</h1> <h3>John Ronald Reuel Tolkien</h3> <h3>1954</h3><img src='http://commons.wikimedia.org/wiki/Special:FilePath/Unico_Anello.png?width=300'/><h1>Zew Cthulhu (opowiadanie)</h1> <h3>Howard Phillips Lovecraft</h3> <h3>1928</h3><img src=''/><h1>Znaczy Kapitan</h1> <h3>Karol Olgierd Borchardt</h3> <h3>1960</h3><img src=''/><h1>Anna Karenina</h1> <h3>Lew Tołstoj</h3> <h3>1877</h3><img src='http://commons.wikimedia.org/wiki/Special:FilePath/AnnaKareninaTitle.jpg?width=300'/><h1>Azazel (powieść)</h1> <h3>Boris Akunin</h3> <h3>1998</h3><img src=''/><h1>Bezsenność (zbiór opowiadań)</h1> <h3>Stanisław Lem</h3> <h3>1971</h3><img src=''/><h1>Cała prawda o planecie Ksi</h1> <h3>Janusz Zajdel</h3> <h3>1983</h3><img src=''/><h1>Dekorator</h1> <h3>Boris Akunin</h3> <h3>1998</h3><img src=''/><h1>Diamentowa karoca</h1> <h3>Boris Akunin</h3> <h3>2003</h3><img src=''/><h1>Dives in misericordia</h1> <h3>Jan Paweł II</h3> <h3>1980</h3><img src='http://commons.wikimedia.org/wiki/Special:FilePath/John_paul_2_coa.svg?width=300'/><h1>Droga na molo w Wigan</h1> <h3>George Orwell</h3> <h3>1937</h3><img src=''/><h1>Druga Fundacja</h1> <h3>Isaac Asimov</h3> <h3>1953</h3><img src=''/><h1>Dwanaście krzeseł</h1> <h3>Ilja Ilf</h3> <h3>1928</h3><img src='http://commons.wikimedia.org/wiki/Special:FilePath/Ostap_Bender_Monument_in_Kharkiv.jpg?width=300'/><h1>Fundacja (powieść)</h1> <h3>Isaac Asimov</h3> <h3>1951</h3><img src=''/><h1>Fundacja i Imperium</h1> <h3>Isaac Asimov</h3> <h3>1952</h3><img src=''/><h1>Gambit turecki</h1> <h3>Boris Akunin</h3> <h3>1998</h3><img src=''/><h1>Głos Pana</h1> <h3>Stanisław Lem</h3> <h3>1968</h3><img src=''/><h1>Ich czworo</h1> <h3>Gabriela Zapolska</h3> <h3>1907</h3><img src=''/><h1>Inwazja z Aldebarana (zbiór opowiadań)</h1> <h3>Stanisław Lem</h3> <h3>1959</h3><img src=''/><h1>Kamienna małpa</h1> <h3>Jeffery Deaver</h3> <h3>2002</h3><img src=''/><h1>Katar (powieść)</h1> <h3>Stanisław Lem</h3> <h3>1976</h3><img src=''/><h1>Kochanek Śmierci</h1> <h3>Boris Akunin</h3> <h3>2001</h3><img src=''/><h1>Kochanka Śmierci</h1> <h3>Boris Akunin</h3> <h3>2001</h3><img src=''/><h1>Koronacja (powieść)</h1> <h3>Boris Akunin</h3> <h3>1999</h3><img src=''/><h1>Kot w stanie czystym</h1> <h3>Terry Pratchett</h3> <h3>1989</h3><img src=''/><h1>Koń i jego chłopiec</h1> <h3>Clive Staples Lewis</h3> <h3>1954</h3><img src=''/><h1>Księga robotów</h1> <h3>Stanisław Lem</h3> <h3>1961</h3><img src=''/><h1>Księgi narodu polskiego i pielgrzymstwa polskiego</h1> <h3>Adam Mickiewicz</h3> <h3>1832</h3><img src='http://commons.wikimedia.org/wiki/Special:FilePath/PL_Księgi_narodu_polskiego_i_pielgrzymstwa_polskiego_008.png?width=300'/><h1>Kuzynki</h1> <h3>Andrzej Pilipiuk</h3> <h3>2003</h3><img src=''/><h1>Lewa ręka ciemności</h1> <h3>Ursula K. Le Guin</h3> <h3>1969</h3><img src=''/><h1>Lewiatan (powieść)</h1> <h3>Boris Akunin</h3> <h3>1998</h3><img src=''/><h1>Mag (powieść J. Deavera)</h1> <h3>Jeffery Deaver</h3> <h3>2003</h3><img src=''/><h1>Maska (zbiór dzieł)</h1> <h3>Stanisław Lem</h3> <h3>1976</h3><img src=''/><h1>Niezwyciężony i inne opowiadania</h1> <h3>Stanisław Lem</h3> <h3>1964</h3><img src=''/><h1>Noc księżycowa</h1> <h3>Stanisław Lem</h3> <h3>1963</h3><img src=''/><h1>Ojcowie i dzieci</h1> <h3>Iwan Turgieniew</h3> <h3>0</h3><img src='http://commons.wikimedia.org/wiki/Special:FilePath/Otsy1880.jpg?width=300'/><h1>Pamiętnik znaleziony w wannie</h1> <h3>Stanisław Lem</h3> <h3>1961</h3><img src=''/><h1>Pieśń Lodu i Ognia</h1> <h3>George R. R. Martin</h3> <h3>1996</h3><img src=''/><h1>Podróże z Herodotem</h1> <h3>Ryszard Kapuściński</h3> <h3>2004</h3><img src=''/><h1>Polowanie (zbiór opowiadań)</h1> <h3>Stanisław Lem</h3> <h3>1965</h3><img src=''/><h1>Powtórka (zbiór dzieł)</h1> <h3>Stanisław Lem</h3> <h3>1979</h3><img src=''/><h1>Pożytek ze smoka</h1> <h3>Stanisław Lem</h3> <h3>1993</h3><img src=''/><h1>Preludium Fundacji</h1> <h3>Isaac Asimov</h3> <h3>1988</h3><img src=''/><h1>Radca stanu (powieść)</h1> <h3>Boris Akunin</h3> <h3>1998</h3><img src=''/><h1>Rasa drapieżców. Teksty ostatnie</h1> <h3>Stanisław Lem</h3> <h3>2006</h3><img src=''/><h1>Rilla ze Złotego Brzegu</h1> <h3>Lucy Maud Montgomery</h3> <h3>1921</h3><img src=''/><h1>Sen nocy letniej</h1> <h3>William Szekspir</h3> <h3>1600</h3><img src='http://commons.wikimedia.org/wiki/Special:FilePath/MND_title_page.jpg?width=300'/><h1>Sezam i inne opowiadania</h1> <h3>Stanisław Lem</h3> <h3>1954</h3><img src=''/><h1>Slavorum apostoli</h1> <h3>Jan Paweł II</h3> <h3>1985</h3><img src='http://commons.wikimedia.org/wiki/Special:FilePath/John_paul_2_coa.svg?width=300'/><h1>Summa technologiae</h1> <h3>Stanisław Lem</h3> <h3>1964</h3><img src=''/><h1>Tam gdzie spadają anioły</h1> <h3>Dorota Terakowska</h3> <h3>1998</h3><img src=''/><h1>Tomek u źródeł Amazonki</h1> <h3>Alfred Szklarski</h3> <h3>1967</h3><img src=''/><h1>Tomek w Gran Chaco</h1> <h3>Alfred Szklarski</h3> <h3>1987</h3><img src=''/><h1>Tomek w grobowcach faraonów</h1> <h3>Alfred Szklarski</h3> <h3>1994</h3><img src=''/><h1>Ut unum sint</h1> <h3>Jan Paweł II</h3> <h3>1995</h3><img src='http://commons.wikimedia.org/wiki/Special:FilePath/John_paul_2_coa.svg?width=300'/><h1>Veritatis splendor</h1> <h3>Jan Paweł II</h3> <h3>1993</h3><img src='http://commons.wikimedia.org/wiki/Special:FilePath/John_paul_2_coa.svg?width=300'/><h1>Walc stulecia</h1> <h3>Rafał A. Ziemkiewicz</h3> <h3>1998</h3><img src=''/><h1>Walet pikowy (powieść)</h1> <h3>Boris Akunin</h3> <h3>1998</h3><img src=''/><h1>Wampir Lestat</h1> <h3>Anne Rice</h3> <h3>1985</h3><img src=''/><h1>Wizja lokalna (powieść)</h1> <h3>Stanisław Lem</h3> <h3>1982</h3><img src=''/><h1>Wojna i pokój</h1> <h3>Lew Tołstoj</h3> <h3>1865</h3><img src='http://commons.wikimedia.org/wiki/Special:FilePath/War-and-peace_1873.gif?width=300'/><h1>Śmierć Achillesa</h1> <h3>Boris Akunin</h3> <h3>1998</h3><img src=''/><h1>Życie i przygody Remusa</h1> <h3>Aleksander Majkowski</h3> <h3>1938</h3><img src=''/><h1>Casino Royale (powieść)</h1> <h3>Ian Fleming</h3> <h3>1953</h3><img src=''/><h1>Cień kata</h1> <h3>Gene Wolfe</h3> <h3>1980</h3><img src=''/><h1>Czarnoksiężnik z Archipelagu</h1> <h3>Ursula K. Le Guin</h3> <h3>1968</h3><img src=''/><h1>Czarownica z Portobello</h1> <h3>Paulo Coelho</h3> <h3>2006</h3><img src=''/><h1>Czas patriotów (powieść)</h1> <h3>Tom Clancy</h3> <h3>1987</h3><img src=''/>\""
      ]
     },
     "execution_count": 16,
     "metadata": {},
     "output_type": "execute_result"
    }
   ],
   "source": [
    "def display_books(books)\n",
    "  \n",
    "  cos = \"\"\n",
    "  books.each do |book|\n",
    "  cos << \"<h1>#{book.title}</h1> <h3>#{book.author.name} #{book.author.surname}</h3> <h3>#{book.published}</h3><img src='#{book.image_url}'/>\"\n",
    "  end\n",
    "   cos  \n",
    "end\n",
    "  books = Book.all\n",
    "  document = display_books(books)\n",
    "IRuby.html document"
   ]
  },
  {
   "cell_type": "markdown",
   "metadata": {},
   "source": [
    "### Zadanie 10"
   ]
  },
  {
   "cell_type": "markdown",
   "metadata": {},
   "source": [
    "Wyświetl wszystkich autorów znajdujących się w bazie wraz z opisem zawierającym ich zdjęcie, datę urodzin i śmierci oraz spis \n",
    "opublikowanych książek. Pamiętaj o odpowiednim sformatowaniu dat oraz o tym, że nie wszyscy autorzy mają przypisane wszystkie\n",
    "informacje."
   ]
  },
  {
   "cell_type": "code",
   "execution_count": 80,
   "metadata": {
    "collapsed": false
   },
   "outputs": [
    {
     "data": {
      "text/html": [
       "<h1>Juliusz Słowacki</h1><h3> 1809-09-04</h3><img src=''/><ul></ul><h1>Henryk Sienkiewicz</h1><h3> 1846-05-05</h3><img src=''/><ul><li>Krzyżacy (powieść)<img src='http://commons.wikimedia.org/wiki/Special:FilePath/PL_Henryk_Sienkiewicz-Krzyżacy_0005.jpeg?width=300'/></li><li>Ogniem i mieczem<img src='http://commons.wikimedia.org/wiki/Special:FilePath/Podbipieta.JPG?width=300'/></li><li>Quo vadis<img src='http://commons.wikimedia.org/wiki/Special:FilePath/Rzym_popiersie_Sienkiewicza_w_kosciele_Domine_Quo_Vadis.JPG?width=300'/></li></ul><h1>Eliza Orzeszkowa</h1><h3> 1841-06-06</h3><img src=''/><ul><li>Nad Niemnem<img src='http://commons.wikimedia.org/wiki/Special:FilePath/Nad_Niemnem_-_manuscript.jpg?width=300'/></li></ul><h1>Adam Mickiewicz</h1><h3> 1798-12-24</h3><img src=''/><ul><li>Księgi narodu polskiego i pielgrzymstwa polskiego<img src='http://commons.wikimedia.org/wiki/Special:FilePath/PL_Księgi_narodu_polskiego_i_pielgrzymstwa_polskiego_008.png?width=300'/></li></ul><h1>Orson Scott Card</h1><h3> 1951-08-24</h3><img src='http://commons.wikimedia.org/wiki/Special:FilePath/Orson_Scott_Card_at_BYU_Symposium_20080216_closeup.jpg?width=300'/><ul><li>Végjáték (regény)<img src=''/></li></ul><h1>Andrzej Sapkowski</h1><h3> 1948-06-21</h3><img src='http://commons.wikimedia.org/wiki/Special:FilePath/Sapkowski.jpg?width=300'/><ul><li>Pani Jeziora (powieść)<img src=''/></li></ul><h1>Jack London</h1><h3> 1876-01-12</h3><img src='http://commons.wikimedia.org/wiki/Special:FilePath/JackLondon02.jpeg?width=300'/><ul><li>Bellew Zawierucha<img src=''/></li></ul><h1>Henning Mankell</h1><h3> 1948-02-03</h3><img src='http://commons.wikimedia.org/wiki/Special:FilePath/Henning_Mankell_3_2011_Shankbone.jpg?width=300'/><ul><li>Fałszywy trop (powieść)<img src=''/></li></ul><h1>Stanisław Lem</h1><h3> 1921-09-12</h3><img src='http://commons.wikimedia.org/wiki/Special:FilePath/Stanislaw_Lem_2.jpg?width=300'/><ul><li>Bajki robotów<img src=''/></li><li>Solaris (powieść)<img src='http://commons.wikimedia.org/wiki/Special:FilePath/Solaris,_various_editions_02.jpg?width=300'/></li><li>Bezsenność (zbiór opowiadań)<img src=''/></li><li>Głos Pana<img src=''/></li><li>Inwazja z Aldebarana (zbiór opowiadań)<img src=''/></li><li>Katar (powieść)<img src=''/></li><li>Księga robotów<img src=''/></li><li>Maska (zbiór dzieł)<img src=''/></li><li>Niezwyciężony i inne opowiadania<img src=''/></li><li>Noc księżycowa<img src=''/></li><li>Pamiętnik znaleziony w wannie<img src=''/></li><li>Polowanie (zbiór opowiadań)<img src=''/></li><li>Powtórka (zbiór dzieł)<img src=''/></li><li>Pożytek ze smoka<img src=''/></li><li>Rasa drapieżców. Teksty ostatnie<img src=''/></li><li>Sezam i inne opowiadania<img src=''/></li><li>Summa technologiae<img src=''/></li><li>Wizja lokalna (powieść)<img src=''/></li></ul><h1>Antoni Gołubiew</h1><h3> 1907-02-25</h3><img src='http://commons.wikimedia.org/wiki/Special:FilePath/Antoni_Golubiew.jpg?width=300'/><ul><li>Bolesław Chrobry (powieść)<img src=''/></li></ul><h1>Mikołaj Kopernik</h1><h3> 1473-02-19</h3><img src='http://commons.wikimedia.org/wiki/Special:FilePath/Nikolaus_Kopernikus.jpg?width=300'/><ul><li>De revolutionibus orbium coelestium<img src=''/></li></ul><h1>Maria Franciszka Kozłowska</h1><h3> 1862-05-27</h3><img src='http://commons.wikimedia.org/wiki/Special:FilePath/Mateczk_Kozłowska.JPG?width=300'/><ul><li>Dzieło Wielkiego Miłosierdzia<img src=''/></li></ul><h1>George Orwell</h1><h3> 1903-06-25</h3><img src='http://commons.wikimedia.org/wiki/Special:FilePath/GeoreOrwell.jpg?width=300'/><ul><li>Folwark zwierzęcy<img src='http://commons.wikimedia.org/wiki/Special:FilePath/Animalism_flag.svg?width=300'/></li><li>Droga na molo w Wigan<img src=''/></li></ul><h1>William Szekspir</h1><h3> 1564-04-23</h3><img src='http://commons.wikimedia.org/wiki/Special:FilePath/Shakespeare.jpg?width=300'/><ul><li>Hamlet<img src='http://commons.wikimedia.org/wiki/Special:FilePath/Hamlet_quarto_3rd.jpg?width=300'/></li><li>Romeo i Julia<img src='http://commons.wikimedia.org/wiki/Special:FilePath/Romeo_and_juliet_brown.jpg?width=300'/></li><li>Sen nocy letniej<img src='http://commons.wikimedia.org/wiki/Special:FilePath/MND_title_page.jpg?width=300'/></li></ul><h1>J. K. Rowling</h1><h3> 1965-07-31</h3><img src='http://commons.wikimedia.org/wiki/Special:FilePath/J._K._Rowling_2010.jpg?width=300'/><ul><li>Harry Potter<img src='http://commons.wikimedia.org/wiki/Special:FilePath/Harry_Potter_wordmark.svg?width=300'/></li></ul><h1>John Ronald Reuel Tolkien</h1><h3> 1892-01-03</h3><img src='http://commons.wikimedia.org/wiki/Special:FilePath/Tolkien_1916.jpg?width=300'/><ul><li>Hobbit, czyli tam i z powrotem<img src=''/></li><li>Silmarillion<img src='http://commons.wikimedia.org/wiki/Special:FilePath/Silmarrillion,_Just_under_the_Cover.jpg?width=300'/></li><li>Władca Pierścieni<img src='http://commons.wikimedia.org/wiki/Special:FilePath/Unico_Anello.png?width=300'/></li></ul><h1>Aleksander Dumas (ojciec)</h1><h3> 1802-07-24</h3><img src='http://commons.wikimedia.org/wiki/Special:FilePath/Dumas_by_Nadar,_1855.jpg?width=300'/><ul><li>Hrabia Monte Christo<img src='http://commons.wikimedia.org/wiki/Special:FilePath/Louis_Français-Dantès_sur_son_rocher.jpg?width=300'/></li></ul><h1>Tadeusz Dołęga-Mostowicz</h1><h3> 1898-08-10</h3><img src='http://commons.wikimedia.org/wiki/Special:FilePath/Tadeusz_Dolega-Mostowicz.jpg?width=300'/><ul><li>Kariera Nikodema Dyzmy<img src=''/></li></ul><h1>Vladimir Nabokov</h1><h3> 1899-04-22</h3><img src='http://commons.wikimedia.org/wiki/Special:FilePath/Monument_Nabokov_Montreux_23.12.2006.jpg?width=300'/><ul><li>Lolita<img src=''/></li></ul><h1>Adolf Hitler</h1><h3> 1889-04-20</h3><img src='http://commons.wikimedia.org/wiki/Special:FilePath/Hitler_portrait_crop.jpg?width=300'/><ul><li>Mein Kampf<img src='http://commons.wikimedia.org/wiki/Special:FilePath/Landsberg.Jail.jpg?width=300'/></li></ul><h1>Christopher Tolkien</h1><h3> 1924-11-21</h3><img src=''/><ul><li>Niedokończone opowieści<img src=''/></li></ul><h1>Benedykt Chmielowski</h1><h3> 1700-03-20</h3><img src='http://commons.wikimedia.org/wiki/Special:FilePath/POL_COA_Nałęcz.svg?width=300'/><ul><li>Nowe Ateny<img src='http://commons.wikimedia.org/wiki/Special:FilePath/Nowe_ateny1.jpg?width=300'/></li></ul><h1>Aldous Huxley</h1><h3> 1894-07-26</h3><img src='http://commons.wikimedia.org/wiki/Special:FilePath/Aldous_Huxley.JPG?width=300'/><ul><li>Nowy wspaniały świat<img src=''/></li></ul><h1>Honoré de Balzac</h1><h3> 1799-05-20</h3><img src='http://commons.wikimedia.org/wiki/Special:FilePath/HBalzac.jpg?width=300'/><ul><li>Ojciec Goriot<img src='http://commons.wikimedia.org/wiki/Special:FilePath/Father_Goriot_by_H._Daumier_(1842).JPG?width=300'/></li></ul><h1>Franz Kafka</h1><h3> 1883-07-03</h3><img src='http://commons.wikimedia.org/wiki/Special:FilePath/Kafka1906.jpg?width=300'/><ul><li>Proces (powieść)<img src='http://commons.wikimedia.org/wiki/Special:FilePath/Kafka_Der_Prozess_1925.jpg?width=300'/></li></ul><h1>Jan Kochanowski</h1><h3> </h3><img src='http://commons.wikimedia.org/wiki/Special:FilePath/Jan_Kochanowski.png?width=300'/><ul><li>Psałterz Dawidów<img src='http://commons.wikimedia.org/wiki/Special:FilePath/Kochanowski_-_Psałterz_Dawidów_(1579).jpg?width=300'/></li></ul><h1>Howard Phillips Lovecraft</h1><h3> 1890-08-20</h3><img src='http://commons.wikimedia.org/wiki/Special:FilePath/Howard_Phillips_Lovecraft_in_1915.jpg?width=300'/><ul><li>Zew Cthulhu (opowiadanie)<img src=''/></li></ul><h1>Karol Olgierd Borchardt</h1><h3> 1905-03-25</h3><img src='http://commons.wikimedia.org/wiki/Special:FilePath/Karol_Olgierd_Borchardt's_house_in_Gdynia.jpg?width=300'/><ul><li>Znaczy Kapitan<img src=''/></li></ul><h1>Lew Tołstoj</h1><h3> 1828-09-09</h3><img src='http://commons.wikimedia.org/wiki/Special:FilePath/Ilya_Efimovich_Repin_(1844-1930)_-_Portrait_of_Leo_Tolstoy_(1887).jpg?width=300'/><ul><li>Anna Karenina<img src='http://commons.wikimedia.org/wiki/Special:FilePath/AnnaKareninaTitle.jpg?width=300'/></li><li>Wojna i pokój<img src='http://commons.wikimedia.org/wiki/Special:FilePath/War-and-peace_1873.gif?width=300'/></li></ul><h1>Boris Akunin</h1><h3> 1956-05-20</h3><img src='http://commons.wikimedia.org/wiki/Special:FilePath/Boris_Akunin_2012.jpg?width=300'/><ul><li>Azazel (powieść)<img src=''/></li><li>Dekorator<img src=''/></li><li>Diamentowa karoca<img src=''/></li><li>Gambit turecki<img src=''/></li><li>Kochanek Śmierci<img src=''/></li><li>Kochanka Śmierci<img src=''/></li><li>Koronacja (powieść)<img src=''/></li><li>Lewiatan (powieść)<img src=''/></li><li>Radca stanu (powieść)<img src=''/></li><li>Walet pikowy (powieść)<img src=''/></li><li>Śmierć Achillesa<img src=''/></li></ul><h1>Janusz Zajdel</h1><h3> 1938-08-15</h3><img src='http://commons.wikimedia.org/wiki/Special:FilePath/Janusz_A_Zajdel.jpg?width=300'/><ul><li>Cała prawda o planecie Ksi<img src=''/></li></ul><h1>Jan Paweł II</h1><h3> 1920-05-18</h3><img src='http://commons.wikimedia.org/wiki/Special:FilePath/John_Paul_II_Medal_of_Freedom_2004.jpg?width=300'/><ul><li>Dives in misericordia<img src='http://commons.wikimedia.org/wiki/Special:FilePath/John_paul_2_coa.svg?width=300'/></li><li>Slavorum apostoli<img src='http://commons.wikimedia.org/wiki/Special:FilePath/John_paul_2_coa.svg?width=300'/></li><li>Ut unum sint<img src='http://commons.wikimedia.org/wiki/Special:FilePath/John_paul_2_coa.svg?width=300'/></li><li>Veritatis splendor<img src='http://commons.wikimedia.org/wiki/Special:FilePath/John_paul_2_coa.svg?width=300'/></li></ul><h1>Isaac Asimov</h1><h3> 1919-10-04</h3><img src='http://commons.wikimedia.org/wiki/Special:FilePath/Isaac.Asimov01.jpg?width=300'/><ul><li>Druga Fundacja<img src=''/></li><li>Fundacja (powieść)<img src=''/></li><li>Fundacja i Imperium<img src=''/></li><li>Preludium Fundacji<img src=''/></li></ul><h1>Ilja Ilf</h1><h3> 1897-10-15</h3><img src='http://commons.wikimedia.org/wiki/Special:FilePath/Ilya_Ilf.jpg?width=300'/><ul><li>Dwanaście krzeseł<img src='http://commons.wikimedia.org/wiki/Special:FilePath/Ostap_Bender_Monument_in_Kharkiv.jpg?width=300'/></li></ul><h1>Jewgienij Pietrow (pisarz)</h1><h3> 1903-12-13</h3><img src='http://commons.wikimedia.org/wiki/Special:FilePath/Yevgeny_Petrov.jpg?width=300'/><ul></ul><h1>Gabriela Zapolska</h1><h3> 1857-03-30</h3><img src='http://commons.wikimedia.org/wiki/Special:FilePath/Gabriela_Zapolska.PNG?width=300'/><ul><li>Ich czworo<img src=''/></li></ul><h1>Jeffery Deaver</h1><h3> 1950-05-06</h3><img src='http://commons.wikimedia.org/wiki/Special:FilePath/Jeffery_Deaver_October_2006.jpg?width=300'/><ul><li>Kamienna małpa<img src=''/></li><li>Mag (powieść J. Deavera)<img src=''/></li></ul><h1>Terry Pratchett</h1><h3> 1948-04-28</h3><img src='http://commons.wikimedia.org/wiki/Special:FilePath/Terry_Pratchett,_September_2009_1.jpg?width=300'/><ul><li>Kot w stanie czystym<img src=''/></li></ul><h1>Clive Staples Lewis</h1><h3> 1898-11-29</h3><img src='http://commons.wikimedia.org/wiki/Special:FilePath/Statue_of_C.S._Lewis,_Belfast.jpg?width=300'/><ul><li>Koń i jego chłopiec<img src=''/></li></ul><h1>Andrzej Pilipiuk</h1><h3> 1974-03-20</h3><img src='http://commons.wikimedia.org/wiki/Special:FilePath/Andrzej_Pilipiuk-Polcon2006.jpg?width=300'/><ul><li>Kuzynki<img src=''/></li></ul><h1>Ursula K. Le Guin</h1><h3> 1929-10-21</h3><img src='http://commons.wikimedia.org/wiki/Special:FilePath/UrsulaLeGuin.01.jpg?width=300'/><ul><li>Lewa ręka ciemności<img src=''/></li><li>Czarnoksiężnik z Archipelagu<img src=''/></li></ul><h1>Iwan Turgieniew</h1><h3> 1818-11-09</h3><img src='http://commons.wikimedia.org/wiki/Special:FilePath/Turgenev_by_Repin.jpg?width=300'/><ul><li>Ojcowie i dzieci<img src='http://commons.wikimedia.org/wiki/Special:FilePath/Otsy1880.jpg?width=300'/></li></ul><h1>George R. R. Martin</h1><h3> 1948-09-20</h3><img src='http://commons.wikimedia.org/wiki/Special:FilePath/George_R_R_Martin_2011_Shankbone.JPG?width=300'/><ul><li>Pieśń Lodu i Ognia<img src=''/></li></ul><h1>Ryszard Kapuściński</h1><h3> 1932-03-04</h3><img src='http://commons.wikimedia.org/wiki/Special:FilePath/Ryszard_Kapuscinski_by_Kubik_17.05.1997_-_cropped.jpg?width=300'/><ul><li>Podróże z Herodotem<img src=''/></li></ul><h1>Lucy Maud Montgomery</h1><h3> 1874-11-30</h3><img src='http://commons.wikimedia.org/wiki/Special:FilePath/Lucy_Maud_Montgomery.JPG?width=300'/><ul><li>Rilla ze Złotego Brzegu<img src=''/></li></ul><h1>Dorota Terakowska</h1><h3> 1938-08-30</h3><img src='http://commons.wikimedia.org/wiki/Special:FilePath/Dorota_Terakowska_grob.jpg?width=300'/><ul><li>Tam gdzie spadają anioły<img src=''/></li></ul><h1>Alfred Szklarski</h1><h3> 1912-01-21</h3><img src='http://commons.wikimedia.org/wiki/Special:FilePath/Katowice_-_pomnik_Alfred_Szklarski.JPG?width=300'/><ul><li>Tomek u źródeł Amazonki<img src=''/></li><li>Tomek w Gran Chaco<img src=''/></li><li>Tomek w grobowcach faraonów<img src=''/></li></ul><h1>Adam Zelga</h1><h3> 1953-03-11</h3><img src=''/><ul></ul><h1>Rafał A. Ziemkiewicz</h1><h3> 1964-09-13</h3><img src='http://commons.wikimedia.org/wiki/Special:FilePath/Rafał_Ziemkiewicz.jpg?width=300'/><ul><li>Walc stulecia<img src=''/></li></ul><h1>Anne Rice</h1><h3> 1941-10-04</h3><img src='http://commons.wikimedia.org/wiki/Special:FilePath/Anne_Rice.jpg?width=300'/><ul><li>Wampir Lestat<img src=''/></li></ul><h1>Aleksander Majkowski</h1><h3> 1876-07-17</h3><img src='http://commons.wikimedia.org/wiki/Special:FilePath/POL_Polonia_Restituta_Oficerski_BAR.svg?width=300'/><ul><li>Życie i przygody Remusa<img src=''/></li></ul><h1>Ian Fleming</h1><h3> 1908-05-28</h3><img src='http://commons.wikimedia.org/wiki/Special:FilePath/For_Your_Eyes_Only.jpg?width=300'/><ul><li>Casino Royale (powieść)<img src=''/></li></ul><h1>Gene Wolfe</h1><h3> 1931-05-07</h3><img src='http://commons.wikimedia.org/wiki/Special:FilePath/Gene_Wolfe,_2005.png?width=300'/><ul><li>Cień kata<img src=''/></li></ul><h1>Paulo Coelho</h1><h3> 1947-08-24</h3><img src='http://commons.wikimedia.org/wiki/Special:FilePath/Paulo_Coelho_nrkbeta.jpg?width=300'/><ul><li>Czarownica z Portobello<img src=''/></li></ul><h1>Tom Clancy</h1><h3> 1947-04-12</h3><img src='http://commons.wikimedia.org/wiki/Special:FilePath/Tom_Clancy_at_Burns_Library_cropped.jpg?width=300'/><ul><li>Czas patriotów (powieść)<img src=''/></li></ul>"
      ],
      "text/plain": [
       "\"<h1>Juliusz Słowacki</h1><h3> 1809-09-04</h3><img src=''/><ul></ul><h1>Henryk Sienkiewicz</h1><h3> 1846-05-05</h3><img src=''/><ul><li>Krzyżacy (powieść)<img src='http://commons.wikimedia.org/wiki/Special:FilePath/PL_Henryk_Sienkiewicz-Krzyżacy_0005.jpeg?width=300'/></li><li>Ogniem i mieczem<img src='http://commons.wikimedia.org/wiki/Special:FilePath/Podbipieta.JPG?width=300'/></li><li>Quo vadis<img src='http://commons.wikimedia.org/wiki/Special:FilePath/Rzym_popiersie_Sienkiewicza_w_kosciele_Domine_Quo_Vadis.JPG?width=300'/></li></ul><h1>Eliza Orzeszkowa</h1><h3> 1841-06-06</h3><img src=''/><ul><li>Nad Niemnem<img src='http://commons.wikimedia.org/wiki/Special:FilePath/Nad_Niemnem_-_manuscript.jpg?width=300'/></li></ul><h1>Adam Mickiewicz</h1><h3> 1798-12-24</h3><img src=''/><ul><li>Księgi narodu polskiego i pielgrzymstwa polskiego<img src='http://commons.wikimedia.org/wiki/Special:FilePath/PL_Księgi_narodu_polskiego_i_pielgrzymstwa_polskiego_008.png?width=300'/></li></ul><h1>Orson Scott Card</h1><h3> 1951-08-24</h3><img src='http://commons.wikimedia.org/wiki/Special:FilePath/Orson_Scott_Card_at_BYU_Symposium_20080216_closeup.jpg?width=300'/><ul><li>Végjáték (regény)<img src=''/></li></ul><h1>Andrzej Sapkowski</h1><h3> 1948-06-21</h3><img src='http://commons.wikimedia.org/wiki/Special:FilePath/Sapkowski.jpg?width=300'/><ul><li>Pani Jeziora (powieść)<img src=''/></li></ul><h1>Jack London</h1><h3> 1876-01-12</h3><img src='http://commons.wikimedia.org/wiki/Special:FilePath/JackLondon02.jpeg?width=300'/><ul><li>Bellew Zawierucha<img src=''/></li></ul><h1>Henning Mankell</h1><h3> 1948-02-03</h3><img src='http://commons.wikimedia.org/wiki/Special:FilePath/Henning_Mankell_3_2011_Shankbone.jpg?width=300'/><ul><li>Fałszywy trop (powieść)<img src=''/></li></ul><h1>Stanisław Lem</h1><h3> 1921-09-12</h3><img src='http://commons.wikimedia.org/wiki/Special:FilePath/Stanislaw_Lem_2.jpg?width=300'/><ul><li>Bajki robotów<img src=''/></li><li>Solaris (powieść)<img src='http://commons.wikimedia.org/wiki/Special:FilePath/Solaris,_various_editions_02.jpg?width=300'/></li><li>Bezsenność (zbiór opowiadań)<img src=''/></li><li>Głos Pana<img src=''/></li><li>Inwazja z Aldebarana (zbiór opowiadań)<img src=''/></li><li>Katar (powieść)<img src=''/></li><li>Księga robotów<img src=''/></li><li>Maska (zbiór dzieł)<img src=''/></li><li>Niezwyciężony i inne opowiadania<img src=''/></li><li>Noc księżycowa<img src=''/></li><li>Pamiętnik znaleziony w wannie<img src=''/></li><li>Polowanie (zbiór opowiadań)<img src=''/></li><li>Powtórka (zbiór dzieł)<img src=''/></li><li>Pożytek ze smoka<img src=''/></li><li>Rasa drapieżców. Teksty ostatnie<img src=''/></li><li>Sezam i inne opowiadania<img src=''/></li><li>Summa technologiae<img src=''/></li><li>Wizja lokalna (powieść)<img src=''/></li></ul><h1>Antoni Gołubiew</h1><h3> 1907-02-25</h3><img src='http://commons.wikimedia.org/wiki/Special:FilePath/Antoni_Golubiew.jpg?width=300'/><ul><li>Bolesław Chrobry (powieść)<img src=''/></li></ul><h1>Mikołaj Kopernik</h1><h3> 1473-02-19</h3><img src='http://commons.wikimedia.org/wiki/Special:FilePath/Nikolaus_Kopernikus.jpg?width=300'/><ul><li>De revolutionibus orbium coelestium<img src=''/></li></ul><h1>Maria Franciszka Kozłowska</h1><h3> 1862-05-27</h3><img src='http://commons.wikimedia.org/wiki/Special:FilePath/Mateczk_Kozłowska.JPG?width=300'/><ul><li>Dzieło Wielkiego Miłosierdzia<img src=''/></li></ul><h1>George Orwell</h1><h3> 1903-06-25</h3><img src='http://commons.wikimedia.org/wiki/Special:FilePath/GeoreOrwell.jpg?width=300'/><ul><li>Folwark zwierzęcy<img src='http://commons.wikimedia.org/wiki/Special:FilePath/Animalism_flag.svg?width=300'/></li><li>Droga na molo w Wigan<img src=''/></li></ul><h1>William Szekspir</h1><h3> 1564-04-23</h3><img src='http://commons.wikimedia.org/wiki/Special:FilePath/Shakespeare.jpg?width=300'/><ul><li>Hamlet<img src='http://commons.wikimedia.org/wiki/Special:FilePath/Hamlet_quarto_3rd.jpg?width=300'/></li><li>Romeo i Julia<img src='http://commons.wikimedia.org/wiki/Special:FilePath/Romeo_and_juliet_brown.jpg?width=300'/></li><li>Sen nocy letniej<img src='http://commons.wikimedia.org/wiki/Special:FilePath/MND_title_page.jpg?width=300'/></li></ul><h1>J. K. Rowling</h1><h3> 1965-07-31</h3><img src='http://commons.wikimedia.org/wiki/Special:FilePath/J._K._Rowling_2010.jpg?width=300'/><ul><li>Harry Potter<img src='http://commons.wikimedia.org/wiki/Special:FilePath/Harry_Potter_wordmark.svg?width=300'/></li></ul><h1>John Ronald Reuel Tolkien</h1><h3> 1892-01-03</h3><img src='http://commons.wikimedia.org/wiki/Special:FilePath/Tolkien_1916.jpg?width=300'/><ul><li>Hobbit, czyli tam i z powrotem<img src=''/></li><li>Silmarillion<img src='http://commons.wikimedia.org/wiki/Special:FilePath/Silmarrillion,_Just_under_the_Cover.jpg?width=300'/></li><li>Władca Pierścieni<img src='http://commons.wikimedia.org/wiki/Special:FilePath/Unico_Anello.png?width=300'/></li></ul><h1>Aleksander Dumas (ojciec)</h1><h3> 1802-07-24</h3><img src='http://commons.wikimedia.org/wiki/Special:FilePath/Dumas_by_Nadar,_1855.jpg?width=300'/><ul><li>Hrabia Monte Christo<img src='http://commons.wikimedia.org/wiki/Special:FilePath/Louis_Français-Dantès_sur_son_rocher.jpg?width=300'/></li></ul><h1>Tadeusz Dołęga-Mostowicz</h1><h3> 1898-08-10</h3><img src='http://commons.wikimedia.org/wiki/Special:FilePath/Tadeusz_Dolega-Mostowicz.jpg?width=300'/><ul><li>Kariera Nikodema Dyzmy<img src=''/></li></ul><h1>Vladimir Nabokov</h1><h3> 1899-04-22</h3><img src='http://commons.wikimedia.org/wiki/Special:FilePath/Monument_Nabokov_Montreux_23.12.2006.jpg?width=300'/><ul><li>Lolita<img src=''/></li></ul><h1>Adolf Hitler</h1><h3> 1889-04-20</h3><img src='http://commons.wikimedia.org/wiki/Special:FilePath/Hitler_portrait_crop.jpg?width=300'/><ul><li>Mein Kampf<img src='http://commons.wikimedia.org/wiki/Special:FilePath/Landsberg.Jail.jpg?width=300'/></li></ul><h1>Christopher Tolkien</h1><h3> 1924-11-21</h3><img src=''/><ul><li>Niedokończone opowieści<img src=''/></li></ul><h1>Benedykt Chmielowski</h1><h3> 1700-03-20</h3><img src='http://commons.wikimedia.org/wiki/Special:FilePath/POL_COA_Nałęcz.svg?width=300'/><ul><li>Nowe Ateny<img src='http://commons.wikimedia.org/wiki/Special:FilePath/Nowe_ateny1.jpg?width=300'/></li></ul><h1>Aldous Huxley</h1><h3> 1894-07-26</h3><img src='http://commons.wikimedia.org/wiki/Special:FilePath/Aldous_Huxley.JPG?width=300'/><ul><li>Nowy wspaniały świat<img src=''/></li></ul><h1>Honoré de Balzac</h1><h3> 1799-05-20</h3><img src='http://commons.wikimedia.org/wiki/Special:FilePath/HBalzac.jpg?width=300'/><ul><li>Ojciec Goriot<img src='http://commons.wikimedia.org/wiki/Special:FilePath/Father_Goriot_by_H._Daumier_(1842).JPG?width=300'/></li></ul><h1>Franz Kafka</h1><h3> 1883-07-03</h3><img src='http://commons.wikimedia.org/wiki/Special:FilePath/Kafka1906.jpg?width=300'/><ul><li>Proces (powieść)<img src='http://commons.wikimedia.org/wiki/Special:FilePath/Kafka_Der_Prozess_1925.jpg?width=300'/></li></ul><h1>Jan Kochanowski</h1><h3> </h3><img src='http://commons.wikimedia.org/wiki/Special:FilePath/Jan_Kochanowski.png?width=300'/><ul><li>Psałterz Dawidów<img src='http://commons.wikimedia.org/wiki/Special:FilePath/Kochanowski_-_Psałterz_Dawidów_(1579).jpg?width=300'/></li></ul><h1>Howard Phillips Lovecraft</h1><h3> 1890-08-20</h3><img src='http://commons.wikimedia.org/wiki/Special:FilePath/Howard_Phillips_Lovecraft_in_1915.jpg?width=300'/><ul><li>Zew Cthulhu (opowiadanie)<img src=''/></li></ul><h1>Karol Olgierd Borchardt</h1><h3> 1905-03-25</h3><img src='http://commons.wikimedia.org/wiki/Special:FilePath/Karol_Olgierd_Borchardt's_house_in_Gdynia.jpg?width=300'/><ul><li>Znaczy Kapitan<img src=''/></li></ul><h1>Lew Tołstoj</h1><h3> 1828-09-09</h3><img src='http://commons.wikimedia.org/wiki/Special:FilePath/Ilya_Efimovich_Repin_(1844-1930)_-_Portrait_of_Leo_Tolstoy_(1887).jpg?width=300'/><ul><li>Anna Karenina<img src='http://commons.wikimedia.org/wiki/Special:FilePath/AnnaKareninaTitle.jpg?width=300'/></li><li>Wojna i pokój<img src='http://commons.wikimedia.org/wiki/Special:FilePath/War-and-peace_1873.gif?width=300'/></li></ul><h1>Boris Akunin</h1><h3> 1956-05-20</h3><img src='http://commons.wikimedia.org/wiki/Special:FilePath/Boris_Akunin_2012.jpg?width=300'/><ul><li>Azazel (powieść)<img src=''/></li><li>Dekorator<img src=''/></li><li>Diamentowa karoca<img src=''/></li><li>Gambit turecki<img src=''/></li><li>Kochanek Śmierci<img src=''/></li><li>Kochanka Śmierci<img src=''/></li><li>Koronacja (powieść)<img src=''/></li><li>Lewiatan (powieść)<img src=''/></li><li>Radca stanu (powieść)<img src=''/></li><li>Walet pikowy (powieść)<img src=''/></li><li>Śmierć Achillesa<img src=''/></li></ul><h1>Janusz Zajdel</h1><h3> 1938-08-15</h3><img src='http://commons.wikimedia.org/wiki/Special:FilePath/Janusz_A_Zajdel.jpg?width=300'/><ul><li>Cała prawda o planecie Ksi<img src=''/></li></ul><h1>Jan Paweł II</h1><h3> 1920-05-18</h3><img src='http://commons.wikimedia.org/wiki/Special:FilePath/John_Paul_II_Medal_of_Freedom_2004.jpg?width=300'/><ul><li>Dives in misericordia<img src='http://commons.wikimedia.org/wiki/Special:FilePath/John_paul_2_coa.svg?width=300'/></li><li>Slavorum apostoli<img src='http://commons.wikimedia.org/wiki/Special:FilePath/John_paul_2_coa.svg?width=300'/></li><li>Ut unum sint<img src='http://commons.wikimedia.org/wiki/Special:FilePath/John_paul_2_coa.svg?width=300'/></li><li>Veritatis splendor<img src='http://commons.wikimedia.org/wiki/Special:FilePath/John_paul_2_coa.svg?width=300'/></li></ul><h1>Isaac Asimov</h1><h3> 1919-10-04</h3><img src='http://commons.wikimedia.org/wiki/Special:FilePath/Isaac.Asimov01.jpg?width=300'/><ul><li>Druga Fundacja<img src=''/></li><li>Fundacja (powieść)<img src=''/></li><li>Fundacja i Imperium<img src=''/></li><li>Preludium Fundacji<img src=''/></li></ul><h1>Ilja Ilf</h1><h3> 1897-10-15</h3><img src='http://commons.wikimedia.org/wiki/Special:FilePath/Ilya_Ilf.jpg?width=300'/><ul><li>Dwanaście krzeseł<img src='http://commons.wikimedia.org/wiki/Special:FilePath/Ostap_Bender_Monument_in_Kharkiv.jpg?width=300'/></li></ul><h1>Jewgienij Pietrow (pisarz)</h1><h3> 1903-12-13</h3><img src='http://commons.wikimedia.org/wiki/Special:FilePath/Yevgeny_Petrov.jpg?width=300'/><ul></ul><h1>Gabriela Zapolska</h1><h3> 1857-03-30</h3><img src='http://commons.wikimedia.org/wiki/Special:FilePath/Gabriela_Zapolska.PNG?width=300'/><ul><li>Ich czworo<img src=''/></li></ul><h1>Jeffery Deaver</h1><h3> 1950-05-06</h3><img src='http://commons.wikimedia.org/wiki/Special:FilePath/Jeffery_Deaver_October_2006.jpg?width=300'/><ul><li>Kamienna małpa<img src=''/></li><li>Mag (powieść J. Deavera)<img src=''/></li></ul><h1>Terry Pratchett</h1><h3> 1948-04-28</h3><img src='http://commons.wikimedia.org/wiki/Special:FilePath/Terry_Pratchett,_September_2009_1.jpg?width=300'/><ul><li>Kot w stanie czystym<img src=''/></li></ul><h1>Clive Staples Lewis</h1><h3> 1898-11-29</h3><img src='http://commons.wikimedia.org/wiki/Special:FilePath/Statue_of_C.S._Lewis,_Belfast.jpg?width=300'/><ul><li>Koń i jego chłopiec<img src=''/></li></ul><h1>Andrzej Pilipiuk</h1><h3> 1974-03-20</h3><img src='http://commons.wikimedia.org/wiki/Special:FilePath/Andrzej_Pilipiuk-Polcon2006.jpg?width=300'/><ul><li>Kuzynki<img src=''/></li></ul><h1>Ursula K. Le Guin</h1><h3> 1929-10-21</h3><img src='http://commons.wikimedia.org/wiki/Special:FilePath/UrsulaLeGuin.01.jpg?width=300'/><ul><li>Lewa ręka ciemności<img src=''/></li><li>Czarnoksiężnik z Archipelagu<img src=''/></li></ul><h1>Iwan Turgieniew</h1><h3> 1818-11-09</h3><img src='http://commons.wikimedia.org/wiki/Special:FilePath/Turgenev_by_Repin.jpg?width=300'/><ul><li>Ojcowie i dzieci<img src='http://commons.wikimedia.org/wiki/Special:FilePath/Otsy1880.jpg?width=300'/></li></ul><h1>George R. R. Martin</h1><h3> 1948-09-20</h3><img src='http://commons.wikimedia.org/wiki/Special:FilePath/George_R_R_Martin_2011_Shankbone.JPG?width=300'/><ul><li>Pieśń Lodu i Ognia<img src=''/></li></ul><h1>Ryszard Kapuściński</h1><h3> 1932-03-04</h3><img src='http://commons.wikimedia.org/wiki/Special:FilePath/Ryszard_Kapuscinski_by_Kubik_17.05.1997_-_cropped.jpg?width=300'/><ul><li>Podróże z Herodotem<img src=''/></li></ul><h1>Lucy Maud Montgomery</h1><h3> 1874-11-30</h3><img src='http://commons.wikimedia.org/wiki/Special:FilePath/Lucy_Maud_Montgomery.JPG?width=300'/><ul><li>Rilla ze Złotego Brzegu<img src=''/></li></ul><h1>Dorota Terakowska</h1><h3> 1938-08-30</h3><img src='http://commons.wikimedia.org/wiki/Special:FilePath/Dorota_Terakowska_grob.jpg?width=300'/><ul><li>Tam gdzie spadają anioły<img src=''/></li></ul><h1>Alfred Szklarski</h1><h3> 1912-01-21</h3><img src='http://commons.wikimedia.org/wiki/Special:FilePath/Katowice_-_pomnik_Alfred_Szklarski.JPG?width=300'/><ul><li>Tomek u źródeł Amazonki<img src=''/></li><li>Tomek w Gran Chaco<img src=''/></li><li>Tomek w grobowcach faraonów<img src=''/></li></ul><h1>Adam Zelga</h1><h3> 1953-03-11</h3><img src=''/><ul></ul><h1>Rafał A. Ziemkiewicz</h1><h3> 1964-09-13</h3><img src='http://commons.wikimedia.org/wiki/Special:FilePath/Rafał_Ziemkiewicz.jpg?width=300'/><ul><li>Walc stulecia<img src=''/></li></ul><h1>Anne Rice</h1><h3> 1941-10-04</h3><img src='http://commons.wikimedia.org/wiki/Special:FilePath/Anne_Rice.jpg?width=300'/><ul><li>Wampir Lestat<img src=''/></li></ul><h1>Aleksander Majkowski</h1><h3> 1876-07-17</h3><img src='http://commons.wikimedia.org/wiki/Special:FilePath/POL_Polonia_Restituta_Oficerski_BAR.svg?width=300'/><ul><li>Życie i przygody Remusa<img src=''/></li></ul><h1>Ian Fleming</h1><h3> 1908-05-28</h3><img src='http://commons.wikimedia.org/wiki/Special:FilePath/For_Your_Eyes_Only.jpg?width=300'/><ul><li>Casino Royale (powieść)<img src=''/></li></ul><h1>Gene Wolfe</h1><h3> 1931-05-07</h3><img src='http://commons.wikimedia.org/wiki/Special:FilePath/Gene_Wolfe,_2005.png?width=300'/><ul><li>Cień kata<img src=''/></li></ul><h1>Paulo Coelho</h1><h3> 1947-08-24</h3><img src='http://commons.wikimedia.org/wiki/Special:FilePath/Paulo_Coelho_nrkbeta.jpg?width=300'/><ul><li>Czarownica z Portobello<img src=''/></li></ul><h1>Tom Clancy</h1><h3> 1947-04-12</h3><img src='http://commons.wikimedia.org/wiki/Special:FilePath/Tom_Clancy_at_Burns_Library_cropped.jpg?width=300'/><ul><li>Czas patriotów (powieść)<img src=''/></li></ul>\""
      ]
     },
     "execution_count": 80,
     "metadata": {},
     "output_type": "execute_result"
    }
   ],
   "source": [
    "def display_author(author)\n",
    "  document = \"<h1>#{author.name} #{author.surname}</h1><h3> #{author.born}</h3><img src='#{author.image_url}'/>\"\n",
    "  document << \"<ul>\"\n",
    "  author.books.each do |book|\n",
    "    document << \"<li>#{book.title}<img src='#{book.image_url}'/></li>\"\n",
    "  end\n",
    "  document << \"</ul>\"\n",
    "end\n",
    "\n",
    "authors = Author.all\n",
    "document = ''\n",
    "authors.each do |author|\n",
    "  document += display_author(author)\n",
    "end\n",
    "IRuby.html document"
   ]
  }
 ],
 "metadata": {
  "kernelspec": {
   "display_name": "Ruby 2.2.3",
   "language": "ruby",
   "name": "ruby"
  },
  "language_info": {
   "file_extension": "rb",
   "mimetype": "application/x-ruby",
   "name": "ruby",
   "version": "2.2.3"
  }
 },
 "nbformat": 4,
 "nbformat_minor": 0
}
